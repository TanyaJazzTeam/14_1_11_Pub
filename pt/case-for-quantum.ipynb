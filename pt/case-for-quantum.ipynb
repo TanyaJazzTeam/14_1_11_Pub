{
  "cells": [
    {
      "cell_type": "markdown",
      "metadata": {
        "tags": [
          "remove_cell"
        ]
      },
      "source": [
        "# O caso dos computadores quânticos"
      ]
    },
    {
      "cell_type": "markdown",
      "metadata": {
      },
      "source": [
        "## 1. A complexidade da adição<a id=\"adding\"></a>\n",
        "\n",
        "O caso dos computadores quânticos, simplesmente, é que eles podem resolver certos problemas que nenhum computador clássico jamais conseguiu. Para entender por que isso ocorre, primeiro precisamos considerar quanto esforço computacional é necessário para resolver determinados problemas.\n",
        "\n",
        "Para começar, podemos revisitar o algoritmo considerado na primeira seção: somar dois números.\n",
        "\n",
        "```code\n",
        "   9213\n",
        "+  1854\n",
        "=  ????\n",
        "```\n",
        "\n",
        "A adição de dois números de $n$ dígitos pode ser feita com um conjunto de operações simples, cada uma das quais consiste em apenas adicionar dois números de um dígito. Para analisar a complexidade do procedimento, podemos pensar em quantos desses acréscimos básicos são necessários e como esse número depende de $n$. Vamos nos referir a esse número como $c(n)$.\n",
        "\n",
        "No caso mais fácil, onde não precisamos carregar um 1 em nenhum ponto, apenas $n$ adições básicas são necessárias. No pior caso, precisaremos realizar operações de carry $n$, cada uma das quais exigirá uma adição básica extra. A partir dessas considerações, podemos concluir que $n \\leq c(n) \\leq 2n$.\n",
        "\n",
        "## 2. Notação O Grande<a id=\"big-o\"></a>\n",
        "\n",
        "Podemos resumir esse resultado dizendo que $c(n)$ cresce linearmente com $n$. De forma mais geral, podemos dizer que uma função linear de $n$ pode ser encontrada, a qual atua como um limite superior para $c(n)$ quando $n$ é grande. Como esta é uma frase longa e cheia de palavras, não queremos dizer isso com muita frequência. Em vez disso, podemos expressá-lo de forma mais compacta usando 'grande notação O'.\n",
        "\n",
        "<!-- ::: q-block.reminder -->\n",
        "\n",
        "## Lembretes\n",
        "\n",
        "<summary>notação O grande</summary> Para algumas funções de exemplo $f(x)$ e $g(x)$ e parâmetro $x$, a declaração $f(x) = O(g(x))$ significa que existem alguns números finitos $M&gt;0 $ e $x_0$ tal que <code data-md-type=\"part_formula\" class=\"part_formula\">$$ f(x) \\leq M g(x) \\forall x&gt;x_0. $$</code>\n",
        "\n",
        "<!-- ::: -->\n",
        "\n",
        "A notação Big O é útil, pois permite comparar como os recursos/tempo de execução exigidos por um algoritmo escalam com o tamanho da entrada, independentemente da plataforma específica e da implementação do algoritmo em consideração. Abaixo estão exemplos de fatores de escala comuns de um tempo de execução $N$ em função do tamanho de entrada $n$; é claro que, para um tamanho de problema suficientemente grande, o tempo de execução de um algoritmo $O(a^n)$ excederá o de um algoritmo $O(n^b)$, onde $a$ e $b$ são constantes.\n",
        "\n",
        "&lt;figure&gt;\n",
        "  &lt;img src=\"images/1920px-Comparison_computational_complexity.png\" alt=\"Drawing\" style=\"max-width: 400px;\"/&gt;\n",
        "  &lt;figcaption&gt;Comparisons of different time complexities. n is the number of input bits, and N is the number of operations required. [5]&lt;/figcaption&gt;\n",
        "&lt;/figure&gt;\n",
        "\n",
        "Com esta notação, a propriedade descrita acima é expressa simplesmente como $c(n) = O(n)$. Isso captura o comportamento linear sem a necessidade de se debruçar sobre os detalhes. Portanto, independentemente de $c(n) = n$, $c(n) = 2n$ ou qualquer outra coisa, podemos simplesmente dizer que $c(n) = O(n)$.\n",
        "\n",
        "Há uma suposição oculta no que consideramos até agora. Ao falar sobre o número de dígitos, assumimos o uso de um sistema numérico específico. No entanto, o número de dígitos dependerá de qual sistema numérico estamos usando, seja decimal, binário ou qualquer outro. Por exemplo, o número de bits $n_2$ necessários para expressar um número está relacionado ao número de dígitos decimais $n_{10}$ necessários para expressar o mesmo número por\n",
        "\n",
        "$n_2 = \\left\\lceil \\frac{\\log 10}{ \\log 2} , n_{10} \\right\\rceil \\approx 3.3 , n_{10}.$\n",
        "\n",
        "Como essa também é uma relação linear, não muda como expressamos a complexidade usando a notação O grande. Podemos igualmente dizer que $c(n_2) = O(n_2)$, $c(n_{10}) = O(n_{10})$, ou ainda $c(n_{10}) = O(n_{ 2})$. É por esta razão que muitas vezes podemos simplesmente falar do número de dígitos, $n$, sem precisar especificar qual sistema de numeração é usado.\n",
        "\n",
        "## 3. Teoria da Complexidade<a id=\"complexity\"></a>\n",
        "\n",
        "A teoria da complexidade é o estudo do esforço computacional necessário para executar qualquer algoritmo. Ao considerar o melhor algoritmo possível para resolver um determinado problema, podemos também estudar o esforço computacional inerente à resolução desse problema. Para além disso, já conhecemos o algoritmo ótimo e, portanto, sabemos que é um problema com complexidade $O(n)$.\n",
        "\n",
        "A multiplicação não é tão simples. Os algoritmos que você aprendeu na escola para multiplicar dois números de $n$ dígitos exigirão $O(n^2)$ operações básicas, como adições e multiplicações de um dígito. Embora algoritmos com menor complexidade assintótica tenham sido encontrados, é amplamente considerado impossível realizar multiplicações com complexidade $O(n)$.\n",
        "\n",
        "Mesmo assim, a multiplicação está longe de ser o problema mais complexo. Um exemplo de problema com complexidade muito maior é a fatoração: pegar um número de $n$ dígitos e encontrar seus fatores primos. O algoritmo mais conhecido neste caso tem uma complexidade pior que $O\\left(e^{n^{1/3}}\\right)$. O exponencial aqui significa que a complexidade cresce muito rapidamente e torna a fatoração um problema muito difícil de resolver.\n",
        "\n",
        "Para demonstrar esse ponto usando o tempo real de computação, podemos usar um exemplo recente.$^{1}$ Considere o seguinte número de 829 dígitos."
      ]
    },
    {
      "cell_type": "code",
      "execution_count": 1,
      "metadata": {
      },
      "outputs": [

      ],
      "source": [
        "rsa_250 = 2140324650240744961264423072839333563008614715144755017797754920881418023447140136643345519095804679610992851872470914587687396261921557363047454770520805119056493106687691590019759405693457452230589325976697471681738069364894699871578494975937497937"
      ]
    },
    {
      "cell_type": "markdown",
      "metadata": {
      },
      "source": [
        "Se você tentar usar seu computador para somar ou multiplicar números desse tamanho, verá que ele pode resolver esses problemas muito rapidamente. Se você multiplicar o número de processadores que seu computador possui pelo número de segundos necessários para obter o número de segundos de núcleo, certamente descobrirá que é necessário muito menos de 1 segundo de núcleo.\n",
        "\n",
        "No entanto, executar a fatoração nesse número requer um supercomputador e cerca de 2.700 anos-núcleo, o que acaba gerando os dois fatores a seguir."
      ]
    },
    {
      "cell_type": "code",
      "execution_count": 2,
      "metadata": {
      },
      "outputs": [
        {
          "data": {
            "text/plain": [
              "2140324650240744961264423072839333563008614715144755017797754920881418023447140136643345519095804679610992851872470914587687396261921557363047454770520805119056493106687691590019759405693457452230589325976697471681738069364894699871578494975937497937"
            ]
          },
          "execution_count": 2,
          "metadata": {
          },
          "output_type": "execute_result"
        }
      ],
      "source": [
        "p = 64135289477071580278790190170577389084825014742943447208116859632024532344630238623598752668347708737661925585694639798853367\n",
        "q = 33372027594978156556226010605355114227940760344767554666784520987023841729210037080257448673296881877565718986258036932062711\n",
        "p*q"
      ]
    },
    {
      "cell_type": "markdown",
      "metadata": {
      },
      "source": [
        "Para a fatoração de números maiores, chegamos facilmente a um ponto em que um supercomputador do tamanho de um planeta precisaria funcionar para a idade do universo. Claramente, qualquer problema desse tipo é praticamente impossível.\n",
        "\n",
        "Até agora, consideramos apenas operações matemáticas em números de $n$ dígitos, com a complexidade expressa como o número de operações simples de um dígito necessárias. No entanto, a teoria da complexidade pode ser usada para analisar qualquer método computacional para qualquer tipo de problema, seja pesquisar bancos de dados, renderizar gráficos, simular dinâmicas ou atravessar uma masmorra em *Legend of Zelda* . Em cada caso, podemos encontrar um parâmetro ou conjunto de parâmetros que servem como nosso tamanho de entrada e expressar a complexidade em termos desse tamanho de entrada usando a notação O grande. Para pesquisar um banco de dados de $N$ entradas, por exemplo, a complexidade é $O(N)$.\n",
        "\n",
        "Formalmente, definir a complexidade de um algoritmo depende do modelo teórico exato de computação que estamos usando. Cada modelo possui um conjunto de operações básicas, conhecidas como operações primitivas, com as quais qualquer algoritmo pode ser expresso. Para circuitos booleanos, como consideramos na primeira seção, as operações primitivas são as portas lógicas. Para máquinas de Turing, uma forma hipotética de computador proposta por Alan Turing, imaginamos um dispositivo percorrendo e manipulando informações armazenadas em uma fita. O modelo de RAM possui um conjunto mais complexo de operações primitivas e atua como uma forma idealizada dos computadores que usamos todos os dias. Todos esses são modelos de computação digital, baseados em manipulações discretas de valores discretos. Por mais diferentes que possam parecer uns dos outros, verifica-se que é muito fácil para cada um simular os outros. Isso significa que, na maioria dos casos, a complexidade computacional não depende significativamente de qual desses modelos é usado. Em vez de declarar a complexidade especificamente para o modelo de RAM ou máquinas de Turing, podemos simplesmente falar da complexidade para computadores digitais."
      ]
    },
    {
      "cell_type": "markdown",
      "metadata": {
      },
      "source": [
        "## 4. Além da Computação Digital<a id=\"beyond\"></a>\n",
        "\n",
        "Embora os computadores digitais sejam dominantes agora, eles não são a única forma de computação. Computadores analógicos também foram amplamente estudados e usados no passado. Ao contrário dos valores discretos dos computadores digitais, estes são baseados em manipulações precisas de parâmetros que variam continuamente. Algumas vezes foi afirmado que tais dispositivos poderiam resolver rapidamente problemas que são intratáveis para computadores digitais. No entanto, tais reivindicações nunca foram realizadas. Um grande obstáculo para computadores analógicos é a incapacidade de construir dispositivos com precisão arbitrariamente alta. Em computadores digitais, a discretização significa que os erros devem ser relativamente grandes para serem perceptíveis, e métodos para detectar e corrigir tais erros podem então ser implementados. Em computadores analógicos, no entanto, os erros podem ser arbitrariamente pequenos e impossíveis de detectar, mas ainda assim seus efeitos podem se acumular para arruinar uma computação.\n",
        "\n",
        "Se alguém propusesse um modelo ideal de computação, poderia procurar combinar a robustez de um computador digital com as sutis manipulações de um computador analógico. Para conseguir isso, podemos olhar para a mecânica quântica. Já vimos que os qubits são um sistema com saídas discretas `0` e `1` e, ainda assim, podem existir em estados que só podem ser descritos por parâmetros contínuos. Este é um exemplo particular da conhecida noção de dualidade 'onda-partícula' que é típica dos sistemas quânticos. Eles não podem ser totalmente descritos como discretos ou contínuos, mas sim uma combinação dos dois. Como disse Einstein,$^{2}$\n",
        "\n",
        "> “Parece que às vezes devemos usar uma teoria e às vezes a outra, enquanto às vezes podemos usar qualquer uma delas. Estamos diante de um novo tipo de dificuldade. Temos duas imagens contraditórias da realidade; separadamente nenhum deles explica totalmente os fenômenos... mas juntos eles o fazem.'\n",
        "\n",
        "Um computador quântico, cujas operações primitivas são portas aplicadas a qubits, não é, portanto, nem analógico nem digital, mas algo único. Em capítulos posteriores, exploraremos as consequências dessa natureza única. Veremos que os computadores quânticos podem resolver problemas com uma complexidade radicalmente diferente dos computadores digitais. Na verdade, a computação quântica é a única tecnologia conhecida que pode ser exponencialmente mais rápida que os computadores clássicos para determinadas tarefas, reduzindo potencialmente o tempo de cálculo de anos para minutos. Também exploraremos como a correção quântica de erros pode remover os efeitos de quaisquer imperfeições."
      ]
    },
    {
      "cell_type": "markdown",
      "metadata": {
      },
      "source": [
        "## 5. Quando usar um computador quântico<a id=\"when\"></a>\n",
        "\n",
        "Com qubits e portas quânticas, podemos projetar novos algoritmos que são fundamentalmente diferentes dos clássicos digitais e analógicos. Dessa forma, esperamos encontrar soluções para problemas intratáveis para computadores clássicos.\n",
        "\n",
        "Uma maneira de fazer isso é quando temos alguma função para a qual queremos determinar uma propriedade global. Por exemplo, se queremos encontrar o valor de algum parâmetro $x$ para o qual alguma função $f(x)$ é um mínimo, ou o período da função se $f(x)$ é periódico. Um algoritmo em um computador digital pode usar um processo no qual $f(x)$ é calculado para uma variedade de entradas diferentes para obter informações suficientes sobre a propriedade global. Com um computador quântico, no entanto, o fato de podermos criar estados de superposição significa que a função pode ser aplicada a muitas entradas possíveis simultaneamente. Isso não significa que podemos acessar todas as saídas possíveis, pois a medição de tal estado simplesmente nos dá um único resultado. No entanto, podemos tentar induzir um efeito de interferência quântica, que revelará a propriedade global que exigimos.\n",
        "\n",
        "Esta descrição geral ilustra o funcionamento de muitos dos algoritmos quânticos que já foram descobertos. Um exemplo proeminente é o algoritmo de Grover, que reduz a complexidade da pesquisa em $N$ itens de $O(N)$ para $O(N^{1/2})$. Essa aceleração quadrática pode ser útil em muitos aplicativos com tarefas que podem ser expressas como uma pesquisa não estruturada, como problemas de otimização e aprendizado de máquina."
      ]
    },
    {
      "cell_type": "code",
      "execution_count": null,
      "metadata": {
        "tags": [
          "remove_input"
        ]
      },
      "outputs": [

      ],
      "source": [
        "# This code is to create the interactive figure\n",
        "from bokeh.layouts import column\n",
        "from bokeh.models import ColumnDataSource, CustomJS, Slider\n",
        "from bokeh.plotting import figure, show\n",
        "from bokeh.embed import file_html\n",
        "from bokeh.resources import CDN\n",
        "import numpy as np\n",
        "import IPython\n",
        "\n",
        "x = np.arange(0,500)\n",
        "y_linear = x\n",
        "y_sqrt = 7.5*np.sqrt(x)\n",
        "\n",
        "linear_source = ColumnDataSource(data=dict(x=x, y=y_linear))\n",
        "sqrt_source = ColumnDataSource(data=dict(x=x, y=y_sqrt))\n",
        "\n",
        "plot = figure(\n",
        "              plot_height=400, \n",
        "              plot_width=800,\n",
        "              sizing_mode=\"scale_width\",\n",
        "              tools=\"reset,save\",\n",
        "              x_range=[0, 500], y_range=[0, 500], \n",
        "              x_axis_label=\"Size of Problem\",\n",
        "              y_axis_label=\"Time Taken to Find Solution\")\n",
        "plot.line('x', 'y', source=linear_source, line_width=3, line_alpha=0.6, color=\"blue\", legend_label=\"Classical Search O(N)\")\n",
        "plot.line('x', 'y', source=sqrt_source, line_width=3, line_alpha=0.6, color=\"red\", legend_label=\"Quantum Search O(√N)\")\n",
        "plot.legend.location = \"top_left\"\n",
        "\n",
        "callback = CustomJS(args=dict(source=sqrt_source), code=\"\"\"\n",
        "        var data = source.data;\n",
        "        var f = (10-cb_obj.value)*2 + 3\n",
        "        var x = data['x']\n",
        "        var y = data['y']\n",
        "        for (var i = 0; i < x.length; i++) {\n",
        "            y[i] = f*Math.sqrt(x[i])\n",
        "        }\n",
        "        source.change.emit();\n",
        "    \"\"\")\n",
        "\n",
        "speed_slider = Slider(title=\"Relative Speed of Quantum Computer\", value=7.5, start=1.0, end=10.0, step=0.1, show_value=False)\n",
        "speed_slider.js_on_change('value', callback)\n",
        "\n",
        "layout = column(plot, speed_slider)\n",
        "\n",
        "caption = \"\"\"\n",
        "Comparing performance of algorithms across different platforms is difficult. What we can tell (through big-O-notation) is \n",
        "despite the difference in speeds between our classical and quantum computers, for a large enough problem, the quantum search \n",
        "algorithm will always out-perform the classical search algorithm.\"\"\"\n",
        "\n",
        "html_repr = file_html(layout, CDN)\n",
        "html_fig = \"<figure>{0}<figcaption>{1}</figcaption></figure>\".format(html_repr, caption)\n",
        "IPython.display.HTML(html_fig)"
      ]
    },
    {
      "cell_type": "markdown",
      "metadata": {
      },
      "source": [
        "Uma aceleração ainda mais impressionante é obtida com o algoritmo de Shor, que analisa funções periódicas no centro do problema de fatoração. Isso permite uma solução quântica para fatorar números de $n$ dígitos com complexidade $O(n^3)$. Esta é uma aceleração superpolinomial em comparação com a complexidade dos computadores digitais, que é pior do que $O\\left(e^{n^{1/3}}\\right)$.\n",
        "\n",
        "Outra abordagem para algoritmos quânticos é usar computadores quânticos para resolver problemas quânticos. Como veremos no próximo capítulo, expressar um estado quântico requer uma quantidade de informação que aumenta exponencialmente com o número de qubits. Apenas anotar o estado de $n$ qubits, portanto, torna-se uma tarefa intratável para computadores digitais à medida que $n$ aumenta. No entanto, para um computador quântico, precisamos apenas de $n$ qubits para fazer o mesmo trabalho. Essa capacidade natural de expressar e manipular estados quânticos nos permite estudar e entender melhor os sistemas quânticos de interesse, como moléculas e partículas fundamentais.\n",
        "\n",
        "Aplicar e adaptar algoritmos quânticos em diferentes setores, portanto, tem a promessa de permitir casos de uso disruptivos nos negócios e na ciência. Isso inclui avanços na descoberta de medicamentos, aprendizado de máquina, descoberta de materiais, precificação de opções, dobramento de proteínas e cadeia de suprimentos.$^{3}$ Particularmente promissores são os problemas para os quais os algoritmos clássicos enfrentam limites de escala inerentes e que não exigem um grande conjunto de dados a ser carregado. Para uma vantagem quântica, as respostas de um determinado problema precisam depender fortemente de muitos graus de liberdade emaranhados exponencialmente com estrutura tal que a mecânica quântica evolua para uma solução sem ter que passar por todos os caminhos. Observe, no entanto, que a relação precisa entre problemas que são 'fáceis' para computadores quânticos (resolvíveis em tempo polinomial) e outras classes teóricas de complexidade ainda é uma questão em aberto.$^{4}$\n",
        "\n",
        "Esta é apenas uma amostra de como os algoritmos quânticos podem executar a computação de uma maneira única. Mais detalhes sobre essas abordagens podem ser encontrados em capítulos posteriores. Mas primeiro precisamos olhar além do único qubit e investir algum tempo para entender o conjunto completo de portas quânticas de que precisaremos. Este é o foco do próximo capítulo."
      ]
    },
    {
      "cell_type": "markdown",
      "metadata": {
      },
      "source": [
        "## 6. Referências<a id=\"references\"></a>\n",
        "\n",
        "1. https://lists.gforge.inria.fr/pipermail/cado-nfs-discuss/2020-february/001166.html\n",
        "2. Albert Einstein, Leopold Infeld (1938). A evolução da física: o crescimento das ideias desde os primeiros conceitos até a relatividade e os quanta. Cambridge University Press.\n",
        "3. https://www.ibm.com/thought-leadership/institute-business-value/report/quantumstrategy\n",
        "4. https://www.cs.virginia.edu/~robins/The_Limits_of_Quantum_Computers.pdf\n",
        "5. Imagem: Cmglee / CC BY-SA (https://creativecommons.org/licenses/by-sa/4.0)"
      ]
    },
    {
      "cell_type": "code",
      "execution_count": 17,
      "metadata": {
      },
      "outputs": [
        {
          "data": {
            "text/html": [
              "<h3>Version Information</h3><table><tr><th>Qiskit Software</th><th>Version</th></tr><tr><td>Qiskit</td><td>0.27.0</td></tr><tr><td>Terra</td><td>0.17.4</td></tr><tr><td>Aer</td><td>0.8.2</td></tr><tr><td>Ignis</td><td>0.6.0</td></tr><tr><td>Aqua</td><td>0.9.2</td></tr><tr><td>IBM Q Provider</td><td>0.14.0</td></tr><tr><th>System information</th></tr><tr><td>Python</td><td>3.7.7 (default, May  6 2020, 04:59:01) \n",
              "[Clang 4.0.1 (tags/RELEASE_401/final)]</td></tr><tr><td>OS</td><td>Darwin</td></tr><tr><td>CPUs</td><td>8</td></tr><tr><td>Memory (Gb)</td><td>32.0</td></tr><tr><td colspan='2'>Thu Jun 17 15:13:01 2021 BST</td></tr></table>"
            ],
            "text/plain": [
              "<IPython.core.display.HTML object>"
            ]
          },
          "metadata": {
          },
          "output_type": "display_data"
        }
      ],
      "source": [
        "import qiskit.tools.jupyter\n",
        "%qiskit_version_table"
      ]
    }
  ],
  "metadata": {
    "kernelspec": {
      "display_name": "Python 3",
      "language": "python",
      "name": "python3"
    },
    "language_info": {
      "codemirror_mode": {
        "name": "ipython",
        "version": 3
      },
      "file_extension": ".py",
      "mimetype": "text/x-python",
      "name": "python",
      "nbconvert_exporter": "python",
      "pygments_lexer": "ipython3",
      "version": "3.9"
    }
  },
  "nbformat": 4,
  "nbformat_minor": 4
}
