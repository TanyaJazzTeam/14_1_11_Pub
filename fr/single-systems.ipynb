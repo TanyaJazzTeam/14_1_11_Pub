{
  "cells": [
    {
      "cell_type": "markdown",
      "id": "13690dd7",
      "metadata": {
        "gloss": {
          "altnoise": {
            "text": "In the context of information, *noise* refers to unwanted disturbances or alterations, which may be caused by imperfect hardware or uncontrollable factors in the environment. As an example phrased in mathematical terms, a bit in a computer memory that spontaneously flips with some probability could be described as being noisy.",
            "title": "Noise"
          },
          "quantum-information": {
            "text": "*Quantum information* is both a concept and a framework for modeling and describing information in quantum systems. While it is based on and motivated by quantum physics, the physical details can largely be abstracted away, leaving a mathematical framework that is applicable to a variety of specific physical systems.",
            "title": "Quantum information"
          }
        }
      },
      "source": [
        "# Systèmes simples\n",
        "\n",
        "![Illustration d'un cahier et d'un atome.](images/single-systems-hero.png)\n",
        "\n",
        "Cette leçon présente le cadre de base de [l'information quantique](gloss:quantum-information) , y compris la description des états quantiques en tant que vecteurs avec des entrées de nombres complexes, des mesures permettant d'extraire des informations classiques à partir d'états quantiques et des opérations sur des états quantiques décrits par des matrices unitaires. Nous limiterons notre attention dans cette leçon au cadre relativement simple dans lequel un seul système est considéré isolément. Dans la prochaine leçon, nous élargirons notre vue à plusieurs systèmes, qui peuvent interagir les uns avec les autres et être corrélés, par exemple.\n",
        "\n",
        "Il existe, en fait, deux descriptions mathématiques courantes de l'information quantique. Celui présenté dans cette leçon est le plus simple des deux. Cette description est suffisante pour comprendre de nombreux algorithmes quantiques (ou peut-être la plupart) et constitue un point de départ naturel d'un point de vue pédagogique.\n",
        "\n",
        "Une description plus générale et finalement plus puissante de l'information quantique, dans laquelle les états quantiques sont représentés par des *matrices de densité* , sera introduite dans une leçon ultérieure. La description de la matrice de densité est essentielle à l'étude de l'information quantique, pour plusieurs raisons. À titre d'exemple, ils peuvent être utilisés pour modéliser les effets du [bruit](gloss:altnoise) sur les calculs quantiques, ou l'état d'un morceau d'une paire intriquée. Plus généralement, les matrices de densité servent de base mathématique à la théorie de l'information quantique et à la cryptographie quantique, et sont assez belles d'un point de vue mathématique. Pour ces raisons, nous vous encourageons à en apprendre davantage à ce sujet le moment venu, mais pour l'instant, nous nous concentrerons sur la description plus simple de l'information quantique."
      ]
    },
    {
      "cell_type": "markdown",
      "id": "96a87980",
      "metadata": {
        "gloss": {
          "classical": {
            "text": "The term *classical* refers to concepts, ideas, and descriptions based on physical theories (such as Newtonian physics) that predate the discovery of quantum theory. In the context of information, it can be interpreted as meaning *not quantum* or not specifically connected to quantum information.",
            "title": "Classical"
          }
        }
      },
      "source": [
        "## 1. Informations classiques<a id=\"single-systems-classical\"></a>\n",
        "\n",
        "![Illustration de dés, d'une hélice d'ADN et de pièces de monnaie.](images/classical-information-hero.png)\n",
        "\n",
        "Pour décrire l'information quantique et son fonctionnement, nous commencerons par un aperçu de l'information [classique](gloss:classical) . Certains lecteurs peuvent se demander pourquoi nous avons choisi de consacrer autant d'attention à l'information classique dans un cours sur l'information *quantique* , mais il y a de bonnes raisons. D'une part, bien que les informations quantiques et classiques soient différentes de manière assez spectaculaire, leurs descriptions mathématiques sont en fait assez similaires.\n",
        "\n",
        "L'information classique sert également de point de référence familier lors de l'étude de l'information quantique, ainsi que d'une source d'analogie qui va étonnamment loin. Il est courant que les gens posent des questions sur l'information quantique qui ont des analogues classiques naturels - souvent avec des réponses simples qui peuvent fournir à la fois de la clarté et un aperçu des questions originales sur l'information quantique. En effet, il n'est pas du tout déraisonnable d'affirmer qu'on ne peut pas vraiment comprendre l'information quantique sans comprendre l'information classique.\n",
        "\n",
        "Certains lecteurs sont peut-être déjà familiarisés avec le matériel dont il sera question dans cette section, tandis que d'autres non, mais la discussion s'adresse aux deux publics. En plus de mettre en évidence les aspects de l'information classique qui sont les plus pertinents pour une introduction à l'information quantique, cette section présente la *notation de Dirac* , qui est souvent utilisée pour décrire des vecteurs et des matrices dans l'information et le calcul quantiques. Il s'avère que la notation de Dirac n'est pas spécifique à l'information quantique : elle peut tout aussi bien être utilisée dans le contexte de l'information classique, ainsi que pour de nombreux autres contextes dans lesquels apparaissent vecteurs et matrices."
      ]
    },
    {
      "cell_type": "markdown",
      "id": "21a83c79",
      "metadata": {
        "formulas": {
          "_sigma": {
            "say": "\"Sigma\""
          },
          "probability": {
            "meaning": "The probability of the expression in the parentheses to the right being true."
          }
        },
        "gloss": {
          "system": {
            "text": "In this course, a system is an abstraction of a physical device or a medium that stores information.",
            "title": "System"
          }
        }
      },
      "source": [
        "### 1.1 États classiques et vecteurs de probabilité<a id=\"classical-states\"></a>\n",
        "\n",
        "Supposons que nous ayons un [système](gloss:system) qui stocke des informations. Plus précisément, supposons que ce système puisse être dans l'un d'un nombre fini d' *états classiques* à chaque instant. Ici, le terme \"état classique\" doit être compris en termes intuitifs, comme une configuration qui peut être reconnue et décrite sans ambiguïté.\n",
        "\n",
        "L'exemple archétypal, sur lequel nous reviendrons à plusieurs reprises, est celui d'un *bit* , qui est un système dont les états classiques sont 0 et 1. D'autres exemples incluent un dé standard à six faces, dont les états classiques sont 1, 2, 3, 4, 5 et 6 ; une nucléobase dans un brin d'ADN, dont les états classiques sont *A* , *C* , *G* et *T* ; et un interrupteur sur un ventilateur électrique, dont les états classiques sont (généralement) *haut* , *moyen* , *bas* et *éteint* . En termes mathématiques, la spécification des états classiques d'un système est, en fait, le point de départ : nous définissons un bit comme étant un système qui a des états classiques 0 et 1, et de même pour des systèmes ayant des ensembles d'états classiques différents.\n",
        "\n",
        "Pour les besoins de cette discussion, donnons le nom $\\mathsf{X}$ au système considéré, et utilisons le symbole $\\class{_sigma}{\\Sigma}$ pour désigner l'ensemble des états classiques de $\\mathsf{X}$. En plus de l'hypothèse que $\\Sigma$ est fini, comme mentionné précédemment, nous supposons naturellement que $\\Sigma$ n'est pas vide : il est absurde pour un système physique de n'avoir aucun état du tout. Bien qu'il soit logique de considérer des systèmes physiques ayant une infinité d'états classiques, nous ignorerons cette possibilité pour l'instant. Il y a beaucoup d'idées intéressantes à explorer même dans un nombre fini d'états. Par souci de commodité et de brièveté, nous utiliserons ci-après le terme *ensemble d'états classique* pour désigner tout ensemble fini et non vide.\n",
        "\n",
        "For example, if $\\mathsf{X}$ is a bit, then $\\Sigma = {0,1}$ (which is often called the *binary alphabet*); if $\\mathsf{X}$ is a six-sided die, then $\\Sigma = {1,2,3,4,5,6}$; and if $\\mathsf{X}$ is an electric fan switch, then $\\Sigma = {\\mathrm{high}, \\mathrm{medium}, \\mathrm{low}, \\mathrm{off}}$.\n",
        "\n",
        "En pensant à $\\mathsf{X}$ en tant que support d'informations, les différents états classiques de $\\mathsf{X}$ pourraient se voir attribuer certaines significations, conduisant à des résultats ou des conséquences différents. Dans de tels cas, il peut être suffisant de décrire $\\mathsf{X}$ comme étant simplement dans l'un de ses états classiques possibles. Par exemple, si $\\mathsf{X}$ est un commutateur de ventilateur, nous pouvons savoir avec certitude qu'il est défini sur *high* . Souvent, dans le traitement de l'information, cependant, notre connaissance de $\\mathsf{X}$ est incertaine. Nous représentons notre connaissance de l'état classique de $\\mathsf{X}$ en attribuant des probabilités à chaque état classique, résultant en un *état probabiliste* .\n",
        "\n",
        "For example, suppose $\\mathsf{X}$ is a bit. Based on what we know or expect about what has happened to $\\mathsf{X}$ in the past, perhaps we believe that $\\mathsf{X}$ is in the classical state $0$ with probability $3/4$ and in the state $1$ with probability $1/4.$ We may represent such a belief by writing this:\n",
        "\n",
        "$$\n",
        "\\class{probability}{\\operatorname{Pr}}(\\mathsf{X}=0) = \\frac{3}{4}\n",
        "\\quad\\text{and}\\quad\n",
        "\\class{probability}{\\operatorname{Pr}}(\\mathsf{X}=1) = \\frac{1}{4}.\n",
        "$$\n",
        "\n",
        "Une manière plus succincte de représenter cet état probabiliste est par un vecteur colonne.\n",
        "\n",
        "$$\n",
        "\\begin{pmatrix}\n",
        "  \\frac{3}{4}\\\\[1mm]\n",
        "  \\frac{1}{4}\n",
        "\\end{pmatrix}\n",
        "$$\n",
        "\n",
        "La probabilité que le bit soit $0$ est placée en haut du vecteur et la probabilité que le bit soit $1$ est placée en bas, simplement parce que c'est la manière conventionnelle d'ordonner l'ensemble ${0,1}$.\n",
        "\n",
        "In general, we can represent a probabilistic state of a system having any classical state set in the same way, as a vector of probabilities. The probabilities can be ordered in any way we choose — which is typically determined by some natural or default way to order the classical state set we're working with. To be precise, we can represent any probabilistic state through a column vector satisfying two properties:\n",
        "\n",
        "1. Toutes les entrées du vecteur sont *des nombres réels non négatifs* .\n",
        "2. La somme des entrées est égale à $1.$\n",
        "\n",
        "Inversement, tout vecteur colonne qui satisfait ces deux propriétés peut être considéré comme une représentation d'un état probabiliste. Ci-après, nous appellerons vecteurs de cette forme *vecteurs de probabilité* .\n",
        "\n",
        "Outre la concision de cette notation, l'identification des états probabilistes en tant que vecteurs colonnes présente l'avantage que les opérations sur les états probabilistes sont représentées par une multiplication matrice-vecteur, comme nous le verrons ci-dessous.\n",
        "\n",
        "<!-- ::: q-block.exercise -->\n",
        "\n",
        "### Questionnaire rapide\n",
        "\n",
        "<!-- ::: q-quiz(goal=\"ss-quiz-1\") -->\n",
        "\n",
        "<!-- ::: .question -->\n",
        "\n",
        "Lequel de ces vecteurs est un vecteur de probabilité valide ?\n",
        "\n",
        "<!-- ::: -->\n",
        "\n",
        "<!-- ::: .option -->\n",
        "\n",
        "1. $\\begin{pmatrix} \\sqrt{2}\\\\ 1 - \\sqrt{2} \\end{pmatrix}$\n",
        "\n",
        "<!-- ::: -->\n",
        "\n",
        "<!-- ::: .option -->\n",
        "\n",
        "1. $\\begin{pmatrix} 0.3 \\\\ 0.3 \\end{pmatrix}$\n",
        "\n",
        "<!-- ::: -->\n",
        "\n",
        "<!-- ::: .option(correct) -->\n",
        "\n",
        "1. $\\begin{pmatrix} 0 \\\\ 1 \\\\ 0 \\end{pmatrix}$\n",
        "\n",
        "<!-- ::: -->\n",
        "\n",
        "<!-- ::: -->\n",
        "\n",
        "<!-- ::: -->"
      ]
    },
    {
      "cell_type": "markdown",
      "id": "936e5686",
      "metadata": {
      },
      "source": [
        "### 1.2 Mesure d'états probabilistes<a id=\"classical-measure\"></a>\n",
        "\n",
        "Considérons maintenant brièvement ce qui se passe si nous *mesurons* un système lorsqu'il est dans un état probabiliste. Par mesurer un système, nous entendons que nous regardons le système et reconnaissons sans ambiguïté l'état classique dans lequel il se trouve. Intuitivement, nous ne pouvons jamais \"voir\" un système dans un état probabiliste ; une mesure donnera exactement l'un des états classiques autorisés.\n",
        "\n",
        "La mesure change notre connaissance du système, et donc change l'état probabiliste que nous associons à ce système : si nous reconnaissons que $\\mathsf{X}$ est dans l'état classique $a\\in\\Sigma$, alors le nouveau vecteur de probabilité représentant notre connaissance de $\\mathsf{X}$ devient un vecteur ayant un $1$ dans l'entrée correspondant à $a$ et $0$ pour toutes les autres entrées. Ce vecteur indique que $\\mathsf{X}$ est dans l'état classique $a$ avec certitude, ce qu'on sait en le reconnaissant.\n",
        "\n",
        "On note le vecteur qui vient d'être décrit, c'est-à-dire le vecteur ayant un $1$ dans l'entrée correspondant à $a$ et $0$ pour toutes les autres entrées, par $\\vert a\\rangle.$ Ce vecteur se lit \"ket $a$\" pour une raison qui sera expliquée sous peu. Les vecteurs de ce type sont également appelés vecteurs *de base standard* .\n",
        "\n",
        "Par exemple, en supposant que le système que nous avons en tête est un bit, les vecteurs de base standard sont donnés par\n",
        "\n",
        "$$\n",
        "  \\vert 0\\rangle = \\begin{pmatrix}1\\\\0\\end{pmatrix}\n",
        "  \\quad\\text{and}\\quad\n",
        "  \\vert 1\\rangle = \\begin{pmatrix}0\\\\1\\end{pmatrix}.\n",
        "$$\n",
        "\n",
        "Notez que tout vecteur colonne bidimensionnel peut être exprimé comme une combinaison linéaire de ces deux vecteurs. Par exemple, nous avons\n",
        "\n",
        "$$\n",
        "\\begin{pmatrix}\n",
        "  \\frac{3}{4}\\\\[2mm]\n",
        "  \\frac{1}{4}\n",
        "\\end{pmatrix}\n",
        "= \\frac{3}{4}\\,\\vert 0\\rangle + \\frac{1}{4}\\,\\vert 1\\rangle.\n",
        "$$\n",
        "\n",
        "Ce fait se généralise naturellement à tout ensemble d'états classique : tout vecteur colonne est une combinaison linéaire sur les états classiques. L'expression de vecteurs sous forme de combinaisons linéaires de vecteurs de base standard sera très courante à l'avenir.\n",
        "\n",
        "Revenant au changement d'un état probabiliste après avoir été mesuré, nous pouvons noter le lien suivant avec nos expériences quotidiennes. Supposons que nous lançions une pièce juste, mais couvrons la pièce avant de la regarder. On dira alors que son état probabiliste est\n",
        "\n",
        "$$\n",
        "\\begin{pmatrix}\n",
        "  \\frac{1}{2}\\\\[2mm]\n",
        "  \\frac{1}{2}\n",
        "\\end{pmatrix}\n",
        "= \\frac{1}{2}\\,\\vert\\text{heads}\\rangle + \\frac{1}{2}\\,\\vert\\text{tails}\\rangle.\n",
        "$$\n",
        "\n",
        "Ici, l'ensemble d'états classique de notre pièce est ${\\text{heads},\\text{tails}}$. Nous choisirons d'ordonner ces états en tête d'abord, pile en second.\n",
        "\n",
        "$$\n",
        "\\vert\\text{heads}\\rangle = \\begin{pmatrix}1\\\\0\\end{pmatrix}\n",
        "\\quad\\text{and}\\quad\n",
        "\\vert\\text{tails}\\rangle = \\begin{pmatrix}0\\\\1\\end{pmatrix}\n",
        "$$\n",
        "\n",
        "Si nous devions découvrir la pièce et la regarder, nous verrions l'un des deux états classiques : pile ou face. En supposant que le résultat soit pile, nous mettrons naturellement à jour notre description de l'état probabiliste de la pièce afin qu'elle devienne $|\\text{tails}\\rangle$. Bien sûr, si nous devions ensuite couvrir la pièce, puis la découvrir et la regarder à nouveau, l'état classique serait toujours pile, ce qui est cohérent avec l'état probabiliste décrit par le vecteur $|\\text{tails} \\rangle$. Cela peut sembler trivial, et dans un certain sens ça l'est. Cependant, les systèmes quantiques se comportent de manière tout à fait analogue, mais leurs propriétés de mesure sont souvent considérées comme inhabituelles ou \"effrayantes\". En établissant les propriétés de mesure des systèmes classiques, le comportement analogue pour l'information quantique pourrait sembler moins inhabituel.\n",
        "\n",
        "Une dernière remarque concernant les mesures d'états probabilistes : elles peuvent décrire une connaissance ou une croyance, pas nécessairement quelque chose de réel. L'état de notre pièce après l'avoir lancée, mais avant de regarder, est pile ou face, et nous ne savons tout simplement pas lequel jusqu'à ce que nous regardions. Cela ne change pas réellement l'état, mais seulement notre connaissance de celui-ci. En voyant que l'état classique est pile, nous mettons naturellement à jour nos connaissances en attribuant le vecteur $|\\text{tails}\\rangle$ à la pièce, mais à quelqu'un d'autre qui n'a pas vu la pièce lorsqu'elle a été découverte, l'état probabiliste reste inchangé. Ce n'est pas une cause de préoccupation : différents individus peuvent avoir des connaissances ou des croyances différentes sur un système particulier, et donc décrire ce système par différents vecteurs de probabilité."
      ]
    },
    {
      "cell_type": "markdown",
      "id": "5ac2b210",
      "metadata": {
        "formulas": {
          "_m00": {
            "meaning": "The probability this operation transforms the input bit from 0 to 0."
          },
          "_m01": {
            "meaning": "The probability this operation transforms the input bit from 0 to 1."
          },
          "_m10": {
            "meaning": "The probability this operation transforms the input bit from 1 to 0."
          },
          "_m11": {
            "meaning": "The probability this operation transforms the input bit from 1 to 1."
          }
        },
        "gloss": {
          "altdeterministic": {
            "text": "An operation is deterministic if the result is completely determined by the input without any element of chance or uncertainty.",
            "title": "Deterministic"
          },
          "altstochastic": {
            "text": "*Stochastic* means ivolving randomness, chance, or uncertainty.",
            "title": "Stochastic"
          },
          "associative": {
            "text": "An operation is associative if we can move the position of the parentheses and get the same result. <br><a href=\"https://en.wikipedia.org/wiki/Associative_property\">Read more</a>",
            "title": "Associativity"
          },
          "commutative": {
            "text": "If an operation is commutative, switching the order of the inputs does not change the result.<br><a href=\"https://en.wikipedia.org/wiki/Commutative_property\">Read more</a>",
            "title": "Commutativity"
          },
          "composing": {
            "text": "Composition refers to applying one function after another.<br><a href=\"https://en.wikipedia.org/wiki/Function_composition\">Read more</a>.",
            "title": "Composition"
          },
          "dirac": {
            "text": "Paul Dirac was a physicist who made key contributions to the development of quantum physics.<br><a href=\"https://en.wikipedia.org/wiki/Paul_Dirac\">Read more</a>.",
            "title": "Paul Dirac"
          },
          "identity-function": {
            "text": "The identity function returns its input unchanged.",
            "title": "Identity"
          }
        }
      },
      "source": [
        "### 1.3 Opérations classiques<a id=\"classical-operations\"></a>\n",
        "\n",
        "Dans la dernière partie de ce bref résumé des informations classiques, nous examinerons les types d'opérations que l'on peut effectuer sur un système classique.\n",
        "\n",
        "#### Opérations déterministes\n",
        "\n",
        "Premièrement, il y a les opérations [déterministes](gloss:altdeterministic) , où chaque état classique $a\\in\\Sigma$ est transformé en $f(a)$ pour une fonction $f$ de la forme $f:\\Sigma\\rightarrow\\Sigma$.\n",
        "\n",
        "Par exemple, si $\\Sigma = {0,1}$, il y a quatre fonctions de cette forme, $f_1$, $f_2$, $f_3$ et $f_4$, qui peuvent être représentées par des tables de valeurs comme suit :\n",
        "\n",
        "$$\n",
        "\\rule[-10mm]{0mm}{15mm}\n",
        "\\begin{array}{c|c}\n",
        "  a &amp; f_1(a)\\\\\n",
        "  \\hline\n",
        "  0 &amp; 0\\\\\n",
        "  1 &amp; 0\n",
        "\\end{array}\n",
        "\\qquad\n",
        "\\begin{array}{c|c}\n",
        "  a &amp; f_2(a)\\\\\n",
        "  \\hline\n",
        "  0 &amp; 0\\\\\n",
        "  1 &amp; 1\n",
        "\\end{array}\n",
        "\\qquad\n",
        "\\begin{array}{c|c}\n",
        "  a &amp; f_3(a)\\\\\n",
        "  \\hline\n",
        "  0 &amp; 1\\\\\n",
        "  1 &amp; 0\n",
        "\\end{array}\n",
        "\\qquad\n",
        "\\begin{array}{c|c}\n",
        "  a &amp; f_4(a)\\\\\n",
        "  \\hline\n",
        "  0 &amp; 1\\\\\n",
        "  1 &amp; 1\n",
        "\\end{array}\n",
        "$$\n",
        "\n",
        "La première et la dernière de ces fonctions sont *constantes* : $f_1(a) = 0$ et $f_4(a) = 1$ pour chaque $a\\in\\Sigma$. Les deux intermédiaires ne sont pas constants, ils sont *équilibrés* , en ce sens que les deux valeurs de sortie possibles se produisent le même nombre de fois que nous nous situons sur les entrées possibles. La fonction $f_2$ est la [fonction identité](gloss:identity-function) : $f_2(a) = a$ pour chaque $a\\in\\Sigma$. Et $f_3$ est la fonction $f_3(0) = 1$ et $f_3(1) = 0$, mieux connue sous le nom de fonction NOT.\n",
        "\n",
        "Les actions d'opérations déterministes sur des états probabilistes peuvent être représentées par une multiplication matrice-vecteur. Plus précisément, la matrice $M$ qui représente une fonction donnée $f:\\Sigma\\rightarrow\\Sigma$ est celle qui satisfait\n",
        "\n",
        "$$\n",
        "M \\vert a \\rangle = \\vert f(a)\\rangle\n",
        "$$\n",
        "\n",
        "pour chaque $a\\in\\Sigma$. Une telle matrice existe toujours et est unique.\n",
        "\n",
        "Par exemple, les matrices $M_1,\\ldots,M_4$ correspondant aux fonctions $f_1,\\ldots,f_4$ ci-dessus sont les suivantes :\n",
        "\n",
        "$$\n",
        "  \\rule[-6mm]{0mm}{14.5mm}\n",
        "  M_1 =\n",
        "  \\begin{pmatrix}\n",
        "    \\class{_m00}{1} &amp; \\class{_m10}{1}\\\\\n",
        "    \\class{_m01}{0} &amp; \\class{_m11}{0}\n",
        "  \\end{pmatrix},\n",
        "  \\hspace{4mm}\n",
        "  M_2 =\n",
        "  \\begin{pmatrix}\n",
        "    \\class{_m00}{1} &amp; \\class{_m10}{0}\\\\\n",
        "    \\class{_m01}{0} &amp; \\class{_m11}{1}\n",
        "  \\end{pmatrix},\n",
        "  \\hspace{4mm}\n",
        "  M_3 =\n",
        "  \\begin{pmatrix}\n",
        "    \\class{_m00}{0} &amp; \\class{_m10}{1}\\\\\n",
        "    \\class{_m01}{1} &amp; \\class{_m11}{0}\n",
        "  \\end{pmatrix},\n",
        "  \\hspace{4mm}\n",
        "  \\text{and}\n",
        "  \\hspace{4mm}\n",
        "  M_4 =\n",
        "  \\begin{pmatrix}\n",
        "    \\class{_m00}{0} &amp; \\class{_m10}{0}\\\\\n",
        "    \\class{_m01}{1} &amp; \\class{_m11}{1}\n",
        "  \\end{pmatrix}.\n",
        "$$\n",
        "\n",
        "Les matrices qui représentent des opérations déterministes ont toujours exactement un $1$ dans chaque colonne et $0$ pour toutes les autres entrées.\n",
        "\n",
        "Une manière pratique de représenter des matrices de ces formes et d'autres utilise une notation analogue pour les vecteurs de ligne à celle des vecteurs de colonne discutée précédemment. On note $\\langle a \\vert$ le vecteur *ligne* ayant un $1$ dans l'entrée correspondant à $a$ et zéro pour toutes les autres entrées, pour chaque $a\\in\\Sigma.$ Ce vecteur se lit \"bra $ un $.\"\n",
        "\n",
        "Par exemple, si $\\Sigma = {0,1}$, alors\n",
        "\n",
        "$$\n",
        "  \\langle 0 \\vert = \\begin{pmatrix}\n",
        "    1 &amp; 0\n",
        "  \\end{pmatrix}\n",
        "  \\quad\\text{and}\\quad\n",
        "  \\langle 1 \\vert = \\begin{pmatrix}\n",
        "    0 &amp; 1\n",
        "  \\end{pmatrix}.\n",
        "$$\n",
        "\n",
        "Pour un choix arbitraire d'un ensemble d'états classique $\\Sigma$, en considérant les vecteurs ligne et les vecteurs colonne comme des matrices et en effectuant la multiplication matricielle $\\vert b\\rangle \\langle a\\vert$, on obtient une matrice carrée ayant un $1$ dans l'entrée correspondant au couple $(b,a)$, c'est-à-dire que la ligne de l'entrée correspond à $b$ et la colonne correspond à $a$, et $0$ pour toutes les autres entrées. Par exemple,\n",
        "\n",
        "$$\n",
        "  \\vert 0 \\rangle \\langle 1 \\vert = \\begin{pmatrix}\n",
        "    0 &amp; 1 \\\\\n",
        "    0 &amp; 0\n",
        "  \\end{pmatrix}.\n",
        "$$\n",
        "\n",
        "En utilisant cette notation, pour toute fonction $f:\\Sigma\\rightarrow\\Sigma$, nous pouvons exprimer la matrice $M$ correspondant à la fonction $f$ comme\n",
        "\n",
        "$$\n",
        "  M = \\sum_{a\\in\\Sigma} \\vert f(a) \\rangle \\langle a \\vert.\n",
        "$$\n",
        "\n",
        "Maintenant, si nous considérons à nouveau les vecteurs comme des matrices, mais cette fois considérons la multiplication $\\langle a \\vert \\vert b \\rangle$, alors nous obtenons une matrice $1\\fois 1$, que nous pouvons considérer comme un scalaire ( c'est-à-dire un nombre). Par souci d'ordre, nous écrivons ce produit sous la forme $\\langle a \\vert b\\rangle$ plutôt que $\\langle a \\vert \\vert b \\rangle.$ Ce produit satisfait la formule simple suivante :\n",
        "\n",
        "$$\n",
        "  \\langle a \\vert b \\rangle\n",
        "  = \\begin{cases}\n",
        "    1 &amp; a = b\\\\\n",
        "    0 &amp; a \\not= b.\n",
        "  \\end{cases}\n",
        "$$\n",
        "\n",
        "En utilisant cette observation, ainsi que le fait que la multiplication matricielle est associative et linéaire, nous obtenons\n",
        "\n",
        "$$\n",
        "  M \\vert b \\rangle =\n",
        "  \\Biggl(\n",
        "  \\sum_{a\\in\\Sigma} \\vert f(a) \\rangle \\langle a \\vert\n",
        "  \\Biggr)\n",
        "  \\vert b\\rangle\n",
        "  = \\sum_{a\\in\\Sigma} \\vert f(a) \\rangle \\langle a \\vert b \\rangle\n",
        "  = \\vert f(b)\\rangle,\n",
        "$$\n",
        "\n",
        "pour chaque $b\\in\\Sigma$, ce que nous exigeons de $M$.\n",
        "\n",
        "Comme nous le verrons plus en détail dans la leçon 3, $\\langle a \\vert b \\rangle$ peut également être vu comme un *produit scalaire* entre les vecteurs $\\vert a\\rangle$ et $\\vert b\\rangle$. Les produits internes sont d'une importance cruciale dans l'information quantique, mais nous retarderons leur discussion jusqu'à ce qu'ils soient nécessaires.\n",
        "\n",
        "À ce stade, les noms \"bra\" et \"ket\" peuvent être évidents : mettre un \"bra\" $\\langle a\\vert$ avec un \"ket\" $\\vert b\\rangle$ donne un \"bracket\" $\\langle a \\vert b\\rangle$. Cette notation et cette terminologie sont dues à [Paul Dirac](gloss:dirac) , et pour cette raison sont connues sous le nom de *notation de Dirac* ."
      ]
    },
    {
      "cell_type": "markdown",
      "id": "be8094f7",
      "metadata": {
        "formulas": {
          "_m00": {
            "meaning": "The probability this operation transforms the input bit from 0 to 0."
          },
          "_m01": {
            "meaning": "The probability this operation transforms the input bit from 0 to 1."
          },
          "_m10": {
            "meaning": "The probability this operation transforms the input bit from 1 to 0."
          },
          "_m11": {
            "meaning": "The probability this operation transforms the input bit from 1 to 1."
          }
        },
        "gloss": {
          "altdeterministic": {
            "text": "An operation is deterministic if the result is completely determined by the input without any element of chance or uncertainty.",
            "title": "Deterministic"
          },
          "associative": {
            "text": "An operation is associative if we can move the position of the parentheses and get the same result. <br><a href=\"https://en.wikipedia.org/wiki/Associative_property\">Read more</a>",
            "title": "Associativity"
          },
          "commutative": {
            "text": "If an operation is commutative, switching the order of the inputs does not change the result.<br><a href=\"https://en.wikipedia.org/wiki/Commutative_property\">Read more</a>",
            "title": "Commutativity"
          },
          "composing": {
            "text": "Composition refers to applying one function or operation after another.<br><a href=\"https://en.wikipedia.org/wiki/Function_composition\">Read more</a>.",
            "title": "Composition"
          },
          "dirac": {
            "text": "Paul Dirac was a physicist who made key contributions to the development of quantum physics.<br><a href=\"https://en.wikipedia.org/wiki/Paul_Dirac\">Read more</a>.",
            "title": "Paul Dirac"
          },
          "identity-function": {
            "text": "The identity function returns its input unchanged.",
            "title": "Identity"
          },
          "stochastic-matrix": {
            "text": "'Stochastic' roughly means 'random'. A stochastic matrix represents a random process.",
            "title": "Stochastic"
          }
        }
      },
      "source": [
        "#### Opérations probabilistes et matrices stochastiques\n",
        "\n",
        "En plus des opérations déterministes, nous avons *des opérations probabilistes* .\n",
        "\n",
        "Par exemple, considérons une opération sur un bit où, si l'état classique du bit est $0,$ il est laissé tel quel, et si l'état classique du bit est $1,$ il est basculé vers $0$ avec probabilité $1/2 .$ Cette opération est représentée par la matrice\n",
        "\n",
        "$$\n",
        "  \\begin{pmatrix}\n",
        "    1 &amp; \\frac{1}{2}\\\\[1mm]\n",
        "    0 &amp; \\frac{1}{2}\n",
        "  \\end{pmatrix}.\n",
        "$$\n",
        "\n",
        "Nous pouvons vérifier que cette matrice fait la bonne chose en multipliant avec les vecteurs de base standard.\n",
        "\n",
        "Pour un choix arbitraire d'un ensemble d'états classique, nous pouvons décrire l'ensemble de toutes les opérations probabilistes en termes mathématiques comme celles qui sont représentées par des matrices [stochastiques](gloss:altstochastic) , qui sont des matrices satisfaisant ces deux propriétés :\n",
        "\n",
        "1. Toutes les entrées sont des nombres réels non négatifs.\n",
        "2. Les entrées de chaque colonne totalisent 1 $. $\n",
        "\n",
        "De manière équivalente, les matrices stochastiques sont des matrices dont les colonnes forment toutes des vecteurs de probabilité.\n",
        "\n",
        "Nous pouvons considérer les opérations probabilistes à un niveau intuitif comme celles où le caractère aléatoire pourrait d'une manière ou d'une autre être utilisé ou introduit pendant l'opération, comme dans l'exemple ci-dessus. En ce qui concerne la description de la matrice stochastique d'une opération probabiliste, chaque colonne peut être considérée comme une représentation vectorielle de l'état probabiliste qui est généré compte tenu de l'entrée d'état classique correspondant à cette colonne.\n",
        "\n",
        "Nous pouvons également considérer les matrices stochastiques comme étant exactement ces matrices qui mappent toujours les vecteurs de probabilité aux vecteurs de probabilité. Autrement dit, les matrices stochastiques mappent toujours des vecteurs de probabilité sur des vecteurs de probabilité, et toute matrice qui mappe toujours des vecteurs de probabilité sur des vecteurs de probabilité doit être une matrice stochastique.\n",
        "\n",
        "Enfin, une autre façon de penser aux opérations probabilistes est qu'elles sont des choix aléatoires d'opérations déterministes. Par exemple, nous pouvons considérer l'opération dans l'exemple ci-dessus comme appliquant soit la fonction identité, soit la fonction constante 0, chacune avec une probabilité $1/2$. Ceci est cohérent avec l'équation\n",
        "\n",
        "$$\n",
        "  \\begin{pmatrix}\n",
        "    1 &amp; \\frac{1}{2}\\\\[1mm]\n",
        "    0 &amp; \\frac{1}{2}\n",
        "  \\end{pmatrix}\n",
        "  = \\frac{1}{2}\n",
        "  \\begin{pmatrix}\n",
        "    1 &amp; 0\\\\[1mm]\n",
        "    0 &amp; 1\n",
        "  \\end{pmatrix}\n",
        "  + \\frac{1}{2}\n",
        "  \\begin{pmatrix}\n",
        "    1 &amp; 1\\\\[1mm]\n",
        "    0 &amp; 0\n",
        "  \\end{pmatrix}.\n",
        "$$\n",
        "\n",
        "Une telle expression est toujours possible, pour un choix arbitraire d'un ensemble d'états classique et de toute matrice stochastique avec des lignes et des colonnes identifiées avec cet ensemble d'états classique.\n",
        "\n",
        "#### Compositions d'opérations probabilistes\n",
        "\n",
        "Supposons que $\\mathsf{X}$ soit un système ayant un jeu d'états classique $\\Sigma$, et que $M_1,\\ldots,M_n$ soient des matrices stochastiques représentant des opérations probabilistes sur le système $\\mathsf{X}$.\n",
        "\n",
        "Si la première opération $M_1$ est appliquée à l'état probabiliste représenté par un vecteur de probabilité $u$, l'état probabiliste résultant est représenté par le vecteur $M_1 u.$ Si on applique ensuite la deuxième opération probabiliste $M_2$ à ce nouveau vecteur de probabilité, on obtient le vecteur de probabilité\n",
        "\n",
        "$$\n",
        "  M_2 (M_1 u) = (M_2 M_1) u.\n",
        "$$\n",
        "\n",
        "L'égalité découle du fait que la multiplication matricielle (qui inclut la multiplication matrice-vecteur comme cas particulier) est une opération [associative](gloss:associative) . Ainsi, l'opération probabiliste obtenue en [composant](gloss:composing) les première et seconde opérations probabilistes, où l'on applique d'abord $M_1$ puis $M_2$, est représentée par la matrice $M_2 M_1$, qui est nécessairement stochastique.\n",
        "\n",
        "Plus généralement, en composant les opérations probabilistes représentées par les matrices $M_1,\\ldots,M_n$ dans cet ordre, c'est-à-dire que $M_1$ est appliqué en premier, $M_2$ est appliqué en second, et ainsi de suite, avec $M_n$ appliqué en dernier, est représenté par la matrice\n",
        "\n",
        "$$\n",
        "  M_n \\,\\cdots\\, M_1.\n",
        "$$\n",
        "\n",
        "Notez que l'ordre est important ici : bien que la multiplication matricielle soit associative, ce n'est pas une opération [commutative](gloss:commutative) en général.\n",
        "\n",
        "Par exemple, si nous avons\n",
        "\n",
        "$$\n",
        "  M_1 =\n",
        "  \\begin{pmatrix}\n",
        "    1 &amp; 1\\\\[1mm]\n",
        "    0 &amp; 0\n",
        "  \\end{pmatrix}\n",
        "  \\quad\\text{and}\\quad\n",
        "  M_2 =\n",
        "  \\begin{pmatrix}\n",
        "    0 &amp; 1\\\\[1mm]\n",
        "    1 &amp; 0\n",
        "  \\end{pmatrix},\n",
        "$$\n",
        "\n",
        "alors\n",
        "\n",
        "$$\n",
        "  M_2 M_1 =\n",
        "  \\begin{pmatrix}\n",
        "    0 &amp; 0 \\\\[1mm]\n",
        "    1 &amp; 1\n",
        "  \\end{pmatrix}\n",
        "  \\quad\\text{and}\\quad\n",
        "  M_1 M_2 =\n",
        "  \\begin{pmatrix}\n",
        "    1 &amp; 1\\\\[1mm]\n",
        "    0 &amp; 0\n",
        "  \\end{pmatrix}.\n",
        "$$\n",
        "\n",
        "Autrement dit, l'ordre dans lequel les opérations probabilistes sont composées est important : la modification de l'ordre dans lequel les opérations sont appliquées dans une composition peut modifier l'opération résultante."
      ]
    },
    {
      "cell_type": "markdown",
      "id": "a6cd0323",
      "metadata": {
      },
      "source": [
        "## 2. Informations quantiques<a id=\"single-systems-quantum\"></a>\n",
        "\n",
        "![Illustration d'un jeu de cartes.](images/quantum-information-hero.png)\n",
        "\n",
        "Passons maintenant à l'information quantique, où nous faisons un choix différent pour le type de vecteur qui représente un état - dans ce cas un *état quantique* - du système considéré. Comme dans la section précédente, nous nous intéresserons aux systèmes ayant des ensembles finis et non vides d'états classiques, et nous utiliserons une grande partie de la notation qui a été introduite dans cette section."
      ]
    },
    {
      "cell_type": "markdown",
      "id": "897e71c0",
      "metadata": {
      },
      "source": [
        "### 2.1 Vecteurs d'état quantiques<a id=\"single-systems-quantum-states\"></a>\n",
        "\n",
        "Un *état quantique* d'un système est représenté par un vecteur colonne, similaire aux états probabilistes. Comme précédemment, les indices du vecteur marquent les états classiques du système. Les vecteurs représentant des états quantiques sont caractérisés par ces deux propriétés :\n",
        "\n",
        "1. Les entrées d'un vecteur d'état quantique sont *des nombres complexes* .\n",
        "2. La somme des *valeurs absolues au carré* des entrées d'un vecteur d'état quantique doit être égale à $1.$\n",
        "\n",
        "Ainsi, contrairement au cas probabiliste, les vecteurs représentant des états quantiques n'ont pas besoin d'avoir des nombres réels non négatifs, et c'est la somme des valeurs absolues au carré des entrées (par opposition à la somme des entrées) qui doit être égale à $1.$ Aussi simples que soient ces changements, ils donnent lieu à toutes les différences entre l'information quantique et l'information classique. Toute accélération d'un ordinateur quantique ou amélioration d'un protocole de communication découle en fin de compte de ces simples changements mathématiques.\n",
        "\n",
        "La *norme euclidienne* d'un vecteur colonne\n",
        "\n",
        "$$\n",
        "  v = \\begin{pmatrix}\n",
        "    \\alpha_1\\\\\n",
        "    \\vdots\\\\\n",
        "    \\alpha_n\n",
        "  \\end{pmatrix}\n",
        "$$\n",
        "\n",
        "est noté et défini comme suit :\n",
        "\n",
        "$$\n",
        "  \\| v \\| = \\sqrt{\\sum_{k=1}^n |\\alpha_k|^2}.\n",
        "$$\n",
        "\n",
        "La condition selon laquelle la somme des valeurs absolues au carré d'un vecteur d'état quantique est égale à $1$ est donc équivalente à ce vecteur ayant une norme euclidienne égale à $1.$ Autrement dit, les vecteurs d'état quantiques sont *des vecteurs unitaires* par rapport à la norme euclidienne.\n",
        "\n",
        "#### Exemples d'états de qubit\n",
        "\n",
        "Le terme *qubit* fait référence à un système quantique dont l'ensemble d'états classique est ${0,1}$. Autrement dit, un qubit n'est en réalité qu'un bit — mais en utilisant ce nom, nous reconnaissons explicitement que ce bit peut être dans un état quantique.\n",
        "\n",
        "Voici des exemples d'états quantiques d'un qubit :\n",
        "\n",
        "$$\n",
        "  \\begin{pmatrix}\n",
        "    1\\\\[2mm]\n",
        "    0\n",
        "  \\end{pmatrix}\n",
        "  = \\vert 0\\rangle\n",
        "  \\quad\\text{and}\\quad\n",
        "  \\begin{pmatrix}\n",
        "    0\\\\[2mm]\n",
        "    1\n",
        "  \\end{pmatrix}\n",
        "  = \\vert 1\\rangle,\n",
        "$$\n",
        "\n",
        "$$ \\begin{pmatrix} \\frac{1}{\\sqrt{2}}\\[2mm] \\frac{1}{\\sqrt{2}} \\end{pmatrix} = \\frac{1}{\\sqrt{2}}\\,\\vert 0\\rangle + \\frac{1}{\\sqrt{2}}\\,\\vert 1\\rangle, \\tag{1} $$ et $$ \\begin{pmatrix} \\frac{1+2i}{3}\\[2mm] -\\frac{2}{3} \\end{pmatrix} = \\frac{1+2i}{3}\\,\\vert 0\\rangle - \\frac{2}{3}\\,\\vert 1\\rangle. $$\n",
        "\n",
        "Les deux premiers exemples, $\\vert 0\\rangle$ et $\\vert 1\\rangle$, illustrent que les éléments de base standard sont des vecteurs d'état quantiques valides : leurs entrées sont des nombres complexes (où la partie imaginaire de ces nombres se trouve être $0$ ) et le calcul de la somme des valeurs absolues au carré des entrées donne\n",
        "\n",
        "$$\n",
        "  \\vert 1\\vert^2 + \\vert 0\\vert^2 = 1\n",
        "  \\quad\\text{and}\\quad\n",
        "  \\vert 0\\vert^2 + \\vert 1\\vert^2 = 1,\n",
        "$$\n",
        "\n",
        "comme demandé. Semblable au cadre classique, nous associons les vecteurs d'état quantique $\\vert 0\\rangle$ et $\\vert 1\\rangle$ à un qubit étant dans l'état classique $0$ ou $1$, respectivement, avec certitude.\n",
        "\n",
        "Pour les deux autres exemples, nous avons à nouveau des entrées de nombres complexes, et le calcul de la somme de la valeur absolue au carré des entrées donne\n",
        "\n",
        "$$\n",
        "  \\biggl\\vert\\frac{1}{\\sqrt{2}}\\biggr\\vert^2 +\n",
        "  \\biggl\\vert\\frac{1}{\\sqrt{2}}\\biggr\\vert^2 = \\frac{1}{2} + \\frac{1}{2} = 1\n",
        "$$\n",
        "\n",
        "et\n",
        "\n",
        "$$\n",
        "  \\biggl\\vert \\frac{1+2i}{3} \\biggr\\vert^2 +\n",
        "  \\biggl\\vert -\\frac{2}{3} \\biggr\\vert^2 = \\frac{5}{9} + \\frac{4}{9} = 1.\n",
        "$$\n",
        "\n",
        "Ce sont donc des vecteurs d'état quantiques valides. Notez qu'il s'agit de combinaisons linéaires des états $\\vert 0 \\rangle$ et $\\vert 1 \\rangle$. On dit souvent que ces états sont des *superpositions* des états $0$ et $1$. Dans le contexte des états quantiques, \"superposition\" et \"combinaison linéaire\" sont essentiellement synonymes.\n",
        "\n",
        "L'exemple $(1)$ d'un vecteur d'état qubit ci-dessus est très courant - il est appelé l' *état plus* et est noté comme suit :\n",
        "\n",
        "$$\n",
        "  \\vert + \\rangle = \\frac{1}{\\sqrt{2}} \\vert 0\\rangle + \\frac{1}{\\sqrt{2}} \\vert 1\\rangle.\n",
        "$$\n",
        "\n",
        "On utilise aussi la notation\n",
        "\n",
        "$$\n",
        "  \\vert - \\rangle = \\frac{1}{\\sqrt{2}} \\vert 0\\rangle - \\frac{1}{\\sqrt{2}} \\vert 1\\rangle\n",
        "$$\n",
        "\n",
        "pour faire référence à un vecteur d'état quantique lié où la deuxième entrée est négative plutôt que positive, et nous appelons cet état l' *état moins* . Ce type de notation, où un symbole autre qu'un symbole faisant référence à un état classique apparaît à l'intérieur d'un ket, est courant - nous pouvons utiliser le nom que nous souhaitons à l'intérieur d'un ket pour nommer un vecteur.\n",
        "\n",
        "En effet, il est assez courant d'utiliser une notation telle que $\\vert\\psi\\rangle$, ou d'autres noms à la place de $\\psi$, pour faire référence à des vecteurs arbitraires qui ne sont pas nécessairement un vecteur de base standard : $\\psi $ est simplement un nom pour le vecteur, mais il est placé à l'intérieur d'un ket, ce qui souligne qu'il s'agit d'un vecteur.\n",
        "\n",
        "Remarquez que si nous avons un vecteur $\\vert \\psi \\rangle$ dont les indices correspondent à un ensemble d'états classique $\\Sigma$, et si $a\\in\\Sigma$ est un élément de cet ensemble d'états classique, alors la (matrice ) produit $\\langle a\\vert \\vert \\psi\\rangle$ est égal à l'entrée du vecteur $\\vert \\psi \\rangle$ dont l'indice correspond à $a$. Comme nous l'avons fait lorsque $\\vert \\psi \\rangle$ est un vecteur de base standard, nous écrivons $\\langle a \\vert \\psi \\rangle$ plutôt que $\\langle a\\vert \\vert \\psi\\rangle$ par souci de lisibilité.\n",
        "\n",
        "Par exemple, si $\\Sigma = {0,1}$ et\n",
        "\n",
        "$$\n",
        "\\vert \\psi \\rangle =\n",
        "\\frac{1+2i}{3} \\vert 0\\rangle - \\frac{2}{3} \\vert 1\\rangle\n",
        "= \\begin{pmatrix}\n",
        "    \\frac{1+2i}{3}\\\\[2mm]\n",
        "    -\\frac{2}{3}\n",
        "  \\end{pmatrix},\n",
        "  \\tag{2}\n",
        "$$\n",
        "\n",
        "alors\n",
        "\n",
        "$$\n",
        "  \\langle 0 \\vert \\psi \\rangle = \\frac{1+2i}{3}\n",
        "  \\quad\\text{and}\\quad\n",
        "  \\langle 1 \\vert \\psi \\rangle = -\\frac{2}{3}.\n",
        "$$\n",
        "\n",
        "Il faut comprendre lors de l'utilisation de cette notation que $\\langle \\psi \\vert$ fait référence au vecteur ligne obtenu en prenant la *transposée conjuguée* du vecteur colonne $\\vert\\psi\\rangle$, où (en plus de transposer le vecteur d'un vecteur colonne à un vecteur ligne) chaque entrée est remplacée par son conjugué complexe.\n",
        "\n",
        "Par exemple, si $\\vert\\psi\\rangle$ est le vecteur défini dans $(2)$, alors\n",
        "\n",
        "$$\n",
        "\\langle\\psi\\vert = \\frac{1-2i}{3} \\langle 0\\vert - \\frac{2}{3} \\langle 1\\vert\n",
        "= \\begin{pmatrix}\n",
        "    \\frac{1-2i}{3} &amp;\n",
        "    -\\frac{2}{3}\n",
        "  \\end{pmatrix}.\n",
        "$$\n",
        "\n",
        "La raison pour laquelle nous prenons le conjugué complexe, en plus de la transposition, deviendra plus claire dans la leçon 3 lorsque nous discuterons du *produit scalaire* ."
      ]
    },
    {
      "cell_type": "markdown",
      "id": "a32a6551",
      "metadata": {
      },
      "source": [
        "#### États quantiques d'autres systèmes\n",
        "\n",
        "Nous pouvons considérer les états quantiques de systèmes ayant des ensembles d'états classiques arbitraires.\n",
        "\n",
        "Par exemple, voici un vecteur d'état quantique pour un interrupteur de ventilateur électrique :\n",
        "\n",
        "$$\n",
        "  \\begin{pmatrix}\n",
        "    \\frac{1}{2}\\\\[1mm]\n",
        "    0 \\\\[1mm]\n",
        "    -\\frac{i}{2}\\\\[1mm]\n",
        "    \\frac{1}{\\sqrt{2}}\n",
        "  \\end{pmatrix}\n",
        "  =\n",
        "  \\frac{1}{2} \\vert\\mathrm{high}\\rangle\n",
        "  - \\frac{i}{2} \\vert\\mathrm{low}\\rangle\n",
        "  + \\frac{1}{\\sqrt{2}} \\vert\\mathrm{off}\\rangle.\n",
        "$$\n",
        "\n",
        "L'hypothèse ici est que les états classiques sont ordonnés comme *haut* , *moyen* , *bas* , *éteint* . Il n'y a peut-être aucune raison particulière pour laquelle on voudrait considérer un état quantique d'un interrupteur de ventilateur électrique, mais c'est possible en principe.\n",
        "\n",
        "Voici un autre exemple, cette fois d'un chiffre décimal quantique dont les états classiques sont $0, 1, \\ldots, 9$ :\n",
        "\n",
        "$$\n",
        "  \\frac{1}{\\sqrt{385}}\n",
        "  \\begin{pmatrix}\n",
        "    1\\\\\n",
        "    2\\\\\n",
        "    3\\\\\n",
        "    4\\\\\n",
        "    5\\\\\n",
        "    6\\\\\n",
        "    7\\\\\n",
        "    8\\\\\n",
        "    9\\\\\n",
        "    10\n",
        "  \\end{pmatrix}\n",
        "  =\n",
        "  \\frac{1}{\\sqrt{385}}\\sum_{k = 0}^9 (k+1) \\vert k \\rangle.\n",
        "$$\n",
        "\n",
        "Cet exemple illustre la commodité d'écrire des vecteurs d'état en utilisant la notation de Dirac. Pour cet exemple particulier, la représentation du vecteur colonne est simplement encombrante - mais s'il y avait beaucoup plus d'états classiques, elle deviendrait inutilisable. La notation de Dirac, en revanche, prend en charge des descriptions précises de vecteurs grands et compliqués sous une forme compacte.\n",
        "\n",
        "La notation de Dirac permet également l'expression de vecteurs où différents aspects des vecteurs sont *indéterminés* (c'est-à-dire inconnus ou pas encore établis). Par exemple, pour un ensemble d'états classique arbitraire $\\Sigma$, on peut considérer le vecteur d'état quantique\n",
        "\n",
        "$$\n",
        "  \\frac{1}{\\sqrt{|\\Sigma|}} \\sum_{a\\in\\Sigma} \\vert a \\rangle,\n",
        "$$\n",
        "\n",
        "qui est une superposition uniforme sur les états classiques de $\\Sigma$. (Ici, la notation $\\vert\\Sigma\\vert$ fait référence au nombre d'éléments dans $\\Sigma$.)\n",
        "\n",
        "Nous rencontrerons des expressions beaucoup plus compliquées de vecteurs d'état quantiques dans des leçons ultérieures, où l'utilisation de vecteurs colonnes serait peu pratique ou impossible. En fait, nous abandonnerons principalement la représentation vectorielle colonne des vecteurs d'état, sauf pour les vecteurs ayant un petit nombre d'entrées (souvent dans le cadre d'exemples), où il peut être utile d'afficher et d'examiner les entrées explicitement.\n",
        "\n",
        "Il y a une autre raison pour laquelle l'expression des vecteurs d'état à l'aide de la notation de Dirac est généralement plus pratique : elle évite d'avoir à spécifier explicitement un ordre des états classiques (ou, de manière équivalente, la correspondance entre les états classiques et les indices vectoriels). Par exemple, un vecteur d'état quantique pour un système ayant un ensemble d'états classique ${\\clubsuit,\\diamondsuit,\\heartsuit,\\spadesuit}$, tel que\n",
        "\n",
        "$$\n",
        "    \\frac{1}{2} \\vert\\clubsuit\\rangle\n",
        "  + \\frac{i}{2} \\vert\\diamondsuit\\rangle\n",
        "  - \\frac{1}{2} \\vert\\heartsuit\\rangle\n",
        "  - \\frac{i}{2} \\vert\\spadesuit\\rangle,\n",
        "$$\n",
        "\n",
        "est décrit sans ambiguïté par cette expression, et il n'est vraiment pas nécessaire de choisir ou de spécifier un ordre de cet ensemble d'états classique pour donner un sens à l'expression. Dans ce cas, il n'est pas difficile de spécifier simplement un ordre des combinaisons de cartes standard — par exemple, nous pourrions les ordonner comme suit : $\\clubsuit$, $\\diamondsuit$, $\\heartsuit$, $\\spadesuit$. Si nous choisissons cet ordre particulier, le vecteur d'état quantique ci-dessus est représenté par le vecteur colonne\n",
        "\n",
        "$$\n",
        "\\begin{pmatrix}\n",
        " \\frac{1}{2}\\\\[2mm]\n",
        " \\frac{i}{2}\\\\[2mm]\n",
        " -\\frac{1}{2}\\\\[2mm]\n",
        " -\\frac{i}{2}\n",
        "\\end{pmatrix}.\n",
        "$$\n",
        "\n",
        "En général, cependant, il est commode d'ignorer simplement la question de savoir comment les ensembles d'états classiques sont ordonnés et de considérer que les vecteurs d'états quantiques sont directement indexés par les états classiques."
      ]
    },
    {
      "cell_type": "markdown",
      "id": "b44fece2",
      "metadata": {
      },
      "source": [
        "### 2.2 Mesure des états quantiques<a id=\"single-systems-quantum-measure\"></a>\n",
        "\n",
        "Considérons ensuite ce qui se passe lorsqu'un état quantique est *mesuré* , en nous concentrant sur un type de mesure simple appelé mesure de *base standard* . (Il existe des notions plus générales de mesure qui seront discutées plus tard.)\n",
        "\n",
        "Semblable au réglage probabiliste, lorsqu'un système dans un état quantique est mesuré, l'observateur effectuant la mesure ne verra pas un vecteur d'état quantique, mais plutôt un état classique. En ce sens, les mesures agissent comme l'interface entre les informations quantiques et classiques, à travers lesquelles les informations classiques sont extraites des états quantiques.\n",
        "\n",
        "La règle est simple : si un état quantique est mesuré, chaque état classique du système résulte avec une probabilité égale à la *valeur absolue au carré* de l'entrée dans le vecteur d'état quantique correspondant à cet état classique. C'est ce qu'on appelle la *règle de Born* en mécanique quantique. Notez que cette règle est cohérente avec l'exigence selon laquelle les valeurs absolues au carré des entrées dans un vecteur d'état quantique totalisent 1, car elle implique que les probabilités de différents résultats de mesure d'état classique totalisent $1.$\n",
        "\n",
        "Par exemple, mesurer l'état positif\n",
        "\n",
        "$$\n",
        "  \\vert + \\rangle =\n",
        "  \\frac{1}{\\sqrt{2}} \\vert 0 \\rangle\n",
        "  + \\frac{1}{\\sqrt{2}} \\vert 1 \\rangle\n",
        "$$\n",
        "\n",
        "donne les deux résultats possibles, $0$ et $1,$ avec les probabilités suivantes.\n",
        "\n",
        "$$\n",
        "  \\operatorname{Pr}(\\text{outcome is 0})\n",
        "  = \\bigl\\vert \\langle 0 \\vert + \\rangle \\bigr\\vert^2\n",
        "  = \\biggl\\vert \\frac{1}{\\sqrt{2}} \\biggr\\vert^2\n",
        "  = \\frac{1}{2}\n",
        "$$\n",
        "\n",
        "$$\n",
        "  \\operatorname{Pr}(\\text{outcome is 1})\n",
        "  = \\bigl\\vert \\langle 1 \\vert + \\rangle \\bigr\\vert^2\n",
        "  = \\biggl\\vert \\frac{1}{\\sqrt{2}} \\biggr\\vert^2\n",
        "  = \\frac{1}{2}\n",
        "$$\n",
        "\n",
        "Fait intéressant, mesurer l'état négatif\n",
        "\n",
        "$$\n",
        "  \\vert - \\rangle =\n",
        "  \\frac{1}{\\sqrt{2}} \\vert 0 \\rangle\n",
        "  - \\frac{1}{\\sqrt{2}} \\vert 1 \\rangle\n",
        "$$\n",
        "\n",
        "donne exactement les mêmes probabilités pour les deux résultats.\n",
        "\n",
        "$$\n",
        "  \\operatorname{Pr}(\\text{outcome is 0})\n",
        "  = \\bigl\\vert \\langle 0 \\vert - \\rangle \\bigr\\vert^2\n",
        "  = \\biggl\\vert \\frac{1}{\\sqrt{2}} \\biggr\\vert^2\n",
        "  = \\frac{1}{2}\n",
        "$$\n",
        "\n",
        "$$\n",
        "  \\operatorname{Pr}(\\text{outcome is 1})\n",
        "  = \\bigl\\vert \\langle 1 \\vert - \\rangle \\bigr\\vert^2\n",
        "  = \\biggl\\vert -\\frac{1}{\\sqrt{2}} \\biggr\\vert^2\n",
        "  = \\frac{1}{2}\n",
        "$$\n",
        "\n",
        "Cela suggère que, en ce qui concerne les mesures de base standard, les états plus et moins sont exactement les mêmes. Pourquoi devrions-nous prendre soin de faire une distinction, alors? Nous commencerons à aborder cette question dans la section 2.3 ci-dessous.\n",
        "\n",
        "Comme dernier exemple, la mesure de l'état\n",
        "\n",
        "$$\n",
        "  \\vert \\psi \\rangle = \\frac{1+2i}{3} \\vert 0\\rangle - \\frac{2}{3} \\vert 1\\rangle\n",
        "$$\n",
        "\n",
        "a des probabilités données par\n",
        "\n",
        "$$\n",
        "  \\operatorname{Pr}(\\text{outcome is 0})\n",
        "  = \\bigl\\vert \\langle 0 \\vert \\psi \\rangle \\bigr\\vert^2\n",
        "  = \\biggl\\vert \\frac{1+2i}{3} \\biggr\\vert^2\n",
        "  = \\frac{5}{9},\n",
        "$$\n",
        "\n",
        "et\n",
        "\n",
        "$$\n",
        "  \\operatorname{Pr}(\\text{outcome is 1})\n",
        "  = \\bigl\\vert \\langle 1 \\vert \\psi \\rangle \\bigr\\vert^2\n",
        "  = \\biggl\\vert -\\frac{2}{3} \\biggr\\vert^2\n",
        "  = \\frac{4}{9}.\n",
        "$$\n",
        "\n",
        "Bien entendu, la mesure de l'état quantique $\\vert 0\\rangle$ aboutit avec certitude à l'état classique $0$, et de même la mesure de l'état quantique $\\vert 1\\rangle$ aboutit à l'état classique $1$ avec certitude. Ceci est cohérent avec l'identification de ces états quantiques avec le système *étant* dans l'état classique correspondant, comme cela a été suggéré précédemment."
      ]
    },
    {
      "cell_type": "markdown",
      "id": "dbbdd27b",
      "metadata": {
        "formulas": {
          "conjugate-transpose": {
            "meaning": "This symbol represents the conjugate transpose.<br><a href=\"https://en.wikipedia.org/wiki/Conjugate_transpose\">Read more</a>.",
            "say": "\"Dagger\""
          },
          "identity-matrix": {
            "meaning": "This is the *identity matrix*, which represents the operation that has no effect (i.e., the identity operation)."
          }
        }
      },
      "source": [
        "### 2.3 Opérations unitaires<a id=\"single-systems-unitary\"></a>\n",
        "\n",
        "Jusqu'à présent, il n'est peut-être pas évident de comprendre pourquoi l'information quantique est fondamentalement différente de l'information classique. Autrement dit, lorsqu'un état quantique est mesuré, la probabilité d'obtenir chaque état classique est donnée par la valeur absolue au carré de l'entrée vectorielle correspondante - alors pourquoi ne pas simplement enregistrer ces probabilités dans un vecteur de probabilité ?\n",
        "\n",
        "La réponse, au moins en partie, est que l'ensemble des *opérations* autorisées pouvant être effectuées sur un état quantique est différent de ce qu'il est pour les informations classiques. Semblable au cadre probabiliste, les opérations sur les états quantiques sont des mappages linéaires - mais plutôt que d'être représentées par des matrices stochastiques comme dans le cas classique, les opérations sur les vecteurs d'état quantiques sont représentées par des matrices *unitaires* .\n",
        "\n",
        "Une matrice carrée $U$ ayant des nombres complexes est unitaire si elle satisfait les équations\n",
        "\n",
        "$$\n",
        "  \\begin{aligned}\n",
        "    U U^{\\dagger} &amp;= \\class{identity-matrix}{\\mathbb{1}} \\\\\n",
        "    U^{\\class{conjugate-transpose}{\\dagger}} U &amp;= \\class{identity-matrix}{\\mathbb{1}}.\n",
        "  \\end{aligned}\n",
        "$$\n",
        "\n",
        "Ici, $\\mathbb{1}$ est la matrice identité, et $U^{\\dagger}$ est la *transposée conjuguée* de $U$, c'est-à-dire la matrice obtenue en transposant $U$ et en prenant le conjugué complexe de chaque entrée. $$ U^{\\dagger} = \\overline{U^T} $$ Si l'une des égalités dans l'équation ci-dessus est vraie, alors l'autre doit également être vraie ; les deux égalités sont équivalentes à $U^{\\dagger}$ étant l'inverse de $U$ :\n",
        "\n",
        "$$\n",
        "  U^{-1} = U^{\\dagger}.\n",
        "$$\n",
        "\n",
        "(Attention : si $M$ n'est pas une matrice carrée, alors il se peut que $M^{\\dagger} M = \\mathbb{1}$ et $MM^{\\dagger} \\not= \\mathbb{1}$ , par exemple. L'équivalence des deux égalités dans la première équation ci-dessus n'est vraie que pour les matrices carrées.)\n",
        "\n",
        "La condition que $U$ soit unitaire est équivalente à la condition que la multiplication par $U$ ne change pas la norme euclidienne d'aucun vecteur. Autrement dit, une matrice $n\\fois n$ $U$ est unitaire si et seulement si $\\| U \\vert \\psi \\rangle \\| = \\|\\vert \\psi \\rangle \\|$ pour chaque vecteur colonne $n$-dimensionnel $\\vert \\psi \\rangle$ avec des nombres complexes. Ainsi, parce que l'ensemble de tous les vecteurs d'état quantique est le même que l'ensemble de vecteurs ayant une norme euclidienne égale à $1,$ la multiplication d'une matrice unitaire à un vecteur d'état quantique donne un autre vecteur d'état quantique.\n",
        "\n",
        "En effet, les matrices unitaires sont exactement l'ensemble des applications linéaires qui transforment les vecteurs d'état quantiques en d'autres vecteurs d'état quantiques. Remarquez ici une ressemblance avec le cas probabiliste classique, où les opérations sont associées à des matrices stochastiques, qui sont celles qui transforment toujours les vecteurs de probabilité en vecteurs de probabilité.\n",
        "\n",
        "<!-- ::: q-block.exercise -->\n",
        "\n",
        "### Questionnaire rapide\n",
        "\n",
        "<!-- ::: q-quiz(goal=\"ss-quiz-0\") -->\n",
        "\n",
        "<!-- ::: .question -->\n",
        "\n",
        "Laquelle de ces matrices est unitaire ?\n",
        "\n",
        "<!-- ::: -->\n",
        "\n",
        "<!-- ::: .option -->\n",
        "\n",
        "1. $\\begin{pmatrix} 1 &amp; 0 \\\\ 1 &amp; 0 \\end{pmatrix}$\n",
        "\n",
        "<!-- ::: -->\n",
        "\n",
        "<!-- ::: .option -->\n",
        "\n",
        "1. $\\begin{pmatrix} 0 &amp; \\frac{1}{2} \\\\ \\frac{-i}{2} &amp; 0 \\end{pmatrix}$\n",
        "\n",
        "<!-- ::: -->\n",
        "\n",
        "<!-- ::: .option(correct) -->\n",
        "\n",
        "1. $\\begin{pmatrix} 1 &amp; 0 \\\\ 0 &amp; i \\end{pmatrix}$\n",
        "\n",
        "<!-- ::: -->\n",
        "\n",
        "<!-- ::: -->\n",
        "\n",
        "<!-- ::: -->"
      ]
    },
    {
      "cell_type": "markdown",
      "id": "50da89b7",
      "metadata": {
      },
      "source": [
        "#### Exemples importants d'opérations unitaires sur les qubits\n",
        "\n",
        "La liste suivante décrit certaines opérations unitaires importantes sur les qubits.\n",
        "\n",
        "1. *opérations de Pauli.* Les quatre matrices de Pauli sont les suivantes :\n",
        "\n",
        "    $$\n",
        "         \\mathbb{1} =\n",
        "         \\begin{pmatrix}\n",
        "           1 &amp; 0\\\\\n",
        "           0 &amp; 1\n",
        "         \\end{pmatrix},\n",
        "         \\quad\n",
        "         \\sigma_x =\n",
        "         \\begin{pmatrix}\n",
        "           0 &amp; 1\\\\\n",
        "           1 &amp; 0\n",
        "         \\end{pmatrix},\n",
        "         \\quad\n",
        "         \\sigma_y =\n",
        "         \\begin{pmatrix}\n",
        "           0 &amp; -i\\\\\n",
        "           i &amp; 0\n",
        "         \\end{pmatrix},\n",
        "         \\quad\n",
        "         \\sigma_z =\n",
        "         \\begin{pmatrix}\n",
        "           1 &amp; 0\\\\\n",
        "           0 &amp; -1\n",
        "         \\end{pmatrix}.\n",
        "       $$\n",
        "\n",
        "    Une notation courante, que nous utiliserons souvent, est $X = \\sigma_x$, $Y = \\sigma_y$ et $Z = \\sigma_z$ — mais sachez que les lettres $X$, $Y$ et $Z $ sont également couramment utilisés à d'autres fins. L'opération $\\sigma_x$ (ou $X$) est aussi appelée *retournement de bit* ou *opération NOT* car elle induit cette action sur les bits :\n",
        "\n",
        "    $$\n",
        "         \\sigma_x \\vert 0\\rangle = \\vert 1\\rangle\n",
        "         \\quad \\text{and} \\quad\n",
        "         \\sigma_x \\vert 1\\rangle = \\vert 0\\rangle.\n",
        "       $$\n",
        "\n",
        "    L'opération $\\sigma_z$ (ou $Z$) est aussi appelée *retournement de phase* car elle a cette action :\n",
        "\n",
        "    $$\n",
        "         \\sigma_z \\vert 0\\rangle = \\vert 0\\rangle\n",
        "         \\quad \\text{and} \\quad\n",
        "         \\sigma_z \\vert 1\\rangle = - \\vert 1\\rangle.\n",
        "       $$\n",
        "\n",
        "2. *Opération Hadamard* . L'opération Hadamard est décrite par cette matrice :\n",
        "\n",
        "    $$\n",
        "         H = \\begin{pmatrix}\n",
        "           \\frac{1}{\\sqrt{2}} &amp; \\frac{1}{\\sqrt{2}} \\\\[2mm]\n",
        "           \\frac{1}{\\sqrt{2}} &amp; -\\frac{1}{\\sqrt{2}}\n",
        "         \\end{pmatrix}.\n",
        "       $$\n",
        "\n",
        "3. *Opérations de phases.* Une opération de phase est celle décrite par la matrice\n",
        "\n",
        "    $$\n",
        "         P_{\\theta} =\n",
        "         \\begin{pmatrix}\n",
        "           1 &amp; 0\\\\\n",
        "           0 &amp; e^{i\\theta}\n",
        "         \\end{pmatrix}\n",
        "       $$\n",
        "\n",
        "    pour tout choix d'un nombre réel $\\theta$. Les opérations\n",
        "\n",
        "    $$\n",
        "         S = P_{\\pi/2} =\n",
        "         \\begin{pmatrix}\n",
        "           1 &amp; 0\\\\\n",
        "           0 &amp; i\n",
        "         \\end{pmatrix}\n",
        "         \\quad\\text{and}\\quad\n",
        "         T\n",
        "         = P_{\\pi/4}\n",
        "         =\n",
        "         \\begin{pmatrix}\n",
        "           1 &amp; 0\\\\\n",
        "           0 &amp; \\frac{1 + i}{\\sqrt{2}}\n",
        "         \\end{pmatrix}\n",
        "       $$\n",
        "\n",
        "    sont des exemples particulièrement importants. D'autres exemples incluent $\\mathbb{1} = P_0$ et $\\sigma_z = P_{\\pi}$.\n",
        "\n",
        "Toutes les matrices qui viennent d'être définies sont unitaires et représentent donc des opérations quantiques sur un seul qubit.\n",
        "\n",
        "Par exemple, voici un calcul qui vérifie que $H$ est unitaire :\n",
        "\n",
        "$$\n",
        "  \\begin{aligned}\n",
        "  \\begin{pmatrix}\n",
        "    \\frac{1}{\\sqrt{2}} &amp; \\frac{1}{\\sqrt{2}} \\\\[2mm]\n",
        "    \\frac{1}{\\sqrt{2}} &amp; -\\frac{1}{\\sqrt{2}}\n",
        "  \\end{pmatrix}^{\\dagger}\n",
        "  \\begin{pmatrix}\n",
        "    \\frac{1}{\\sqrt{2}} &amp; \\frac{1}{\\sqrt{2}} \\\\[2mm]\n",
        "    \\frac{1}{\\sqrt{2}} &amp; -\\frac{1}{\\sqrt{2}}\n",
        "  \\end{pmatrix}\n",
        "  &amp; =\n",
        "  \\begin{pmatrix}\n",
        "    \\frac{1}{\\sqrt{2}} &amp; \\frac{1}{\\sqrt{2}} \\\\[2mm]\n",
        "    \\frac{1}{\\sqrt{2}} &amp; -\\frac{1}{\\sqrt{2}}\n",
        "  \\end{pmatrix}\n",
        "  \\begin{pmatrix}\n",
        "    \\frac{1}{\\sqrt{2}} &amp; \\frac{1}{\\sqrt{2}} \\\\[2mm]\n",
        "    \\frac{1}{\\sqrt{2}} &amp; -\\frac{1}{\\sqrt{2}}\n",
        "  \\end{pmatrix}\\\\[2mm]\n",
        "  &amp; = \\begin{pmatrix}\n",
        "    \\frac{1}{2} + \\frac{1}{2} &amp; \\frac{1}{2} - \\frac{1}{2}\\\\[2mm]\n",
        "    \\frac{1}{2} - \\frac{1}{2} &amp; \\frac{1}{2} + \\frac{1}{2}\n",
        "  \\end{pmatrix}\\\\[2mm]\n",
        "  &amp; =\n",
        "  \\begin{pmatrix}\n",
        "    1 &amp; 0\\\\\n",
        "    0 &amp; 1\n",
        "  \\end{pmatrix}.\n",
        "  \\end{aligned}\n",
        "$$\n",
        "\n",
        "Voici l'action de l'opération Hadamard sur quelques vecteurs d'état qubit.\n",
        "\n",
        "$$\n",
        "   \\begin{aligned}\n",
        "  H \\vert 0 \\rangle &amp; =\n",
        "  \\begin{pmatrix}\n",
        "    \\frac{1}{\\sqrt{2}} &amp; \\frac{1}{\\sqrt{2}} \\\\[2mm]\n",
        "    \\frac{1}{\\sqrt{2}} &amp; -\\frac{1}{\\sqrt{2}}\n",
        "  \\end{pmatrix}\n",
        "  \\begin{pmatrix}\n",
        "    1\\\\[2mm]\n",
        "    0\n",
        "  \\end{pmatrix}\n",
        "  =\n",
        "  \\begin{pmatrix}\n",
        "    \\frac{1}{\\sqrt{2}}\\\\[2mm]\n",
        "    \\frac{1}{\\sqrt{2}}\n",
        "  \\end{pmatrix}\n",
        "  = \\vert + \\rangle,\\\\[2mm]\n",
        "  H \\vert 1 \\rangle\n",
        "  &amp; =\n",
        "  \\begin{pmatrix}\n",
        "    \\frac{1}{\\sqrt{2}} &amp; \\frac{1}{\\sqrt{2}} \\\\[2mm]\n",
        "    \\frac{1}{\\sqrt{2}} &amp; -\\frac{1}{\\sqrt{2}}\n",
        "  \\end{pmatrix}\n",
        "  \\begin{pmatrix}\n",
        "    0\\\\[2mm]\n",
        "    1\n",
        "  \\end{pmatrix}\n",
        "  =\n",
        "  \\begin{pmatrix}\n",
        "    \\frac{1}{\\sqrt{2}}\\\\[2mm]\n",
        "    -\\frac{1}{\\sqrt{2}}\n",
        "  \\end{pmatrix}\n",
        "  = \\vert - \\rangle,\\\\[2mm]\n",
        "  H \\vert + \\rangle\n",
        "  &amp; =\n",
        "  \\begin{pmatrix}\n",
        "    \\frac{1}{\\sqrt{2}} &amp; \\frac{1}{\\sqrt{2}} \\\\[2mm]\n",
        "    \\frac{1}{\\sqrt{2}} &amp; -\\frac{1}{\\sqrt{2}}\n",
        "  \\end{pmatrix}\n",
        "  \\begin{pmatrix}\n",
        "    \\frac{1}{\\sqrt{2}}\\\\[2mm]\n",
        "    \\frac{1}{\\sqrt{2}}\n",
        "  \\end{pmatrix}\n",
        "  =\n",
        "  \\begin{pmatrix}\n",
        "    1\\\\[2mm]\n",
        "    0\n",
        "  \\end{pmatrix}\n",
        "  = \\vert 0 \\rangle,\\\\[2mm]\n",
        "  H \\vert - \\rangle\n",
        "  &amp; =\n",
        "  \\begin{pmatrix}\n",
        "    \\frac{1}{\\sqrt{2}} &amp; \\frac{1}{\\sqrt{2}} \\\\[2mm]\n",
        "    \\frac{1}{\\sqrt{2}} &amp; -\\frac{1}{\\sqrt{2}}\n",
        "  \\end{pmatrix}\n",
        "  \\begin{pmatrix}\n",
        "    \\frac{1}{\\sqrt{2}}\\\\[2mm]\n",
        "    -\\frac{1}{\\sqrt{2}}\n",
        "  \\end{pmatrix}\n",
        "  =\n",
        "  \\begin{pmatrix}\n",
        "    0\\\\[2mm]\n",
        "    1\n",
        "  \\end{pmatrix}\n",
        "  = \\vert 1 \\rangle\n",
        "  \\end{aligned}\n",
        "$$\n",
        "\n",
        "et\n",
        "\n",
        "$$\n",
        "  \\begin{aligned}\n",
        "    H \\biggl(\\frac{1+2i}{3} \\vert 0\\rangle - \\frac{2}{3} \\vert 1\\rangle\\biggr)\n",
        "    &amp; =\n",
        "    \\begin{pmatrix}\n",
        "      \\frac{1}{\\sqrt{2}} &amp; \\frac{1}{\\sqrt{2}} \\\\[2mm]\n",
        "      \\frac{1}{\\sqrt{2}} &amp; -\\frac{1}{\\sqrt{2}}\n",
        "    \\end{pmatrix}\n",
        "    \\begin{pmatrix}\n",
        "      \\frac{1+2i}{3}\\\\[2mm]\n",
        "      -\\frac{2}{3}\n",
        "    \\end{pmatrix}\\\\[2mm]\n",
        "    &amp; =\n",
        "    \\begin{pmatrix}\n",
        "      \\frac{-1+2i}{3\\sqrt{2}}\\\\[2mm]\n",
        "      \\frac{3+2i}{3\\sqrt{2}}\n",
        "    \\end{pmatrix}\\\\[2mm]\n",
        "    &amp; =\n",
        "    \\frac{-1+2i}{3\\sqrt{2}} | 0 \\rangle\n",
        "    + \\frac{3+2i}{3\\sqrt{2}} | 1 \\rangle\n",
        "  \\end{aligned}\n",
        "$$\n",
        "\n",
        "Le dernier de ces exemples n'est pas important, mais les autres méritent d'être résumés plus succinctement.\n",
        "\n",
        "$$\n",
        "  \\begin{aligned}\n",
        "    H \\vert 0 \\rangle &amp; = \\vert + \\rangle,\\\\[2mm]\n",
        "    H \\vert 1 \\rangle &amp; = \\vert - \\rangle,\\\\[2mm]\n",
        "    H \\vert + \\rangle &amp; = \\vert 0 \\rangle,\\\\[2mm]\n",
        "    H \\vert - \\rangle &amp; = \\vert 1 \\rangle\n",
        "  \\end{aligned}\n",
        "$$\n",
        "\n",
        "Il vaut la peine de s'arrêter pour considérer le fait que $H\\vert +\\rangle = \\vert 0\\rangle$ et $H\\vert -\\rangle = \\vert 1\\rangle$. Considérons une situation dans laquelle un qubit est préparé dans l'un des deux états quantiques $\\vert +\\rangle$ et $\\vert -\\rangle$, mais où nous ne savons pas de quel état il s'agit. Mesurer l'un ou l'autre des états produit la même distribution de sortie que l'autre : $0$ et $1$ apparaissent tous les deux avec une probabilité égale $1/2.$ Ainsi, cela ne fournit aucune information sur lequel des deux états $\\vert +\\rangle$ et $\\ vert -\\rangle$ a été préparé à l'origine. Cependant, si nous appliquons une opération de Hadamard puis mesurons, nous obtenons le résultat $0$ avec certitude si l'état d'origine était $\\vert +\\rangle$ et nous obtenons à nouveau le résultat $1,$ avec certitude si l'état d'origine était $ \\vert -\\rangle$. Ainsi, les états quantiques $\\vert +\\rangle$ et $\\vert -\\rangle$ peuvent être *parfaitement* discriminés . Cela révèle que les changements de signe, ou plus généralement les changements de *phases* (qui sont aussi traditionnellement appelés *arguments* ) des entrées de nombres complexes d'un vecteur d'état quantique, peuvent modifier cet état de manière significative.\n",
        "\n",
        "Voici un autre exemple, cette fois de l'action d'une opération $T$ sur un état plus.\n",
        "\n",
        "$$\n",
        "  T \\vert +\\rangle\n",
        "  = T \\biggl(\\frac{1}{\\sqrt{2}} \\vert 0\\rangle + \\frac{1}{\\sqrt{2}} \\vert 1\\rangle\\biggr)\n",
        "  = \\frac{1}{\\sqrt{2}} T\\vert 0\\rangle + \\frac{1}{\\sqrt{2}} T\\vert 1\\rangle\n",
        "  = \\frac{1}{\\sqrt{2}} \\vert 0\\rangle + \\frac{1+i}{2} \\vert 1\\rangle\n",
        "$$\n",
        "\n",
        "Notez ici que nous n'avons pas pris la peine de convertir les formes équivalentes de matrice/vecteur, et avons plutôt utilisé la linéarité de la multiplication matricielle avec les formules\n",
        "\n",
        "$$\n",
        "T \\vert 0\\rangle = \\vert 0\\rangle\n",
        "\\quad\\text{and}\\quad\n",
        "T \\vert 1\\rangle = \\frac{1 + i}{\\sqrt{2}} \\vert 1\\rangle.\n",
        "$$\n",
        "\n",
        "Dans le même ordre d'idées, nous pouvons calculer le résultat de l'application d'une opération Hadamard au vecteur d'état quantique que nous venons d'obtenir :\n",
        "\n",
        "$$\n",
        "\\begin{aligned}\n",
        "H\\,  \\biggl(\\frac{1}{\\sqrt{2}} \\vert 0\\rangle + \\frac{1+i}{2} \\vert 1\\rangle\\biggr)\n",
        "&amp; = \\frac{1}{\\sqrt{2}} H \\vert 0\\rangle + \\frac{1+i}{2} H \\vert 1\\rangle\\\\\n",
        "&amp; = \\frac{1}{\\sqrt{2}} \\vert +\\rangle + \\frac{1+i}{2} \\vert -\\rangle \\\\\n",
        "&amp; = \\biggl(\\frac{1}{2} \\vert 0\\rangle + \\frac{1}{2} \\vert 1\\rangle\\biggr)\n",
        "+ \\biggl(\\frac{1+i}{2\\sqrt{2}} \\vert 0\\rangle - \\frac{1+i}{2\\sqrt{2}} \\vert 1\\rangle\\biggr)\\\\\n",
        "&amp; = \\biggl(\\frac{1}{2} + \\frac{1+i}{2\\sqrt{2}}\\biggr) \\vert 0\\rangle\n",
        "+ \\biggl(\\frac{1}{2} - \\frac{1+i}{2\\sqrt{2}}\\biggr) \\vert 1\\rangle.\n",
        "\\end{aligned}\n",
        "$$\n",
        "\n",
        "Les deux approches - l'une où nous convertissons explicitement en représentations matricielles et l'autre où nous utilisons la linéarité et branchons les actions d'une opération sur des états de base standard - sont équivalentes. Nous pouvons utiliser celui qui est le plus pratique dans le cas présent.\n",
        "\n",
        "#### Compositions d'opérations unitaires qubit\n",
        "\n",
        "Les compositions d'opérations unitaires sont représentées par la multiplication matricielle, tout comme nous l'avions dans le cadre probabiliste. Par exemple, si nous appliquons d'abord une opération Hadamard, suivie de l'opération $S$, suivie d'une autre opération Hadamard, l'opération résultante (que nous nommerons $R$) est la suivante :\n",
        "\n",
        "$$\n",
        "  R = H S H =\n",
        "  \\begin{pmatrix}\n",
        "    \\frac{1}{\\sqrt{2}} &amp; \\frac{1}{\\sqrt{2}} \\\\[2mm]\n",
        "    \\frac{1}{\\sqrt{2}} &amp; -\\frac{1}{\\sqrt{2}}\n",
        "  \\end{pmatrix}\n",
        "  \\begin{pmatrix}\n",
        "    1 &amp; 0\\\\\n",
        "    0 &amp; i\n",
        "  \\end{pmatrix}\n",
        "  \\begin{pmatrix}\n",
        "    \\frac{1}{\\sqrt{2}} &amp; \\frac{1}{\\sqrt{2}} \\\\[2mm]\n",
        "    \\frac{1}{\\sqrt{2}} &amp; -\\frac{1}{\\sqrt{2}}\n",
        "  \\end{pmatrix}\n",
        "  =\n",
        "  \\begin{pmatrix}\n",
        "    \\frac{1+i}{2} &amp; \\frac{1-i}{2} \\\\[2mm]\n",
        "    \\frac{1-i}{2} &amp; \\frac{1+i}{2}\n",
        "  \\end{pmatrix}.\n",
        "$$\n",
        "\n",
        "Cette opération unitaire $R$ est un exemple intéressant. En appliquant deux fois cette opération, ce qui équivaut à élever au carré sa représentation matricielle, on obtient une opération NON :\n",
        "\n",
        "$$\n",
        "  R^2 =\n",
        "  \\begin{pmatrix}\n",
        "    \\frac{1+i}{2} &amp; \\frac{1-i}{2} \\\\[2mm]\n",
        "    \\frac{1-i}{2} &amp; \\frac{1+i}{2}\n",
        "  \\end{pmatrix}^2\n",
        "  =\n",
        "  \\begin{pmatrix}\n",
        "    0 &amp; 1 \\\\[2mm]\n",
        "    1 &amp; 0\n",
        "  \\end{pmatrix}.\n",
        "$$\n",
        "\n",
        "Autrement dit, $R$ est une *racine carrée de l'opération NOT* . Un tel comportement, où la même opération est appliquée deux fois pour donner une opération NON, n'est pas possible pour une opération classique sur un seul bit. Ceci est lié au fait que vous ne pouvez pas prendre la racine carrée d'un nombre négatif et rester sur la droite réelle.\n",
        "\n",
        "Vous pouvez utiliser le composant interactif ci-dessous pour composer une séquence d'opérations unitaires qubit. Il vous montre à la fois la représentation matricielle de l'opération unitaire résultante ainsi que son action sur l'état $\\vert 0\\rangle$, que nous considérons comme l'état initialisé par défaut d'un qubit. Pour spécifier la séquence, faites glisser les opérations que vous souhaitez effectuer sur le qubit vers le bas sur la ligne : l'opération la plus à gauche est appliquée en premier et la plus à droite appliquée en dernier. Des diagrammes comme celui-ci représentent *des circuits quantiques* , qui sont abordés plus en détail et de manière générale dans la leçon 3."
      ]
    },
    {
      "cell_type": "markdown",
      "id": "ed49552c",
      "metadata": {
        "scrolled": true
      },
      "source": [
        "<!-- ::: q-block -->\n",
        "\n",
        "### Bac à sable de circuit\n",
        "\n",
        "```\n",
        "q-circuit-sandbox-widget(goal=\"single-systems-circuit-sandbox\")\n",
        "    .availableGates X Y Z H S T\n",
        "    .instructions Drag the operations down onto the circuit to see how they transform the qubit.\n",
        "    .explanation The <strong>matrix</strong> display shows the unitary matrix of the circuit (i.e., of all the operations composed together). The <strong>state vector</strong> display shows the state of the qubit after the operations act on it.\n",
        "```\n",
        "\n",
        "<!-- ::: -->"
      ]
    },
    {
      "cell_type": "markdown",
      "id": "e3b623b4",
      "metadata": {
        "formulas": {
          "_u00": {
            "meaning": "The probability amplitude of this operation transforming the input qubit from 0 → 0."
          },
          "_u01": {
            "meaning": "The probability amplitude of this operation transforming the input qubit from 0 → 1."
          },
          "_u02": {
            "meaning": "The probability amplitude of this operation transforming the input qubit from 0 → 2."
          },
          "_u10": {
            "meaning": "The probability amplitude of this operation transforming the input qubit from 1 → 0."
          },
          "_u11": {
            "meaning": "The probability amplitude of this operation transforming the input qubit from 1 → 1."
          },
          "_u12": {
            "meaning": "The probability amplitude of this operation transforming the input qubit from 1 → 2."
          },
          "_u20": {
            "meaning": "The probability amplitude of this operation transforming the input qubit from 2 → 0."
          },
          "_u21": {
            "meaning": "The probability amplitude of this operation transforming the input qubit from 2 → 1."
          },
          "_u22": {
            "meaning": "The probability amplitude of this operation transforming the input qubit from 2 → 2."
          }
        }
      },
      "source": [
        "#### Opérations unitaires sur des systèmes plus grands\n",
        "\n",
        "Dans les leçons ultérieures, nous verrons de nombreux exemples d'opérations unitaires sur des systèmes ayant plus de deux états classiques. Un exemple d'opération unitaire sur un système à trois états classiques est donné par la matrice suivante.\n",
        "\n",
        "$$\n",
        "  A =\n",
        "  \\begin{pmatrix}\n",
        "    \\class{_u00}{0} &amp; \\class{_u10}{0} &amp; \\class{_u20}{1} \\\\\n",
        "    \\class{_u01}{1} &amp; \\class{_u11}{0} &amp; \\class{_u21}{0} \\\\\n",
        "    \\class{_u02}{0} &amp; \\class{_u12}{1} &amp; \\class{_u22}{0}\n",
        "  \\end{pmatrix}\n",
        "$$\n",
        "\n",
        "En supposant que les états classiques du système sont $0,$ $1,$ et $2,$ nous pouvons décrire cette opération comme une addition modulo $3.$\n",
        "\n",
        "$$\n",
        "  A \\vert 0\\rangle = \\vert 1\\rangle,\n",
        "  \\quad\n",
        "  A \\vert 1\\rangle = \\vert 2\\rangle,\n",
        "  \\quad\\text{and}\\quad\n",
        "  A \\vert 2\\rangle = \\vert 0\\rangle\n",
        "$$\n",
        "\n",
        "La matrice $A$ est un exemple de *matrice de permutation* , qui est une matrice dans laquelle chaque ligne et colonne a exactement un $1.$ De telles matrices ne font que réorganiser, ou permuter, les entrées du vecteur sur lequel elles agissent. L'identité est la matrice de permutation la plus simple ; un autre exemple est l'opération NOT sur un bit ou un qubit. Chaque matrice de permutation, dans n'importe quelle dimension entière positive, est unitaire. Ce sont les seuls exemples de matrices qui représentent à la fois des opérations classiques et quantiques : une matrice est à la fois stochastique et unitaire si et seulement si c'est une matrice de permutation.\n",
        "\n",
        "Un autre exemple de matrice unitaire, cette fois-ci étant une matrice $4\\fois 4$, est celle-ci :\n",
        "\n",
        "$$\n",
        "  U =\n",
        "  \\frac{1}{2}\n",
        "  \\begin{pmatrix}\n",
        "    1 &amp; 1 &amp; 1 &amp; 1 \\\\\n",
        "    1 &amp; i &amp; -1 &amp; -i \\\\\n",
        "    1 &amp; -1 &amp; 1 &amp; -1 \\\\\n",
        "    1 &amp; -i &amp; -1 &amp; i\n",
        "  \\end{pmatrix}.\n",
        "$$\n",
        "\n",
        "Cette matrice décrit une opération connue sous le nom de *transformée de Fourier quantique* , spécifiquement dans le cas $4\\times 4$. La transformée de Fourier quantique peut être définie plus généralement, pour toute dimension entière positive $n$, et jouera un rôle clé dans l'unité 2 sur les algorithmes quantiques."
      ]
    },
    {
      "cell_type": "markdown",
      "id": "defaab70",
      "metadata": {
      },
      "source": [
        "## 3. Implémentations de Qiskit\n",
        "\n",
        "Dans cette section, nous présentons quelques exemples d'implémentations Qiskit des concepts introduits dans cette leçon.\n",
        "\n",
        "### 3.1 Vecteurs et matrices en Python\n",
        "\n",
        "Qiskit utilise le langage de programmation Python, donc avant de discuter spécifiquement de Qiskit, il peut être utile de discuter très brièvement des calculs matriciels et vectoriels en Python. En Python, les calculs matriciels et vectoriels peuvent être effectués à l'aide de la classe `array` de la bibliothèque `NumPy` (qui comprend de nombreux composants supplémentaires pour le calcul numérique).\n",
        "\n",
        "Voici un exemple de cellule de code qui définit deux vecteurs, `ket0` et `ket1` , correspondant aux vecteurs d'état qubit $\\vert 0\\rangle$ et $\\vert 1\\rangle$, et affiche leur moyenne."
      ]
    },
    {
      "cell_type": "code",
      "execution_count": null,
      "id": "d76964d8",
      "metadata": {
      },
      "outputs": [

      ],
      "source": [
        "from numpy import array\n",
        "\n",
        "ket0 = array([1, 0])\n",
        "ket1 = array([0, 1])\n",
        "\n",
        "display(ket0/2 + ket1/2)"
      ]
    },
    {
      "cell_type": "markdown",
      "id": "07f77c64",
      "metadata": {
      },
      "source": [
        "Il n'est en fait pas nécessaire d'utiliser explicitement la commande `display` pour voir le résultat de ce calcul. Nous pouvons plutôt simplement écrire l'expression d'intérêt comme dernière ligne de la cellule de code, et elle sera renvoyée en sortie :"
      ]
    },
    {
      "cell_type": "code",
      "execution_count": null,
      "id": "b51320d3",
      "metadata": {
      },
      "outputs": [

      ],
      "source": [
        "ket0/2 + ket1/2"
      ]
    },
    {
      "cell_type": "markdown",
      "id": "c33bdaa6",
      "metadata": {
      },
      "source": [
        "Cette cellule de code illustre également que l'exécution séquentielle de cellules de code sur une page donnée de ce manuel a un effet cumulatif, il n'est donc pas nécessaire de recharger la classe de `array` ou de redéfinir `ket0` et `ket1` . Le rechargement de la page ou le passage à une autre page remettra cependant le tout dans son état initial.\n",
        "\n",
        "En règle générale, les cellules de code dans chaque sous-section numérotée de ce cours sont destinées à être exécutées de manière séquentielle. Ainsi, si l'exécution d'une cellule de code génère une erreur, veillez à exécuter d'abord toutes les cellules de code précédentes dans la sous-section dans laquelle cette cellule de code apparaît."
      ]
    },
    {
      "cell_type": "markdown",
      "id": "963b22d1",
      "metadata": {
      },
      "source": [
        "Nous pouvons également utiliser `array` pour créer des matrices qui représentent des opérations."
      ]
    },
    {
      "cell_type": "code",
      "execution_count": null,
      "id": "11733a15",
      "metadata": {
        "scrolled": true
      },
      "outputs": [

      ],
      "source": [
        "M1 = array([[1, 1], [0, 0]])\n",
        "M2 = array([[1, 1], [1, 0]])\n",
        "\n",
        "M1/2 + M2/2"
      ]
    },
    {
      "cell_type": "markdown",
      "id": "947648f3",
      "metadata": {
      },
      "source": [
        "La multiplication matricielle (y compris la multiplication matrice-vecteur comme cas particulier) peut être effectuée à l'aide de la fonction `matmul` de `NumPy` :"
      ]
    },
    {
      "cell_type": "code",
      "execution_count": null,
      "id": "ade2c9dc",
      "metadata": {
      },
      "outputs": [

      ],
      "source": [
        "from numpy import matmul\n",
        "\n",
        "display(matmul(M1,ket1))\n",
        "display(matmul(M1,M2))\n",
        "display(matmul(M2,M1))"
      ]
    },
    {
      "cell_type": "markdown",
      "id": "20e10506",
      "metadata": {
      },
      "source": [
        "### 3.2 États, mesures et opérations dans Qiskit\n",
        "\n",
        "Qiskit comprend plusieurs classes qui permettent de créer et de manipuler facilement des états, des mesures et des opérations. Il n'est donc pas nécessaire de partir de zéro et de programmer tout ce qui est nécessaire pour simuler des états, des mesures et des opérations quantiques en Python. Quelques exemples pour commencer sont inclus ci-dessous.\n",
        "\n",
        "#### Définition et affichage des vecteurs d'état\n",
        "\n",
        "La classe Statevector de `Statevector` fournit des fonctionnalités pour définir et manipuler des vecteurs d'état quantiques. La cellule de code suivante importe la classe `Statevector` et définit quelques vecteurs en l'utilisant :"
      ]
    },
    {
      "cell_type": "code",
      "execution_count": null,
      "id": "36e7b320",
      "metadata": {
      },
      "outputs": [

      ],
      "source": [
        "from qiskit.quantum_info import Statevector\n",
        "from numpy import sqrt\n",
        "\n",
        "u = Statevector([1/sqrt(2), 1/sqrt(2)])\n",
        "v = Statevector([(1+2.j)/3, -2/3])\n",
        "w = Statevector([1/3, 2/3])\n",
        "\n",
        "print(\"State vectors u, v, and w have been defined.\")"
      ]
    },
    {
      "cell_type": "markdown",
      "id": "70e704a3",
      "metadata": {
      },
      "source": [
        "(Notez que nous avons besoin de la fonction `sqrt` de la bibliothèque `NumPy` pour calculer les racines carrées du vecteur `u` .)\n",
        "\n",
        "La classe `Statevector` fournit une méthode de `draw` pour afficher les vecteurs d'état, y compris les options `latex` et `text` pour différentes visualisations, comme le montre cette cellule de code :"
      ]
    },
    {
      "cell_type": "code",
      "execution_count": null,
      "id": "aad3460f",
      "metadata": {
      },
      "outputs": [

      ],
      "source": [
        "display(u.draw('latex'))\n",
        "display(v.draw('text'))"
      ]
    },
    {
      "cell_type": "markdown",
      "id": "61448553",
      "metadata": {
      },
      "source": [
        "La classe `Statevector` inclut également la méthode `is_valid` , qui vérifie si un vecteur donné est un vecteur d'état quantique valide (c'est-à-dire qu'il a une norme euclidienne égale à 1) :"
      ]
    },
    {
      "cell_type": "code",
      "execution_count": null,
      "id": "68dc6a1b",
      "metadata": {
        "scrolled": true
      },
      "outputs": [

      ],
      "source": [
        "display(u.is_valid())\n",
        "display(v.is_valid())\n",
        "display(w.is_valid())"
      ]
    },
    {
      "cell_type": "markdown",
      "id": "26918a81",
      "metadata": {
      },
      "source": [
        "#### Simulation de mesures à l'aide `Statevector`\n",
        "\n",
        "Ensuite, nous verrons une manière de simuler des mesures d'états quantiques dans Qiskit, en utilisant la méthode de `measure` de la classe `Statevector` .\n",
        "\n",
        "Tout d'abord, nous créons un vecteur d'état qubit `v` , puis nous l'affichons."
      ]
    },
    {
      "cell_type": "code",
      "execution_count": null,
      "id": "d811bcf2",
      "metadata": {
      },
      "outputs": [

      ],
      "source": [
        "v = Statevector([(1+2.j)/3, -2/3])\n",
        "v.draw('latex')"
      ]
    },
    {
      "cell_type": "markdown",
      "id": "cdd4d5e1",
      "metadata": {
      },
      "source": [
        "(Notez que les cellules de code peuvent être modifiées, alors allez-y et modifiez la spécification du vecteur si vous le souhaitez. Vous pouvez également utiliser le bloc-notes à droite pour expérimenter avec les cellules de code.)\n",
        "\n",
        "Ensuite, l'exécution de la méthode de `measure` simule une mesure de base standard. Il renvoie le résultat de cette mesure, plus le nouvel état quantique de notre système après cette mesure."
      ]
    },
    {
      "cell_type": "code",
      "execution_count": null,
      "id": "0eeafda1",
      "metadata": {
        "scrolled": true
      },
      "outputs": [

      ],
      "source": [
        "v.measure()"
      ]
    },
    {
      "cell_type": "markdown",
      "id": "b4843cbc",
      "metadata": {
      },
      "source": [
        "Les résultats de mesure sont probabilistes, de sorte que la même méthode peut renvoyer des résultats différents. Essayez d'exécuter la cellule plusieurs fois pour voir cela.\n",
        "\n",
        "Pour l'exemple particulier du vecteur `v` défini ci-dessus, la méthode de `measure` définit le vecteur d'état quantique après que la mesure a eu lieu pour être\n",
        "\n",
        "$$\n",
        "\\frac{1 + 2i}{\\sqrt{3}} \\vert 0\\rangle\n",
        "$$\n",
        "\n",
        "(plutôt que $\\vert 0\\rangle$) ou\n",
        "\n",
        "$$\n",
        "- \\vert 1\\rangle\n",
        "$$\n",
        "\n",
        "(plutôt que $\\vert 1\\rangle$), selon le résultat de la mesure. Dans les deux cas, les alternatives sont en fait équivalentes - on dit qu'elles *diffèrent d'une phase globale* car l'une est égale à l'autre multipliée par un nombre complexe sur le cercle unité. Ce problème est abordé plus en détail dans la leçon 3 et peut être ignoré en toute sécurité pour le moment.\n",
        "\n",
        "Soit dit en passant, `Statevector` une erreur si la méthode de `measure` est appliquée à un vecteur d'état quantique invalide. Allez-y et essayez si vous êtes si enclin!\n",
        "\n",
        "`Statevector` est également livré avec une méthode `sample_counts` qui permet de simuler n'importe quel nombre de mesures sur le système. Par exemple, la cellule suivante montre le résultat de la mesure du vecteur `v` $1000$ fois, ce qui (avec une probabilité élevée) donne le résultat $0$ environ 5$$ sur chaque $9$ fois (ou environ 556$ des essais $1000$) et le résultat $1$ environ 4$ sur chaque $9$ fois (ou environ 444$ sur les essais de 1000$). La cellule illustre également la fonction `plot_histogram` pour visualiser les résultats."
      ]
    },
    {
      "cell_type": "code",
      "execution_count": null,
      "id": "fde6ccf9",
      "metadata": {
        "scrolled": false
      },
      "outputs": [

      ],
      "source": [
        "from qiskit.visualization import plot_histogram\n",
        "\n",
        "statistics = v.sample_counts(1000)\n",
        "display(statistics)\n",
        "plot_histogram(statistics)"
      ]
    },
    {
      "cell_type": "markdown",
      "id": "dccc139c",
      "metadata": {
      },
      "source": [
        "Essayer différents nombres d'échantillons au lieu de 1 000 $ peut être utile pour développer une intuition sur la façon dont le nombre d'essais influence les probabilités estimées."
      ]
    },
    {
      "cell_type": "markdown",
      "id": "326d298e",
      "metadata": {
      },
      "source": [
        "#### Exécution d'opérations avec `Operator` et `Statevector`\n",
        "\n",
        "Les opérations unitaires peuvent être définies et exécutées sur des vecteurs d'état dans Qiskit à l'aide de la classe `Operator` , comme dans l'exemple qui suit."
      ]
    },
    {
      "cell_type": "code",
      "execution_count": null,
      "id": "4fe2e414",
      "metadata": {
      },
      "outputs": [

      ],
      "source": [
        "from qiskit.quantum_info import Operator\n",
        "\n",
        "X = Operator([[0,1],[1,0]])\n",
        "Y = Operator([[0,-1.j],[1.j,0]])\n",
        "Z = Operator([[1,0],[0,-1]])\n",
        "H = Operator([[1/sqrt(2),1/sqrt(2)],[1/sqrt(2),-1/sqrt(2)]])\n",
        "S = Operator([[1,0],[0,1.j]])\n",
        "T = Operator([[1,0],[0,(1+1.j)/sqrt(2)]])\n",
        "\n",
        "v = Statevector([1,0])\n",
        "\n",
        "v = v.evolve(H)\n",
        "v = v.evolve(T)\n",
        "v = v.evolve(H)\n",
        "v = v.evolve(T)\n",
        "v = v.evolve(Z)\n",
        "\n",
        "v.draw('latex')"
      ]
    },
    {
      "cell_type": "markdown",
      "id": "fafda2cc",
      "metadata": {
      },
      "source": [
        "#### Vers les circuits quantiques\n",
        "\n",
        "Les circuits quantiques ne seront pas officiellement introduits avant la leçon 3, mais nous pouvons néanmoins expérimenter la composition d'opérations unitaires qubit en utilisant la classe QuantumCircuit de `QuantumCircuit` . En particulier, nous pouvons définir un circuit quantique (qui dans ce cas sera simplement une séquence d'opérations unitaires effectuées sur un seul qubit) comme suit."
      ]
    },
    {
      "cell_type": "code",
      "execution_count": null,
      "id": "68490946",
      "metadata": {
      },
      "outputs": [

      ],
      "source": [
        "from qiskit import QuantumCircuit\n",
        "\n",
        "circuit = QuantumCircuit(1)\n",
        "\n",
        "circuit.h(0)\n",
        "circuit.t(0)\n",
        "circuit.h(0)\n",
        "circuit.t(0)\n",
        "circuit.z(0)\n",
        "\n",
        "circuit.draw()"
      ]
    },
    {
      "cell_type": "markdown",
      "id": "8426be38",
      "metadata": {
      },
      "source": [
        "Les opérations sont appliquées séquentiellement, commençant à gauche et se terminant à droite sur la figure. Initialisons d'abord un vecteur d'état quantique de départ, puis faisons évoluer cet état en fonction de la séquence d'opérations."
      ]
    },
    {
      "cell_type": "code",
      "execution_count": null,
      "id": "5a81f9bf",
      "metadata": {
      },
      "outputs": [

      ],
      "source": [
        "ket0 = Statevector([1,0])\n",
        "v = ket0.evolve(circuit)\n",
        "v.draw('latex')"
      ]
    },
    {
      "cell_type": "markdown",
      "id": "fc2b9797",
      "metadata": {
      },
      "source": [
        "Enfin, simulons le résultat de l'exécution de cette expérience (c'est-à-dire, la préparation de l'état $\\vert 0\\rangle$, l'application de la séquence d'opérations représentée par le circuit et la mesure) 4000 fois."
      ]
    },
    {
      "cell_type": "code",
      "execution_count": null,
      "id": "26dec838",
      "metadata": {
        "scrolled": true
      },
      "outputs": [

      ],
      "source": [
        "statistics = v.sample_counts(4000)\n",
        "plot_histogram(statistics)"
      ]
    }
  ],
  "metadata": {
    "kernelspec": {
      "display_name": "Python 3",
      "language": "python",
      "name": "python3"
    },
    "language_info": {
      "codemirror_mode": {
        "name": "ipython",
        "version": 3
      },
      "file_extension": ".py",
      "mimetype": "text/x-python",
      "name": "python",
      "nbconvert_exporter": "python",
      "pygments_lexer": "ipython3",
      "version": "3.9"
    }
  },
  "nbformat": 4,
  "nbformat_minor": 5
}
