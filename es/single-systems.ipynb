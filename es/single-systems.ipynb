{
  "cells": [
    {
      "cell_type": "markdown",
      "id": "13690dd7",
      "metadata": {
        "gloss": {
          "altnoise": {
            "text": "In the context of information, *noise* refers to unwanted disturbances or alterations, which may be caused by imperfect hardware or uncontrollable factors in the environment. As an example phrased in mathematical terms, a bit in a computer memory that spontaneously flips with some probability could be described as being noisy.",
            "title": "Noise"
          },
          "quantum-information": {
            "text": "*Quantum information* is both a concept and a framework for modeling and describing information in quantum systems. While it is based on and motivated by quantum physics, the physical details can largely be abstracted away, leaving a mathematical framework that is applicable to a variety of specific physical systems.",
            "title": "Quantum information"
          }
        }
      },
      "source": [
        "# Sistemas individuales\n",
        "\n",
        "![Ilustración de un cuaderno y un átomo.](images/single-systems-hero.png)\n",
        "\n",
        "Esta lección presenta el marco básico de [la información cuántica](gloss:quantum-information) , incluida la descripción de estados cuánticos como vectores con entradas de números complejos, medidas que permiten extraer información clásica de estados cuánticos y operaciones en estados cuánticos que se describen mediante matrices unitarias. Restringiremos nuestra atención en esta lección al entorno comparativamente simple en el que un solo sistema se considera de forma aislada. En la próxima lección, ampliaremos nuestra vista a múltiples sistemas, que pueden interactuar entre sí y estar correlacionados, por ejemplo.\n",
        "\n",
        "Hay, de hecho, dos descripciones matemáticas comunes de la información cuántica. El presentado en esta lección es el más simple de los dos. Esta descripción es suficiente para comprender muchos (o quizás la mayoría) de los algoritmos cuánticos, y es un lugar natural para comenzar desde un punto de vista pedagógico.\n",
        "\n",
        "En una lección posterior se presentará una descripción más general y, en última instancia, más poderosa de la información cuántica, en la que los estados cuánticos se representan mediante *matrices de densidad* . La descripción de la matriz de densidad es esencial para el estudio de la información cuántica, por varias razones. Como ejemplos, se pueden usar para modelar los efectos del [ruido](gloss:altnoise) en los cálculos cuánticos o el estado de una pieza de un par entrelazado. En términos más generales, las matrices de densidad sirven como base matemática para la teoría de la información cuántica y la criptografía cuántica, y son bastante hermosas desde una perspectiva matemática. Por estas razones, lo alentamos a aprender más sobre esto cuando sea el momento adecuado, pero por ahora nuestro enfoque estará en la descripción más simple de la información cuántica."
      ]
    },
    {
      "cell_type": "markdown",
      "id": "96a87980",
      "metadata": {
        "gloss": {
          "classical": {
            "text": "The term *classical* refers to concepts, ideas, and descriptions based on physical theories (such as Newtonian physics) that predate the discovery of quantum theory. In the context of information, it can be interpreted as meaning *not quantum* or not specifically connected to quantum information.",
            "title": "Classical"
          }
        }
      },
      "source": [
        "## 1. Información clásica<a id=\"single-systems-classical\"></a>\n",
        "\n",
        "![Ilustración de dados, una hélice de ADN y monedas.](images/classical-information-hero.png)\n",
        "\n",
        "Para describir la información cuántica y cómo funciona, comenzaremos con una descripción general de la información [clásica](gloss:classical) . Algunos lectores pueden preguntarse por qué hemos elegido dedicar tanta atención a la información clásica en un curso sobre información *cuántica* , pero existen buenas razones. Por un lado, aunque la información cuántica y clásica son diferentes en algunos aspectos bastante espectaculares, sus descripciones matemáticas son en realidad bastante similares.\n",
        "\n",
        "La información clásica también sirve como un punto de referencia familiar cuando se estudia la información cuántica, así como una fuente de analogía que llega sorprendentemente lejos. Es común que las personas hagan preguntas sobre la información cuántica que tienen análogos clásicos naturales, a menudo con respuestas simples que pueden brindar claridad y comprensión de las preguntas originales sobre la información cuántica. De hecho, no es del todo irrazonable afirmar que uno no puede comprender verdaderamente la información cuántica sin comprender la información clásica.\n",
        "\n",
        "Es posible que algunos lectores ya estén familiarizados con el material que se discutirá en esta sección, mientras que otros no, pero la discusión está destinada a ambas audiencias. Además de resaltar los aspectos de la información clásica que son más relevantes para una introducción a la información cuántica, esta sección presenta la *notación de Dirac* , que a menudo se usa para describir vectores y matrices en la información y el cálculo cuánticos. Resulta que la notación de Dirac no es específica de la información cuántica: puede usarse igualmente en el contexto de la información clásica, así como para muchos otros entornos en los que surgen vectores y matrices."
      ]
    },
    {
      "cell_type": "markdown",
      "id": "21a83c79",
      "metadata": {
        "formulas": {
          "_sigma": {
            "say": "\"Sigma\""
          },
          "probability": {
            "meaning": "The probability of the expression in the parentheses to the right being true."
          }
        },
        "gloss": {
          "system": {
            "text": "In this course, a system is an abstraction of a physical device or a medium that stores information.",
            "title": "System"
          }
        }
      },
      "source": [
        "### 1.1 Estados clásicos y vectores de probabilidad<a id=\"classical-states\"></a>\n",
        "\n",
        "Supongamos que tenemos un [sistema](gloss:system) que almacena información. Más específicamente, supongamos que este sistema puede estar en uno de un número finito de *estados clásicos* en cada instante. Aquí, el término \"estado clásico\" debe entenderse en términos intuitivos, como una configuración que puede reconocerse y describirse sin ambigüedades.\n",
        "\n",
        "El ejemplo arquetípico, al que volveremos repetidamente, es el de un *bit* , que es un sistema cuyos estados clásicos son 0 y 1. Otros ejemplos incluyen un dado estándar de seis caras, cuyos estados clásicos son 1, 2, 3, 4, 5 y 6; una nucleobase en una hebra de ADN, cuyos estados clásicos son *A* , *C* , *G* y *T* ; y un interruptor en un ventilador eléctrico, cuyos estados clásicos son (comúnmente) *alto* , *medio* , *bajo* y *apagado* . En términos matemáticos, la especificación de los estados clásicos de un sistema es, de hecho, el punto de partida: definimos un bit como un sistema que tiene los estados clásicos 0 y 1, y lo mismo ocurre con los sistemas que tienen diferentes conjuntos de estados clásicos.\n",
        "\n",
        "Por el bien de esta discusión, demos el nombre $\\mathsf{X}$ al sistema que se está considerando, y usemos el símbolo $\\class{_sigma}{\\Sigma}$ para referirnos al conjunto de estados clásicos de $\\mathsf{X}$. Además de la suposición de que $\\Sigma$ es finito, como se mencionó anteriormente, naturalmente asumimos que $\\Sigma$ no está vacío: no tiene sentido que un sistema físico no tenga ningún estado. Aunque tiene sentido considerar sistemas físicos que tienen infinitos estados clásicos, por ahora ignoraremos esta posibilidad. Hay muchas ideas interesantes para explorar incluso dentro de un número finito de estados. En aras de la conveniencia y la brevedad, de ahora en adelante usaremos el término *conjunto de estado clásico* para referirnos a cualquier conjunto finito y no vacío.\n",
        "\n",
        "Por ejemplo, si $\\mathsf{X}$ es un bit, entonces $\\Sigma = {0,1}$ (que a menudo se denomina *alfabeto binario* ); si $\\mathsf{X}$ es un dado de seis caras, entonces $\\Sigma = {1,2,3,4,5,6}$; y si $\\mathsf{X}$ es un interruptor de ventilador eléctrico, entonces $\\Sigma = {\\mathrm{alto}, \\mathrm{medio}, \\mathrm{bajo}, \\mathrm{apagado}}$.\n",
        "\n",
        "Al pensar en $\\mathsf{X}$ como un portador de información, a los diferentes estados clásicos de $\\mathsf{X}$ se les pueden asignar ciertos significados, lo que lleva a diferentes resultados o consecuencias. En tales casos, puede ser suficiente describir $\\mathsf{X}$ simplemente como si estuviera en uno de sus posibles estados clásicos. Por ejemplo, si $\\mathsf{X}$ es un interruptor de ventilador, podríamos saber con certeza que está configurado en *alto* . Sin embargo, a menudo en el procesamiento de información, nuestro conocimiento de $\\mathsf{X}$ es incierto. Representamos nuestro conocimiento del estado clásico de $\\mathsf{X}$ asignando probabilidades a cada estado clásico, lo que resulta en un *estado probabilístico* .\n",
        "\n",
        "Por ejemplo, supongamos que $\\mathsf{X}$ es un bit. Con base en lo que sabemos o esperamos sobre lo que le sucedió a $\\mathsf{X}$ en el pasado, tal vez creamos que $\\mathsf{X}$ está en el estado clásico $0$ con probabilidad $3/4$ y en el indique $1$ con probabilidad $1/4.$ Podemos representar tal creencia escribiendo esto:\n",
        "\n",
        "$$\n",
        "\\class{probability}{\\operatorname{Pr}}(\\mathsf{X}=0) = \\frac{3}{4}\n",
        "\\quad\\text{and}\\quad\n",
        "\\class{probability}{\\operatorname{Pr}}(\\mathsf{X}=1) = \\frac{1}{4}.\n",
        "$$\n",
        "\n",
        "Una forma más sucinta de representar este estado probabilístico es mediante un vector columna.\n",
        "\n",
        "$$\n",
        "\\begin{pmatrix}\n",
        "  \\frac{3}{4}\\\\[1mm]\n",
        "  \\frac{1}{4}\n",
        "\\end{pmatrix}\n",
        "$$\n",
        "\n",
        "La probabilidad de que el bit sea $0$ se coloca en la parte superior del vector y la probabilidad de que el bit sea $1$ se coloca en la parte inferior, simplemente porque esta es la forma convencional de ordenar el conjunto ${0,1}$.\n",
        "\n",
        "En general, podemos representar un estado probabilístico de un sistema que tenga cualquier estado clásico establecido de la misma manera, como un vector de probabilidades. Las probabilidades se pueden ordenar de la forma que elijamos, que generalmente está determinada por alguna forma natural o predeterminada de ordenar el conjunto de estados clásico con el que estamos trabajando. En concreto, podemos representar cualquier estado probabilístico mediante un vector columna que cumpla dos propiedades:\n",
        "\n",
        "1. Todas las entradas del vector son *números reales no negativos* .\n",
        "2. La suma de las entradas es igual a $1.$\n",
        "\n",
        "Por el contrario, cualquier vector columna que satisfaga estas dos propiedades puede tomarse como representación de un estado probabilístico. De ahora en adelante, nos referiremos a los vectores de esta forma como *vectores de probabilidad* .\n",
        "\n",
        "Además de la concisión de esta notación, la identificación de estados probabilísticos como vectores de columna tiene la ventaja de que las operaciones sobre estados probabilísticos se representan mediante la multiplicación de matrices y vectores, como se analizará más adelante.\n",
        "\n",
        "<!-- ::: q-block.exercise -->\n",
        "\n",
        "### Test rápido\n",
        "\n",
        "<!-- ::: q-quiz(goal=\"ss-quiz-1\") -->\n",
        "\n",
        "<!-- ::: .question -->\n",
        "\n",
        "¿Cuál de estos es un vector de probabilidad válido?\n",
        "\n",
        "<!-- ::: -->\n",
        "\n",
        "<!-- ::: .option -->\n",
        "\n",
        "1. $\\begin{pmatrix} \\sqrt{2}\\\\ 1 - \\sqrt{2} \\end{pmatrix}$\n",
        "\n",
        "<!-- ::: -->\n",
        "\n",
        "<!-- ::: .option -->\n",
        "\n",
        "1. $\\begin{pmatrix} 0.3 \\\\ 0.3 \\end{pmatrix}$\n",
        "\n",
        "<!-- ::: -->\n",
        "\n",
        "<!-- ::: .option(correct) -->\n",
        "\n",
        "1. $\\begin{pmatrix} 0 \\\\ 1 \\\\ 0 \\end{pmatrix}$\n",
        "\n",
        "<!-- ::: -->\n",
        "\n",
        "<!-- ::: -->\n",
        "\n",
        "<!-- ::: -->"
      ]
    },
    {
      "cell_type": "markdown",
      "id": "936e5686",
      "metadata": {
      },
      "source": [
        "### 1.2 Medición de estados probabilísticos<a id=\"classical-measure\"></a>\n",
        "\n",
        "Ahora consideremos brevemente lo que sucede si *medimos* un sistema cuando está en un estado probabilístico. Al medir un sistema, queremos decir que observamos el sistema y reconocemos inequívocamente cualquier estado clásico en el que se encuentre. Intuitivamente, nunca podemos \"ver\" un sistema en un estado probabilístico; una medida producirá exactamente uno de los estados clásicos permitidos.\n",
        "\n",
        "La medición cambia nuestro conocimiento del sistema y, por lo tanto, cambia el estado probabilístico que asociamos con ese sistema: si reconocemos que $\\mathsf{X}$ está en el estado clásico $a\\in\\Sigma$, entonces el nuevo vector de probabilidad representar nuestro conocimiento de $\\mathsf{X}$ se convierte en un vector que tiene $1$ en la entrada correspondiente a $a$ y $0$ para todas las demás entradas. Este vector indica que $\\mathsf{X}$ está en el estado clásico $a$ con certeza, el cual sabemos recién reconocido.\n",
        "\n",
        "Denotamos el vector recién descrito, es decir, el vector que tiene un $1$ en la entrada correspondiente a $a$ y $0$ para todas las demás entradas, por $\\vert a\\rangle.$ Este vector se lee como \"ket $a$\" por una razón que se explicará en breve. Los vectores de este tipo también se denominan vectores de *base estándar* .\n",
        "\n",
        "Por ejemplo, suponiendo que el sistema que tenemos en mente es un bit, los vectores base estándar están dados por\n",
        "\n",
        "$$\n",
        "  \\vert 0\\rangle = \\begin{pmatrix}1\\\\0\\end{pmatrix}\n",
        "  \\quad\\text{and}\\quad\n",
        "  \\vert 1\\rangle = \\begin{pmatrix}0\\\\1\\end{pmatrix}.\n",
        "$$\n",
        "\n",
        "Observe que cualquier vector de columna bidimensional se puede expresar como una combinación lineal de estos dos vectores. Por ejemplo, tenemos\n",
        "\n",
        "$$\n",
        "\\begin{pmatrix}\n",
        "  \\frac{3}{4}\\\\[2mm]\n",
        "  \\frac{1}{4}\n",
        "\\end{pmatrix}\n",
        "= \\frac{3}{4}\\,\\vert 0\\rangle + \\frac{1}{4}\\,\\vert 1\\rangle.\n",
        "$$\n",
        "\n",
        "Este hecho se generaliza naturalmente a cualquier conjunto de estados clásicos: cualquier vector columna es una combinación lineal sobre los estados clásicos. Expresar vectores como combinaciones lineales de vectores base estándar será muy común en el futuro.\n",
        "\n",
        "Volviendo al cambio de un estado probabilístico al ser medido, podemos notar la siguiente conexión con nuestras experiencias cotidianas. Supongamos que lanzamos una moneda justa, pero cubrimos la moneda antes de mirarla. Diríamos entonces que su estado probabilístico es\n",
        "\n",
        "$$\n",
        "\\begin{pmatrix}\n",
        "  \\frac{1}{2}\\\\[2mm]\n",
        "  \\frac{1}{2}\n",
        "\\end{pmatrix}\n",
        "= \\frac{1}{2}\\,\\vert\\text{heads}\\rangle + \\frac{1}{2}\\,\\vert\\text{tails}\\rangle.\n",
        "$$\n",
        "\n",
        "Aquí, el conjunto de estados clásico de nuestra moneda es ${\\text{cara},\\text{cruz}}$. Elegiremos ordenar estos estados como cara primero, cruz segundo.\n",
        "\n",
        "$$\n",
        "\\vert\\text{heads}\\rangle = \\begin{pmatrix}1\\\\0\\end{pmatrix}\n",
        "\\quad\\text{and}\\quad\n",
        "\\vert\\text{tails}\\rangle = \\begin{pmatrix}0\\\\1\\end{pmatrix}\n",
        "$$\n",
        "\n",
        "Si tuviéramos que destapar la moneda y mirarla, veríamos uno de los dos estados clásicos: cara o cruz. Suponiendo que el resultado fuera cruz, naturalmente actualizaríamos nuestra descripción del estado probabilístico de la moneda para que se convierta en $|\\text{cruz}\\rangle$. Por supuesto, si cubrimos la moneda y luego la destapamos y la miramos de nuevo, el estado clásico seguiría siendo cruz, lo cual es consistente con el estado probabilístico descrito por el vector $|\\text{cruz} \\rango$. Esto puede parecer trivial, y en cierto sentido lo es. Sin embargo, los sistemas cuánticos se comportan de una manera totalmente análoga, aunque sus propiedades de medición se consideran con frecuencia inusuales o \"espeluznantes\". Al establecer las propiedades de medición de los sistemas clásicos, el comportamiento análogo de la información cuántica puede parecer menos inusual.\n",
        "\n",
        "Una observación final sobre las medidas de los estados probabilísticos: pueden describir conocimientos o creencias, no necesariamente algo real. El estado de nuestra moneda después de que la lanzamos, pero antes de mirar, es cara o cruz, y simplemente no sabemos cuál hasta que miramos. Si lo hace, en realidad no cambia el estado, sino sólo nuestro conocimiento de él. Al ver que el estado clásico es cruz, naturalmente actualizamos nuestro conocimiento asignando el vector $|\\text{cruz}\\rangle$ a la moneda, pero a otra persona que no vio la moneda cuando se descubrió, el estado probabilístico permanece sin cambios. Esto no es motivo de preocupación: diferentes individuos pueden tener diferentes conocimientos o creencias sobre un sistema en particular y, por lo tanto, describir ese sistema mediante diferentes vectores de probabilidad."
      ]
    },
    {
      "cell_type": "markdown",
      "id": "5ac2b210",
      "metadata": {
        "formulas": {
          "_m00": {
            "meaning": "The probability this operation transforms the input bit from 0 to 0."
          },
          "_m01": {
            "meaning": "The probability this operation transforms the input bit from 0 to 1."
          },
          "_m10": {
            "meaning": "The probability this operation transforms the input bit from 1 to 0."
          },
          "_m11": {
            "meaning": "The probability this operation transforms the input bit from 1 to 1."
          }
        },
        "gloss": {
          "altdeterministic": {
            "text": "An operation is deterministic if the result is completely determined by the input without any element of chance or uncertainty.",
            "title": "Deterministic"
          },
          "altstochastic": {
            "text": "*Stochastic* means ivolving randomness, chance, or uncertainty.",
            "title": "Stochastic"
          },
          "associative": {
            "text": "An operation is associative if we can move the position of the parentheses and get the same result. <br><a href=\"https://en.wikipedia.org/wiki/Associative_property\">Read more</a>",
            "title": "Associativity"
          },
          "commutative": {
            "text": "If an operation is commutative, switching the order of the inputs does not change the result.<br><a href=\"https://en.wikipedia.org/wiki/Commutative_property\">Read more</a>",
            "title": "Commutativity"
          },
          "composing": {
            "text": "Composition refers to applying one function after another.<br><a href=\"https://en.wikipedia.org/wiki/Function_composition\">Read more</a>.",
            "title": "Composition"
          },
          "dirac": {
            "text": "Paul Dirac was a physicist who made key contributions to the development of quantum physics.<br><a href=\"https://en.wikipedia.org/wiki/Paul_Dirac\">Read more</a>.",
            "title": "Paul Dirac"
          },
          "identity-function": {
            "text": "The identity function returns its input unchanged.",
            "title": "Identity"
          }
        }
      },
      "source": [
        "### 1.3 Operaciones clásicas<a id=\"classical-operations\"></a>\n",
        "\n",
        "En la última parte de este breve resumen de información clásica, consideraremos los tipos de operaciones que se pueden realizar en un sistema clásico.\n",
        "\n",
        "#### Operaciones deterministas\n",
        "\n",
        "Primero, hay operaciones [deterministas](gloss:altdeterministic) , donde cada estado clásico $a\\in\\Sigma$ se transforma en $f(a)$ para alguna función $f$ de la forma $f:\\Sigma\\rightarrow\\Sigma$.\n",
        "\n",
        "Por ejemplo, si $\\Sigma = {0,1}$, hay cuatro funciones de esta forma, $f_1$, $f_2$, $f_3$ y $f_4$, que pueden representarse mediante tablas de valores de la siguiente manera :\n",
        "\n",
        "$$\n",
        "\\rule[-10mm]{0mm}{15mm}\n",
        "\\begin{array}{c|c}\n",
        "  a &amp; f_1(a)\\\\\n",
        "  \\hline\n",
        "  0 &amp; 0\\\\\n",
        "  1 &amp; 0\n",
        "\\end{array}\n",
        "\\qquad\n",
        "\\begin{array}{c|c}\n",
        "  a &amp; f_2(a)\\\\\n",
        "  \\hline\n",
        "  0 &amp; 0\\\\\n",
        "  1 &amp; 1\n",
        "\\end{array}\n",
        "\\qquad\n",
        "\\begin{array}{c|c}\n",
        "  a &amp; f_3(a)\\\\\n",
        "  \\hline\n",
        "  0 &amp; 1\\\\\n",
        "  1 &amp; 0\n",
        "\\end{array}\n",
        "\\qquad\n",
        "\\begin{array}{c|c}\n",
        "  a &amp; f_4(a)\\\\\n",
        "  \\hline\n",
        "  0 &amp; 1\\\\\n",
        "  1 &amp; 1\n",
        "\\end{array}\n",
        "$$\n",
        "\n",
        "La primera y la última de estas funciones son *constantes* : $f_1(a) = 0$ y $f_4(a) = 1$ para cada $a\\in\\Sigma$. Los dos del medio no son constantes, están *balanceados* , en el sentido de que los dos posibles valores de salida ocurren el mismo número de veces que oscilamos sobre las posibles entradas. La función $f_2$ es la [función identidad](gloss:identity-function) : $f_2(a) = a$ para cada $a\\in\\Sigma$. Y $f_3$ es la función $f_3(0) = 1$ y $f_3(1) = 0$, que es más conocida como la función NOT.\n",
        "\n",
        "Las acciones de las operaciones deterministas en estados probabilísticos se pueden representar mediante la multiplicación de matriz-vector. Específicamente, la matriz $M$ que representa una función dada $f:\\Sigma\\rightarrow\\Sigma$ es la que satisface\n",
        "\n",
        "$$\n",
        "M \\vert a \\rangle = \\vert f(a)\\rangle\n",
        "$$\n",
        "\n",
        "por cada $a\\in\\Sigma$. Tal matriz siempre existe y es única.\n",
        "\n",
        "Por ejemplo, las matrices $M_1,\\ldots,M_4$ correspondientes a las funciones $f_1,\\ldots,f_4$ anteriores son las siguientes:\n",
        "\n",
        "$$\n",
        "  \\rule[-6mm]{0mm}{14.5mm}\n",
        "  M_1 =\n",
        "  \\begin{pmatrix}\n",
        "    \\class{_m00}{1} &amp; \\class{_m10}{1}\\\\\n",
        "    \\class{_m01}{0} &amp; \\class{_m11}{0}\n",
        "  \\end{pmatrix},\n",
        "  \\hspace{4mm}\n",
        "  M_2 =\n",
        "  \\begin{pmatrix}\n",
        "    \\class{_m00}{1} &amp; \\class{_m10}{0}\\\\\n",
        "    \\class{_m01}{0} &amp; \\class{_m11}{1}\n",
        "  \\end{pmatrix},\n",
        "  \\hspace{4mm}\n",
        "  M_3 =\n",
        "  \\begin{pmatrix}\n",
        "    \\class{_m00}{0} &amp; \\class{_m10}{1}\\\\\n",
        "    \\class{_m01}{1} &amp; \\class{_m11}{0}\n",
        "  \\end{pmatrix},\n",
        "  \\hspace{4mm}\n",
        "  \\text{and}\n",
        "  \\hspace{4mm}\n",
        "  M_4 =\n",
        "  \\begin{pmatrix}\n",
        "    \\class{_m00}{0} &amp; \\class{_m10}{0}\\\\\n",
        "    \\class{_m01}{1} &amp; \\class{_m11}{1}\n",
        "  \\end{pmatrix}.\n",
        "$$\n",
        "\n",
        "Las matrices que representan operaciones deterministas siempre tienen exactamente un $1$ en cada columna y $0$ para todas las demás entradas.\n",
        "\n",
        "Una forma conveniente de representar matrices de estas y otras formas hace uso de una notación análoga para los vectores fila a la que se discutió anteriormente para los vectores columna. Denotamos por $\\langle a \\vert$ el vector *fila* que tiene un $1$ en la entrada correspondiente a $a$ y cero para todas las demás entradas, para cada $a\\in\\Sigma.$ Este vector se lee como \"bra $ $.\"\n",
        "\n",
        "Por ejemplo, si $\\Sigma = {0,1}$, entonces\n",
        "\n",
        "$$\n",
        "  \\langle 0 \\vert = \\begin{pmatrix}\n",
        "    1 &amp; 0\n",
        "  \\end{pmatrix}\n",
        "  \\quad\\text{and}\\quad\n",
        "  \\langle 1 \\vert = \\begin{pmatrix}\n",
        "    0 &amp; 1\n",
        "  \\end{pmatrix}.\n",
        "$$\n",
        "\n",
        "Para una elección arbitraria de un conjunto de estados clásico $\\Sigma$, viendo los vectores de fila y los vectores de columna como matrices y realizando la multiplicación de matrices $\\vert b\\rangle \\langle a\\vert$, se obtiene una matriz cuadrada que tiene un $1$ en la entrada correspondiente al par $(b,a)$, lo que significa que la fila de la entrada corresponde a $b$ y la columna corresponde a $a$, y $0$ para todas las demás entradas. Por ejemplo,\n",
        "\n",
        "$$\n",
        "  \\vert 0 \\rangle \\langle 1 \\vert = \\begin{pmatrix}\n",
        "    0 &amp; 1 \\\\\n",
        "    0 &amp; 0\n",
        "  \\end{pmatrix}.\n",
        "$$\n",
        "\n",
        "Usando esta notación, para cualquier función $f:\\Sigma\\rightarrow\\Sigma$, podemos expresar la matriz $M$ correspondiente a la función $f$ como\n",
        "\n",
        "$$\n",
        "  M = \\sum_{a\\in\\Sigma} \\vert f(a) \\rangle \\langle a \\vert.\n",
        "$$\n",
        "\n",
        "Ahora, si volvemos a pensar en los vectores como matrices, pero esta vez considerando la multiplicación $\\langle a \\vert \\vert b \\rangle$, entonces obtenemos una matriz de $1\\times 1$, que podemos considerar como un escalar ( es decir, un número). En aras de la limpieza, escribimos este producto como $\\langle a \\vert b\\rangle$ en lugar de $\\langle a \\vert \\vert b \\rangle.$ Este producto satisface la siguiente fórmula simple:\n",
        "\n",
        "$$\n",
        "  \\langle a \\vert b \\rangle\n",
        "  = \\begin{cases}\n",
        "    1 &amp; a = b\\\\\n",
        "    0 &amp; a \\not= b.\n",
        "  \\end{cases}\n",
        "$$\n",
        "\n",
        "Usando esta observación, junto con el hecho de que la multiplicación de matrices es asociativa y lineal, obtenemos\n",
        "\n",
        "$$\n",
        "  M \\vert b \\rangle =\n",
        "  \\Biggl(\n",
        "  \\sum_{a\\in\\Sigma} \\vert f(a) \\rangle \\langle a \\vert\n",
        "  \\Biggr)\n",
        "  \\vert b\\rangle\n",
        "  = \\sum_{a\\in\\Sigma} \\vert f(a) \\rangle \\langle a \\vert b \\rangle\n",
        "  = \\vert f(b)\\rangle,\n",
        "$$\n",
        "\n",
        "por cada $b\\in\\Sigma$, que es lo que requerimos de $M$.\n",
        "\n",
        "Como veremos con mayor detalle en la Lección 3, $\\langle a \\vert b \\rangle$ también puede verse como un *producto interno* entre los vectores $\\vert a\\rangle$ y $\\vert b\\rangle$. Los productos internos son de importancia crítica en la información cuántica, pero retrasaremos una discusión sobre ellos hasta que se necesiten.\n",
        "\n",
        "En este punto, los nombres \"bra\" y \"ket\" pueden ser evidentes: poner un \"bra\" $\\langle a\\vert$ junto con un \"ket\" $\\vert b\\rangle$ produce un \"bracket\" $\\langle a \\vert b\\rangle$. Esta notación y terminología se debe a [Paul Dirac](gloss:dirac) , por lo que se conoce como *notación de Dirac* ."
      ]
    },
    {
      "cell_type": "markdown",
      "id": "be8094f7",
      "metadata": {
        "formulas": {
          "_m00": {
            "meaning": "The probability this operation transforms the input bit from 0 to 0."
          },
          "_m01": {
            "meaning": "The probability this operation transforms the input bit from 0 to 1."
          },
          "_m10": {
            "meaning": "The probability this operation transforms the input bit from 1 to 0."
          },
          "_m11": {
            "meaning": "The probability this operation transforms the input bit from 1 to 1."
          }
        },
        "gloss": {
          "altdeterministic": {
            "text": "An operation is deterministic if the result is completely determined by the input without any element of chance or uncertainty.",
            "title": "Deterministic"
          },
          "associative": {
            "text": "An operation is associative if we can move the position of the parentheses and get the same result. <br><a href=\"https://en.wikipedia.org/wiki/Associative_property\">Read more</a>",
            "title": "Associativity"
          },
          "commutative": {
            "text": "If an operation is commutative, switching the order of the inputs does not change the result.<br><a href=\"https://en.wikipedia.org/wiki/Commutative_property\">Read more</a>",
            "title": "Commutativity"
          },
          "composing": {
            "text": "Composition refers to applying one function or operation after another.<br><a href=\"https://en.wikipedia.org/wiki/Function_composition\">Read more</a>.",
            "title": "Composition"
          },
          "dirac": {
            "text": "Paul Dirac was a physicist who made key contributions to the development of quantum physics.<br><a href=\"https://en.wikipedia.org/wiki/Paul_Dirac\">Read more</a>.",
            "title": "Paul Dirac"
          },
          "identity-function": {
            "text": "The identity function returns its input unchanged.",
            "title": "Identity"
          },
          "stochastic-matrix": {
            "text": "'Stochastic' roughly means 'random'. A stochastic matrix represents a random process.",
            "title": "Stochastic"
          }
        }
      },
      "source": [
        "#### Operaciones probabilísticas y matrices estocásticas\n",
        "\n",
        "Además de las operaciones deterministas, tenemos *las operaciones probabilísticas* .\n",
        "\n",
        "Por ejemplo, considere una operación en un bit donde, si el estado clásico del bit es $0, $ se deja solo, y si el estado clásico del bit es $1, $ se cambia a $ 0 $ con una probabilidad de $ 1/2. .$ Esta operación está representada por la matriz\n",
        "\n",
        "$$\n",
        "  \\begin{pmatrix}\n",
        "    1 &amp; \\frac{1}{2}\\\\[1mm]\n",
        "    0 &amp; \\frac{1}{2}\n",
        "  \\end{pmatrix}.\n",
        "$$\n",
        "\n",
        "Podemos verificar que esta matriz hace lo correcto al multiplicar con los vectores base estándar.\n",
        "\n",
        "Para una elección arbitraria de un conjunto de estados clásico, podemos describir el conjunto de todas las operaciones probabilísticas en términos matemáticos como aquellas que están representadas por matrices [estocásticas](gloss:altstochastic) , que son matrices que satisfacen estas dos propiedades:\n",
        "\n",
        "1. Todas las entradas son números reales no negativos.\n",
        "2. Las entradas en cada columna suman $1.$\n",
        "\n",
        "De manera equivalente, las matrices estocásticas son matrices cuyas columnas forman vectores de probabilidad.\n",
        "\n",
        "Podemos pensar en las operaciones probabilísticas a un nivel intuitivo como aquellas en las que la aleatoriedad podría usarse o introducirse de alguna manera durante la operación, como en el ejemplo anterior. Con respecto a la descripción de la matriz estocástica de una operación probabilística, cada columna puede verse como una representación vectorial del estado probabilístico que se genera dada cualquier entrada de estado clásico que corresponda a esa columna.\n",
        "\n",
        "También podemos pensar en las matrices estocásticas como exactamente aquellas matrices que siempre asignan vectores de probabilidad a vectores de probabilidad. Es decir, las matrices estocásticas siempre asignan vectores de probabilidad a vectores de probabilidad, y cualquier matriz que siempre asigna vectores de probabilidad a vectores de probabilidad debe ser una matriz estocástica.\n",
        "\n",
        "Finalmente, otra forma de pensar acerca de las operaciones probabilísticas es que son elecciones aleatorias de operaciones deterministas. Por ejemplo, podemos pensar en la operación del ejemplo anterior aplicando la función de identidad o la función constante 0, cada una con una probabilidad de $1/2$. Esto es consistente con la ecuación\n",
        "\n",
        "$$\n",
        "  \\begin{pmatrix}\n",
        "    1 &amp; \\frac{1}{2}\\\\[1mm]\n",
        "    0 &amp; \\frac{1}{2}\n",
        "  \\end{pmatrix}\n",
        "  = \\frac{1}{2}\n",
        "  \\begin{pmatrix}\n",
        "    1 &amp; 0\\\\[1mm]\n",
        "    0 &amp; 1\n",
        "  \\end{pmatrix}\n",
        "  + \\frac{1}{2}\n",
        "  \\begin{pmatrix}\n",
        "    1 &amp; 1\\\\[1mm]\n",
        "    0 &amp; 0\n",
        "  \\end{pmatrix}.\n",
        "$$\n",
        "\n",
        "Tal expresión siempre es posible, para una elección arbitraria de un conjunto de estados clásico y cualquier matriz estocástica con filas y columnas identificadas con ese conjunto de estados clásico.\n",
        "\n",
        "#### Composiciones de operaciones probabilísticas\n",
        "\n",
        "Suponga que $\\mathsf{X}$ es un sistema que tiene un conjunto de estados clásico $\\Sigma$ y $M_1,\\ldots,M_n$ son matrices estocásticas que representan operaciones probabilísticas en el sistema $\\mathsf{X}$.\n",
        "\n",
        "Si la primera operación $M_1$ se aplica al estado probabilístico representado por un vector de probabilidad $u$, el estado probabilístico resultante se representa por el vector $M_1 u.$ Si luego aplicamos la segunda operación probabilística $M_2$ a este nuevo vector de probabilidad, obtenemos el vector de probabilidad\n",
        "\n",
        "$$\n",
        "  M_2 (M_1 u) = (M_2 M_1) u.\n",
        "$$\n",
        "\n",
        "La igualdad se deriva del hecho de que la multiplicación de matrices (que incluye la multiplicación matriz-vector como un caso especial) es una operación [asociativa](gloss:associative) . Así, la operación probabilística que se obtiene al [componer](gloss:composing) la primera y la segunda operaciones probabilísticas, donde primero aplicamos $M_1$ y luego $M_2$, está representada por la matriz $M_2 M_1$, que es necesariamente estocástica.\n",
        "\n",
        "De manera más general, al componer las operaciones probabilísticas representadas por las matrices $M_1,\\ldots,M_n$ en ese orden, lo que significa que $M_1$ se aplica primero, $M_2$ se aplica en segundo lugar, y así sucesivamente, con $M_n$ aplicado en último lugar, está representado por la matriz\n",
        "\n",
        "$$\n",
        "  M_n \\,\\cdots\\, M_1.\n",
        "$$\n",
        "\n",
        "Tenga en cuenta que el orden es importante aquí: aunque la multiplicación de matrices es asociativa, no es una operación [conmutativa](gloss:commutative) en general.\n",
        "\n",
        "Por ejemplo, si tenemos\n",
        "\n",
        "$$\n",
        "  M_1 =\n",
        "  \\begin{pmatrix}\n",
        "    1 &amp; 1\\\\[1mm]\n",
        "    0 &amp; 0\n",
        "  \\end{pmatrix}\n",
        "  \\quad\\text{and}\\quad\n",
        "  M_2 =\n",
        "  \\begin{pmatrix}\n",
        "    0 &amp; 1\\\\[1mm]\n",
        "    1 &amp; 0\n",
        "  \\end{pmatrix},\n",
        "$$\n",
        "\n",
        "después\n",
        "\n",
        "$$\n",
        "  M_2 M_1 =\n",
        "  \\begin{pmatrix}\n",
        "    0 &amp; 0 \\\\[1mm]\n",
        "    1 &amp; 1\n",
        "  \\end{pmatrix}\n",
        "  \\quad\\text{and}\\quad\n",
        "  M_1 M_2 =\n",
        "  \\begin{pmatrix}\n",
        "    1 &amp; 1\\\\[1mm]\n",
        "    0 &amp; 0\n",
        "  \\end{pmatrix}.\n",
        "$$\n",
        "\n",
        "Es decir, el orden en que se componen las operaciones probabilísticas importa: cambiar el orden en que se aplican las operaciones en una composición puede cambiar la operación resultante."
      ]
    },
    {
      "cell_type": "markdown",
      "id": "a6cd0323",
      "metadata": {
      },
      "source": [
        "## 2. Información cuántica<a id=\"single-systems-quantum\"></a>\n",
        "\n",
        "![Ilustración de una baraja de cartas.](images/quantum-information-hero.png)\n",
        "\n",
        "Ahora pasamos a la información cuántica, donde hacemos una elección diferente para el tipo de vector que representa un estado, en este caso un *estado cuántico* , del sistema que se está considerando. Como en la sección anterior, nos ocuparemos de los sistemas que tienen conjuntos finitos y no vacíos de estados clásicos, y utilizaremos gran parte de la notación que se introdujo en esa sección."
      ]
    },
    {
      "cell_type": "markdown",
      "id": "897e71c0",
      "metadata": {
      },
      "source": [
        "### 2.1 Vectores de estado cuántico<a id=\"single-systems-quantum-states\"></a>\n",
        "\n",
        "Un *estado cuántico* de un sistema está representado por un vector columna, similar a los estados probabilísticos. Como antes, los índices del vector etiquetan los estados clásicos del sistema. Los vectores que representan estados cuánticos se caracterizan por estas dos propiedades:\n",
        "\n",
        "1. Las entradas de un vector de estado cuántico son *números complejos* .\n",
        "2. La suma de los *valores absolutos al cuadrado* de las entradas de un vector de estado cuántico debe ser igual a $1.$\n",
        "\n",
        "Por lo tanto, en contraste con el caso probabilístico, los vectores que representan estados cuánticos no necesitan tener entradas de números reales no negativos, y es la suma de los valores absolutos al cuadrado de las entradas (a diferencia de la suma de las entradas) lo que debe ser igual a $1.$ Por simples que sean estos cambios, dan lugar a todas las diferencias entre la información cuántica y la clásica. Cualquier aceleración de una computadora cuántica, o mejora en un protocolo de comunicación, se deriva en última instancia de estos simples cambios matemáticos.\n",
        "\n",
        "La *norma euclidiana* de un vector columna\n",
        "\n",
        "$$\n",
        "  v = \\begin{pmatrix}\n",
        "    \\alpha_1\\\\\n",
        "    \\vdots\\\\\n",
        "    \\alpha_n\n",
        "  \\end{pmatrix}\n",
        "$$\n",
        "\n",
        "se denota y define de la siguiente manera:\n",
        "\n",
        "$$\n",
        "  \\| v \\| = \\sqrt{\\sum_{k=1}^n |\\alpha_k|^2}.\n",
        "$$\n",
        "\n",
        "La condición de que la suma de los valores absolutos al cuadrado de un vector de estado cuántico sea igual a $1$ es, por lo tanto, equivalente a que el vector tenga una norma euclidiana igual a $1.$ Es decir, los vectores de estado cuántico son vectores *unitarios* con respecto a la norma euclidiana.\n",
        "\n",
        "#### Ejemplos de estados de qubit\n",
        "\n",
        "El término *qubit* hace referencia a un sistema cuántico cuyo conjunto de estados clásico es ${0,1}$. Es decir, un qubit es realmente solo un bit, pero al usar este nombre reconocemos explícitamente que este bit puede estar en un estado cuántico.\n",
        "\n",
        "Estos son ejemplos de estados cuánticos de un qubit:\n",
        "\n",
        "$$\n",
        "  \\begin{pmatrix}\n",
        "    1\\\\[2mm]\n",
        "    0\n",
        "  \\end{pmatrix}\n",
        "  = \\vert 0\\rangle\n",
        "  \\quad\\text{and}\\quad\n",
        "  \\begin{pmatrix}\n",
        "    0\\\\[2mm]\n",
        "    1\n",
        "  \\end{pmatrix}\n",
        "  = \\vert 1\\rangle,\n",
        "$$\n",
        "\n",
        "$$ \\begin{pmatrix} \\frac{1}{\\sqrt{2}}\\[2mm] \\frac{1}{\\sqrt{2}} \\end{pmatrix} = \\frac{1}{\\sqrt{2}}\\,\\vert 0\\rangle + \\frac{1}{\\sqrt{2}}\\,\\vert 1\\rangle, \\tag{1} $$ y $$ \\begin{pmatrix} \\frac{1+2i}{3}\\[2mm] -\\frac{2}{3} \\end{pmatrix} = \\frac{1+2i}{3}\\,\\vert 0\\rangle - \\frac{2}{3}\\,\\vert 1\\rangle. $$\n",
        "\n",
        "Los primeros dos ejemplos, $\\vert 0\\rangle$ y $\\vert 1\\rangle$, ilustran que los elementos básicos estándar son vectores de estado cuánticos válidos: sus entradas son números complejos (donde la parte imaginaria de estos números resulta ser $0$ ) y calculando la suma de los valores absolutos al cuadrado de los rendimientos de entradas\n",
        "\n",
        "$$\n",
        "  \\vert 1\\vert^2 + \\vert 0\\vert^2 = 1\n",
        "  \\quad\\text{and}\\quad\n",
        "  \\vert 0\\vert^2 + \\vert 1\\vert^2 = 1,\n",
        "$$\n",
        "\n",
        "según sea necesario. Similar a la configuración clásica, asociamos los vectores de estado cuántico $\\vert 0\\rangle$ y $\\vert 1\\rangle$ con un qubit en el estado clásico $0$ o $1$, respectivamente, con certeza.\n",
        "\n",
        "Para los otros dos ejemplos, nuevamente tenemos entradas de números complejos, y al calcular la suma del valor absoluto al cuadrado de las entradas se obtiene\n",
        "\n",
        "$$\n",
        "  \\biggl\\vert\\frac{1}{\\sqrt{2}}\\biggr\\vert^2 +\n",
        "  \\biggl\\vert\\frac{1}{\\sqrt{2}}\\biggr\\vert^2 = \\frac{1}{2} + \\frac{1}{2} = 1\n",
        "$$\n",
        "\n",
        "y\n",
        "\n",
        "$$\n",
        "  \\biggl\\vert \\frac{1+2i}{3} \\biggr\\vert^2 +\n",
        "  \\biggl\\vert -\\frac{2}{3} \\biggr\\vert^2 = \\frac{5}{9} + \\frac{4}{9} = 1.\n",
        "$$\n",
        "\n",
        "Por lo tanto, estos son vectores de estado cuánticos válidos. Tenga en cuenta que son combinaciones lineales de los estados $\\vert 0 \\rangle$ y $\\vert 1 \\rangle$. A menudo decimos que estos estados son *superposiciones* de los estados $0$ y $1$. Dentro del contexto de los estados cuánticos, \"superposición\" y \"combinación lineal\" son esencialmente sinónimos.\n",
        "\n",
        "El ejemplo $(1)$ de un vector de estado qubit anterior se encuentra con mucha frecuencia: se denomina *estado positivo* y se denota de la siguiente manera:\n",
        "\n",
        "$$\n",
        "  \\vert + \\rangle = \\frac{1}{\\sqrt{2}} \\vert 0\\rangle + \\frac{1}{\\sqrt{2}} \\vert 1\\rangle.\n",
        "$$\n",
        "\n",
        "También usamos la notación\n",
        "\n",
        "$$\n",
        "  \\vert - \\rangle = \\frac{1}{\\sqrt{2}} \\vert 0\\rangle - \\frac{1}{\\sqrt{2}} \\vert 1\\rangle\n",
        "$$\n",
        "\n",
        "para referirse a un vector de estado cuántico relacionado donde la segunda entrada es negativa en lugar de positiva, y llamamos a este estado el *estado negativo* . Este tipo de notación, donde algún símbolo que no sea el que se refiere a un estado clásico aparece dentro de un ket, es común; podemos usar cualquier nombre que deseemos dentro de un ket para nombrar un vector.\n",
        "\n",
        "De hecho, es bastante común usar una notación como $\\vert\\psi\\rangle$, u otros nombres en lugar de $\\psi$, para referirse a vectores arbitrarios que pueden no ser necesariamente un vector base estándar: $\\psi $ es simplemente un nombre para el vector, pero se coloca dentro de un ket, lo que enfatiza que es un vector.\n",
        "\n",
        "Observe que si tenemos un vector $\\vert \\psi \\rangle$ cuyos índices corresponden a algún conjunto de estados clásico $\\Sigma$, y si $a\\in\\Sigma$ es un elemento de este conjunto de estados clásico, entonces la (matriz ) producto $\\langle a\\vert \\vert \\psi\\rangle$ es igual a la entrada del vector $\\vert \\psi \\rangle$ cuyo índice corresponde a $a$. Como hicimos cuando $\\vert \\psi \\rangle$ es un vector base estándar, escribimos $\\langle a \\vert \\psi \\rangle$ en lugar de $\\langle a\\vert \\vert \\psi\\rangle$ por el bien de legibilidad.\n",
        "\n",
        "Por ejemplo, si $\\Sigma = {0,1}$ y\n",
        "\n",
        "$$\n",
        "\\vert \\psi \\rangle =\n",
        "\\frac{1+2i}{3} \\vert 0\\rangle - \\frac{2}{3} \\vert 1\\rangle\n",
        "= \\begin{pmatrix}\n",
        "    \\frac{1+2i}{3}\\\\[2mm]\n",
        "    -\\frac{2}{3}\n",
        "  \\end{pmatrix},\n",
        "  \\tag{2}\n",
        "$$\n",
        "\n",
        "después\n",
        "\n",
        "$$\n",
        "  \\langle 0 \\vert \\psi \\rangle = \\frac{1+2i}{3}\n",
        "  \\quad\\text{and}\\quad\n",
        "  \\langle 1 \\vert \\psi \\rangle = -\\frac{2}{3}.\n",
        "$$\n",
        "\n",
        "Debe entenderse al usar esta notación que $\\langle \\psi \\vert$ se refiere al vector fila obtenido al tomar la *transposición conjugada* del vector columna $\\vert\\psi\\rangle$, donde (además de transponer el vector de un vector columna a un vector fila) cada entrada se reemplaza por su complejo conjugado.\n",
        "\n",
        "Por ejemplo, si $\\vert\\psi\\rangle$ es el vector definido en $(2)$, entonces\n",
        "\n",
        "$$\n",
        "\\langle\\psi\\vert = \\frac{1-2i}{3} \\langle 0\\vert - \\frac{2}{3} \\langle 1\\vert\n",
        "= \\begin{pmatrix}\n",
        "    \\frac{1-2i}{3} &amp;\n",
        "    -\\frac{2}{3}\n",
        "  \\end{pmatrix}.\n",
        "$$\n",
        "\n",
        "La razón por la que tomamos el complejo conjugado, además de la transpuesta, quedará más clara en la Lección 3 cuando discutamos el *producto interno* ."
      ]
    },
    {
      "cell_type": "markdown",
      "id": "a32a6551",
      "metadata": {
      },
      "source": [
        "#### Estados cuánticos de otros sistemas\n",
        "\n",
        "Podemos considerar estados cuánticos de sistemas que tienen conjuntos de estados clásicos arbitrarios.\n",
        "\n",
        "Por ejemplo, aquí hay un vector de estado cuántico para un interruptor de ventilador eléctrico:\n",
        "\n",
        "$$\n",
        "  \\begin{pmatrix}\n",
        "    \\frac{1}{2}\\\\[1mm]\n",
        "    0 \\\\[1mm]\n",
        "    -\\frac{i}{2}\\\\[1mm]\n",
        "    \\frac{1}{\\sqrt{2}}\n",
        "  \\end{pmatrix}\n",
        "  =\n",
        "  \\frac{1}{2} \\vert\\mathrm{high}\\rangle\n",
        "  - \\frac{i}{2} \\vert\\mathrm{low}\\rangle\n",
        "  + \\frac{1}{\\sqrt{2}} \\vert\\mathrm{off}\\rangle.\n",
        "$$\n",
        "\n",
        "La suposición aquí es que los estados clásicos están ordenados como *alto* , *medio* , *bajo* , *apagado* . Puede que no haya ninguna razón particular por la que uno quiera considerar un estado cuántico de un interruptor de ventilador eléctrico, pero en principio es posible.\n",
        "\n",
        "Aquí hay otro ejemplo, esta vez de un dígito decimal cuántico cuyos estados clásicos son $0, 1, \\ldots, 9$:\n",
        "\n",
        "$$\n",
        "  \\frac{1}{\\sqrt{385}}\n",
        "  \\begin{pmatrix}\n",
        "    1\\\\\n",
        "    2\\\\\n",
        "    3\\\\\n",
        "    4\\\\\n",
        "    5\\\\\n",
        "    6\\\\\n",
        "    7\\\\\n",
        "    8\\\\\n",
        "    9\\\\\n",
        "    10\n",
        "  \\end{pmatrix}\n",
        "  =\n",
        "  \\frac{1}{\\sqrt{385}}\\sum_{k = 0}^9 (k+1) \\vert k \\rangle.\n",
        "$$\n",
        "\n",
        "Este ejemplo ilustra la conveniencia de escribir vectores de estado utilizando la notación de Dirac. Para este ejemplo en particular, la representación del vector de columna es simplemente engorrosa, pero si hubiera estados significativamente más clásicos, sería inutilizable. La notación de Dirac, por el contrario, admite descripciones precisas de vectores grandes y complicados en una forma compacta.\n",
        "\n",
        "La notación de Dirac también permite la expresión de vectores donde diferentes aspectos de los vectores son *indeterminados* (es decir, desconocidos o aún no establecidos). Por ejemplo, para un conjunto de estados clásico arbitrario $\\Sigma$, podemos considerar el vector de estado cuántico\n",
        "\n",
        "$$\n",
        "  \\frac{1}{\\sqrt{|\\Sigma|}} \\sum_{a\\in\\Sigma} \\vert a \\rangle,\n",
        "$$\n",
        "\n",
        "que es una superposición uniforme sobre los estados clásicos en $\\Sigma$. (Aquí, la notación $\\vert\\Sigma\\vert$ se refiere al número de elementos en $\\Sigma$).\n",
        "\n",
        "Encontraremos expresiones mucho más complicadas de vectores de estado cuántico en lecciones posteriores, donde el uso de vectores de columna sería poco práctico o imposible. De hecho, en su mayoría abandonaremos la representación de vector de columna de vectores de estado, a excepción de los vectores que tienen una pequeña cantidad de entradas (a menudo en el contexto de los ejemplos), donde puede ser útil mostrar y examinar las entradas explícitamente.\n",
        "\n",
        "Hay una razón más por la que expresar vectores de estado usando la notación de Dirac es generalmente más conveniente: alivia la necesidad de especificar explícitamente un orden de los estados clásicos (o, de manera equivalente, la correspondencia entre estados clásicos e índices vectoriales). Por ejemplo, un vector de estado cuántico para un sistema que tiene el conjunto de estado clásico ${\\clubsuit,\\diamondsuit,\\heartsuit,\\spadesuit}$, como\n",
        "\n",
        "$$\n",
        "    \\frac{1}{2} \\vert\\clubsuit\\rangle\n",
        "  + \\frac{i}{2} \\vert\\diamondsuit\\rangle\n",
        "  - \\frac{1}{2} \\vert\\heartsuit\\rangle\n",
        "  - \\frac{i}{2} \\vert\\spadesuit\\rangle,\n",
        "$$\n",
        "\n",
        "se describe sin ambigüedades por esta expresión, y realmente no hay necesidad de elegir o especificar un orden de este conjunto de estados clásicos para dar sentido a la expresión. En este caso, no es difícil simplemente especificar un orden de los palos de cartas estándar; por ejemplo, podríamos ordenarlos de la siguiente manera: $\\clubsuit$, $\\diamondsuit$, $\\heartsuit$, $\\spadesuit$. Si elegimos este orden particular, el vector de estado cuántico anterior está representado por el vector columna\n",
        "\n",
        "$$\n",
        "\\begin{pmatrix}\n",
        " \\frac{1}{2}\\\\[2mm]\n",
        " \\frac{i}{2}\\\\[2mm]\n",
        " -\\frac{1}{2}\\\\[2mm]\n",
        " -\\frac{i}{2}\n",
        "\\end{pmatrix}.\n",
        "$$\n",
        "\n",
        "En general, sin embargo, es conveniente simplemente ignorar la cuestión de cómo se ordenan los conjuntos de estados clásicos y adoptar la opinión de que los vectores de estados cuánticos están indexados directamente por los estados clásicos."
      ]
    },
    {
      "cell_type": "markdown",
      "id": "b44fece2",
      "metadata": {
      },
      "source": [
        "### 2.2 Medición de estados cuánticos<a id=\"single-systems-quantum-measure\"></a>\n",
        "\n",
        "A continuación, consideremos lo que sucede cuando se *mide* un estado cuántico, centrándonos en un tipo simple de medida conocida como *medida de base estándar* . (Hay nociones más generales de medición que se discutirán más adelante).\n",
        "\n",
        "Similar a la configuración probabilística, cuando se mide un sistema en un estado cuántico, el observador que realiza la medición no verá un vector de estado cuántico, sino un estado clásico. En este sentido, las medidas actúan como interfaz entre la información cuántica y la clásica, a través de la cual se extrae la información clásica de los estados cuánticos.\n",
        "\n",
        "La regla es simple: si se mide un estado cuántico, cada estado clásico del sistema resulta con una probabilidad igual al *valor absoluto al cuadrado* de la entrada en el vector de estado cuántico correspondiente a ese estado clásico. Esto se conoce como la *regla de Born* en mecánica cuántica. Tenga en cuenta que esta regla es consistente con el requisito de que los valores absolutos al cuadrado de las entradas en un vector de estado cuántico suman 1, ya que implica que las probabilidades de los diferentes resultados de la medición del estado clásico suman $1.$\n",
        "\n",
        "Por ejemplo, medir el estado positivo\n",
        "\n",
        "$$\n",
        "  \\vert + \\rangle =\n",
        "  \\frac{1}{\\sqrt{2}} \\vert 0 \\rangle\n",
        "  + \\frac{1}{\\sqrt{2}} \\vert 1 \\rangle\n",
        "$$\n",
        "\n",
        "da como resultado los dos resultados posibles, $0$ y $1,$ con las siguientes probabilidades.\n",
        "\n",
        "$$\n",
        "  \\operatorname{Pr}(\\text{outcome is 0})\n",
        "  = \\bigl\\vert \\langle 0 \\vert + \\rangle \\bigr\\vert^2\n",
        "  = \\biggl\\vert \\frac{1}{\\sqrt{2}} \\biggr\\vert^2\n",
        "  = \\frac{1}{2}\n",
        "$$\n",
        "\n",
        "$$\n",
        "  \\operatorname{Pr}(\\text{outcome is 1})\n",
        "  = \\bigl\\vert \\langle 1 \\vert + \\rangle \\bigr\\vert^2\n",
        "  = \\biggl\\vert \\frac{1}{\\sqrt{2}} \\biggr\\vert^2\n",
        "  = \\frac{1}{2}\n",
        "$$\n",
        "\n",
        "Curiosamente, medir el estado negativo\n",
        "\n",
        "$$\n",
        "  \\vert - \\rangle =\n",
        "  \\frac{1}{\\sqrt{2}} \\vert 0 \\rangle\n",
        "  - \\frac{1}{\\sqrt{2}} \\vert 1 \\rangle\n",
        "$$\n",
        "\n",
        "da como resultado exactamente las mismas probabilidades para los dos resultados.\n",
        "\n",
        "$$\n",
        "  \\operatorname{Pr}(\\text{outcome is 0})\n",
        "  = \\bigl\\vert \\langle 0 \\vert - \\rangle \\bigr\\vert^2\n",
        "  = \\biggl\\vert \\frac{1}{\\sqrt{2}} \\biggr\\vert^2\n",
        "  = \\frac{1}{2}\n",
        "$$\n",
        "\n",
        "$$\n",
        "  \\operatorname{Pr}(\\text{outcome is 1})\n",
        "  = \\bigl\\vert \\langle 1 \\vert - \\rangle \\bigr\\vert^2\n",
        "  = \\biggl\\vert -\\frac{1}{\\sqrt{2}} \\biggr\\vert^2\n",
        "  = \\frac{1}{2}\n",
        "$$\n",
        "\n",
        "Esto sugiere que, en lo que respecta a las medidas de base estándar, los estados positivo y negativo son exactamente iguales. Entonces, ¿por qué deberíamos preocuparnos por hacer una distinción? Comenzaremos a abordar esta pregunta en la Sección 2.3 a continuación.\n",
        "\n",
        "Como ejemplo final, medir el estado\n",
        "\n",
        "$$\n",
        "  \\vert \\psi \\rangle = \\frac{1+2i}{3} \\vert 0\\rangle - \\frac{2}{3} \\vert 1\\rangle\n",
        "$$\n",
        "\n",
        "tiene probabilidades dadas por\n",
        "\n",
        "$$\n",
        "  \\operatorname{Pr}(\\text{outcome is 0})\n",
        "  = \\bigl\\vert \\langle 0 \\vert \\psi \\rangle \\bigr\\vert^2\n",
        "  = \\biggl\\vert \\frac{1+2i}{3} \\biggr\\vert^2\n",
        "  = \\frac{5}{9},\n",
        "$$\n",
        "\n",
        "y\n",
        "\n",
        "$$\n",
        "  \\operatorname{Pr}(\\text{outcome is 1})\n",
        "  = \\bigl\\vert \\langle 1 \\vert \\psi \\rangle \\bigr\\vert^2\n",
        "  = \\biggl\\vert -\\frac{2}{3} \\biggr\\vert^2\n",
        "  = \\frac{4}{9}.\n",
        "$$\n",
        "\n",
        "Por supuesto, medir el estado cuántico $\\vert 0\\rangle$ da como resultado el estado clásico $0$ con certeza, e igualmente medir el estado cuántico $\\vert 1\\rangle$ da como resultado el estado clásico $1$ con certeza. Esto es consistente con la identificación de estos estados cuánticos con el sistema *en* el estado clásico correspondiente, como se sugirió anteriormente."
      ]
    },
    {
      "cell_type": "markdown",
      "id": "dbbdd27b",
      "metadata": {
        "formulas": {
          "conjugate-transpose": {
            "meaning": "This symbol represents the conjugate transpose.<br><a href=\"https://en.wikipedia.org/wiki/Conjugate_transpose\">Read more</a>.",
            "say": "\"Dagger\""
          },
          "identity-matrix": {
            "meaning": "This is the *identity matrix*, which represents the operation that has no effect (i.e., the identity operation)."
          }
        }
      },
      "source": [
        "### 2.3 Operaciones unitarias<a id=\"single-systems-unitary\"></a>\n",
        "\n",
        "Hasta ahora, puede que no sea evidente por qué la información cuántica es fundamentalmente diferente de la información clásica. Es decir, cuando se mide un estado cuántico, la probabilidad de obtener cada estado clásico viene dada por el valor absoluto al cuadrado de la entrada del vector correspondiente; entonces, ¿por qué no simplemente registrar estas probabilidades en un vector de probabilidad?\n",
        "\n",
        "La respuesta, al menos en parte, es que el conjunto de *operaciones* permitidas que se pueden realizar en un estado cuántico es diferente al de la información clásica. Similar a la configuración probabilística, las operaciones en estados cuánticos son mapeos lineales, pero en lugar de estar representadas por matrices estocásticas como en el caso clásico, las operaciones en vectores de estado cuántico están representadas por matrices *unitarias* .\n",
        "\n",
        "Una matriz cuadrada $U$ que tiene entradas de números complejos es unitaria si satisface las ecuaciones\n",
        "\n",
        "$$\n",
        "  \\begin{aligned}\n",
        "    U U^{\\dagger} &amp;= \\class{identity-matrix}{\\mathbb{1}} \\\\\n",
        "    U^{\\class{conjugate-transpose}{\\dagger}} U &amp;= \\class{identity-matrix}{\\mathbb{1}}.\n",
        "  \\end{aligned}\n",
        "$$\n",
        "\n",
        "Aquí, $\\mathbb{1}$ es la matriz identidad, y $U^{\\dagger}$ es la *transpuesta conjugada* de $U$, es decir, la matriz obtenida al transponer $U$ y tomar el conjugado complejo de cada entrada. $$ U^{\\dagger} = \\overline{U^T} $$ Si cualquiera de las igualdades en la ecuación anterior es verdadera, entonces la otra también debe ser verdadera; ambas igualdades equivalen a $U^{\\dagger}$ siendo el inverso de $U$:\n",
        "\n",
        "$$\n",
        "  U^{-1} = U^{\\dagger}.\n",
        "$$\n",
        "\n",
        "(Advertencia: si $M$ no es una matriz cuadrada, entonces podría ser que $M^{\\dagger} M = \\mathbb{1}$ y $MM^{\\dagger} \\not= \\mathbb{1}$ , por ejemplo. La equivalencia de las dos igualdades en la primera ecuación anterior solo es cierta para matrices cuadradas).\n",
        "\n",
        "La condición de que $U$ sea unitario es equivalente a la condición de que la multiplicación por $U$ no cambie la norma euclidiana de ningún vector. Es decir, una matriz $n\\times n$ $U$ es unitaria si y sólo si $\\| U \\vert \\psi \\rangle \\| = \\|\\vert \\psi \\rangle \\|$ para cada vector de columna $n$-dimensional $\\vert \\psi \\rangle$ con entradas de números complejos. Por lo tanto, debido a que el conjunto de todos los vectores de estado cuánticos es el mismo que el conjunto de vectores que tienen una norma euclidiana igual a $ 1, $, la multiplicación de una matriz unitaria por un vector de estado cuántico da como resultado otro vector de estado cuántico.\n",
        "\n",
        "De hecho, las matrices unitarias son exactamente el conjunto de aplicaciones lineales que transforman los vectores de estado cuánticos en otros vectores de estado cuánticos. Nótese aquí una semejanza con el caso probabilístico clásico, donde las operaciones están asociadas a matrices estocásticas, que son las que siempre transforman vectores de probabilidad en vectores de probabilidad.\n",
        "\n",
        "<!-- ::: q-block.exercise -->\n",
        "\n",
        "### Test rápido\n",
        "\n",
        "<!-- ::: q-quiz(goal=\"ss-quiz-0\") -->\n",
        "\n",
        "<!-- ::: .question -->\n",
        "\n",
        "¿Cuál de estas matrices es unitaria?\n",
        "\n",
        "<!-- ::: -->\n",
        "\n",
        "<!-- ::: .option -->\n",
        "\n",
        "1. $\\begin{pmatrix} 1 y 0 \\\\ 1 y 0 \\end{pmatrix}$\n",
        "\n",
        "<!-- ::: -->\n",
        "\n",
        "<!-- ::: .option -->\n",
        "\n",
        "1. $\\begin{pmatrix} 0 &amp; \\frac{1}{2} \\\\ \\frac{-i}{2} &amp; 0 \\end{pmatrix}$\n",
        "\n",
        "<!-- ::: -->\n",
        "\n",
        "<!-- ::: .option(correct) -->\n",
        "\n",
        "1. $\\begin{pmatrix} 1 y 0 \\\\ 0 y yo \\end{pmatrix}$\n",
        "\n",
        "<!-- ::: -->\n",
        "\n",
        "<!-- ::: -->\n",
        "\n",
        "<!-- ::: -->"
      ]
    },
    {
      "cell_type": "markdown",
      "id": "50da89b7",
      "metadata": {
      },
      "source": [
        "#### Ejemplos importantes de operaciones unitarias en qubits\n",
        "\n",
        "La siguiente lista describe algunas operaciones unitarias importantes en qubits.\n",
        "\n",
        "1. *operaciones pauli.* Las cuatro matrices de Pauli son las siguientes:\n",
        "\n",
        "    $$\n",
        "         \\mathbb{1} =\n",
        "         \\begin{pmatrix}\n",
        "           1 &amp; 0\\\\\n",
        "           0 &amp; 1\n",
        "         \\end{pmatrix},\n",
        "         \\quad\n",
        "         \\sigma_x =\n",
        "         \\begin{pmatrix}\n",
        "           0 &amp; 1\\\\\n",
        "           1 &amp; 0\n",
        "         \\end{pmatrix},\n",
        "         \\quad\n",
        "         \\sigma_y =\n",
        "         \\begin{pmatrix}\n",
        "           0 &amp; -i\\\\\n",
        "           i &amp; 0\n",
        "         \\end{pmatrix},\n",
        "         \\quad\n",
        "         \\sigma_z =\n",
        "         \\begin{pmatrix}\n",
        "           1 &amp; 0\\\\\n",
        "           0 &amp; -1\n",
        "         \\end{pmatrix}.\n",
        "       $$\n",
        "\n",
        "    Una notación común, que usaremos con frecuencia, es $X = \\sigma_x$, $Y = \\sigma_y$ y $Z = \\sigma_z$, pero tenga en cuenta que las letras $X$, $Y$ y $Z $ también se usan comúnmente para otros fines. La operación $\\sigma_x$ (o $X$) también se denomina operación de cambio de *bit* o *NOT* porque induce esta acción en los bits:\n",
        "\n",
        "    $$\n",
        "         \\sigma_x \\vert 0\\rangle = \\vert 1\\rangle\n",
        "         \\quad \\text{and} \\quad\n",
        "         \\sigma_x \\vert 1\\rangle = \\vert 0\\rangle.\n",
        "       $$\n",
        "\n",
        "    La operación $\\sigma_z$ (o $Z$) también se denomina cambio de *fase* porque tiene esta acción:\n",
        "\n",
        "    $$\n",
        "         \\sigma_z \\vert 0\\rangle = \\vert 0\\rangle\n",
        "         \\quad \\text{and} \\quad\n",
        "         \\sigma_z \\vert 1\\rangle = - \\vert 1\\rangle.\n",
        "       $$\n",
        "\n",
        "2. *Operación Hadamard* . La operación de Hadamard se describe mediante esta matriz:\n",
        "\n",
        "    $$\n",
        "         H = \\begin{pmatrix}\n",
        "           \\frac{1}{\\sqrt{2}} &amp; \\frac{1}{\\sqrt{2}} \\\\[2mm]\n",
        "           \\frac{1}{\\sqrt{2}} &amp; -\\frac{1}{\\sqrt{2}}\n",
        "         \\end{pmatrix}.\n",
        "       $$\n",
        "\n",
        "3. *Operaciones de fase.* Una operación de fase es aquella descrita por la matriz\n",
        "\n",
        "    $$\n",
        "         P_{\\theta} =\n",
        "         \\begin{pmatrix}\n",
        "           1 &amp; 0\\\\\n",
        "           0 &amp; e^{i\\theta}\n",
        "         \\end{pmatrix}\n",
        "       $$\n",
        "\n",
        "    para cualquier elección de un número real $\\theta$. las operaciones\n",
        "\n",
        "    $$\n",
        "         S = P_{\\pi/2} =\n",
        "         \\begin{pmatrix}\n",
        "           1 &amp; 0\\\\\n",
        "           0 &amp; i\n",
        "         \\end{pmatrix}\n",
        "         \\quad\\text{and}\\quad\n",
        "         T\n",
        "         = P_{\\pi/4}\n",
        "         =\n",
        "         \\begin{pmatrix}\n",
        "           1 &amp; 0\\\\\n",
        "           0 &amp; \\frac{1 + i}{\\sqrt{2}}\n",
        "         \\end{pmatrix}\n",
        "       $$\n",
        "\n",
        "    son ejemplos particularmente importantes. Otros ejemplos incluyen $\\mathbb{1} = P_0$ y $\\sigma_z = P_{\\pi}$.\n",
        "\n",
        "Todas las matrices recién definidas son unitarias y, por lo tanto, representan operaciones cuánticas en un solo qubit.\n",
        "\n",
        "Por ejemplo, aquí hay un cálculo que verifica que $H$ es unitario:\n",
        "\n",
        "$$\n",
        "  \\begin{aligned}\n",
        "  \\begin{pmatrix}\n",
        "    \\frac{1}{\\sqrt{2}} &amp; \\frac{1}{\\sqrt{2}} \\\\[2mm]\n",
        "    \\frac{1}{\\sqrt{2}} &amp; -\\frac{1}{\\sqrt{2}}\n",
        "  \\end{pmatrix}^{\\dagger}\n",
        "  \\begin{pmatrix}\n",
        "    \\frac{1}{\\sqrt{2}} &amp; \\frac{1}{\\sqrt{2}} \\\\[2mm]\n",
        "    \\frac{1}{\\sqrt{2}} &amp; -\\frac{1}{\\sqrt{2}}\n",
        "  \\end{pmatrix}\n",
        "  &amp; =\n",
        "  \\begin{pmatrix}\n",
        "    \\frac{1}{\\sqrt{2}} &amp; \\frac{1}{\\sqrt{2}} \\\\[2mm]\n",
        "    \\frac{1}{\\sqrt{2}} &amp; -\\frac{1}{\\sqrt{2}}\n",
        "  \\end{pmatrix}\n",
        "  \\begin{pmatrix}\n",
        "    \\frac{1}{\\sqrt{2}} &amp; \\frac{1}{\\sqrt{2}} \\\\[2mm]\n",
        "    \\frac{1}{\\sqrt{2}} &amp; -\\frac{1}{\\sqrt{2}}\n",
        "  \\end{pmatrix}\\\\[2mm]\n",
        "  &amp; = \\begin{pmatrix}\n",
        "    \\frac{1}{2} + \\frac{1}{2} &amp; \\frac{1}{2} - \\frac{1}{2}\\\\[2mm]\n",
        "    \\frac{1}{2} - \\frac{1}{2} &amp; \\frac{1}{2} + \\frac{1}{2}\n",
        "  \\end{pmatrix}\\\\[2mm]\n",
        "  &amp; =\n",
        "  \\begin{pmatrix}\n",
        "    1 &amp; 0\\\\\n",
        "    0 &amp; 1\n",
        "  \\end{pmatrix}.\n",
        "  \\end{aligned}\n",
        "$$\n",
        "\n",
        "Aquí está la acción de la operación de Hadamard en algunos vectores de estado de qubit.\n",
        "\n",
        "$$\n",
        "   \\begin{aligned}\n",
        "  H \\vert 0 \\rangle &amp; =\n",
        "  \\begin{pmatrix}\n",
        "    \\frac{1}{\\sqrt{2}} &amp; \\frac{1}{\\sqrt{2}} \\\\[2mm]\n",
        "    \\frac{1}{\\sqrt{2}} &amp; -\\frac{1}{\\sqrt{2}}\n",
        "  \\end{pmatrix}\n",
        "  \\begin{pmatrix}\n",
        "    1\\\\[2mm]\n",
        "    0\n",
        "  \\end{pmatrix}\n",
        "  =\n",
        "  \\begin{pmatrix}\n",
        "    \\frac{1}{\\sqrt{2}}\\\\[2mm]\n",
        "    \\frac{1}{\\sqrt{2}}\n",
        "  \\end{pmatrix}\n",
        "  = \\vert + \\rangle,\\\\[2mm]\n",
        "  H \\vert 1 \\rangle\n",
        "  &amp; =\n",
        "  \\begin{pmatrix}\n",
        "    \\frac{1}{\\sqrt{2}} &amp; \\frac{1}{\\sqrt{2}} \\\\[2mm]\n",
        "    \\frac{1}{\\sqrt{2}} &amp; -\\frac{1}{\\sqrt{2}}\n",
        "  \\end{pmatrix}\n",
        "  \\begin{pmatrix}\n",
        "    0\\\\[2mm]\n",
        "    1\n",
        "  \\end{pmatrix}\n",
        "  =\n",
        "  \\begin{pmatrix}\n",
        "    \\frac{1}{\\sqrt{2}}\\\\[2mm]\n",
        "    -\\frac{1}{\\sqrt{2}}\n",
        "  \\end{pmatrix}\n",
        "  = \\vert - \\rangle,\\\\[2mm]\n",
        "  H \\vert + \\rangle\n",
        "  &amp; =\n",
        "  \\begin{pmatrix}\n",
        "    \\frac{1}{\\sqrt{2}} &amp; \\frac{1}{\\sqrt{2}} \\\\[2mm]\n",
        "    \\frac{1}{\\sqrt{2}} &amp; -\\frac{1}{\\sqrt{2}}\n",
        "  \\end{pmatrix}\n",
        "  \\begin{pmatrix}\n",
        "    \\frac{1}{\\sqrt{2}}\\\\[2mm]\n",
        "    \\frac{1}{\\sqrt{2}}\n",
        "  \\end{pmatrix}\n",
        "  =\n",
        "  \\begin{pmatrix}\n",
        "    1\\\\[2mm]\n",
        "    0\n",
        "  \\end{pmatrix}\n",
        "  = \\vert 0 \\rangle,\\\\[2mm]\n",
        "  H \\vert - \\rangle\n",
        "  &amp; =\n",
        "  \\begin{pmatrix}\n",
        "    \\frac{1}{\\sqrt{2}} &amp; \\frac{1}{\\sqrt{2}} \\\\[2mm]\n",
        "    \\frac{1}{\\sqrt{2}} &amp; -\\frac{1}{\\sqrt{2}}\n",
        "  \\end{pmatrix}\n",
        "  \\begin{pmatrix}\n",
        "    \\frac{1}{\\sqrt{2}}\\\\[2mm]\n",
        "    -\\frac{1}{\\sqrt{2}}\n",
        "  \\end{pmatrix}\n",
        "  =\n",
        "  \\begin{pmatrix}\n",
        "    0\\\\[2mm]\n",
        "    1\n",
        "  \\end{pmatrix}\n",
        "  = \\vert 1 \\rangle\n",
        "  \\end{aligned}\n",
        "$$\n",
        "\n",
        "y\n",
        "\n",
        "$$\n",
        "  \\begin{aligned}\n",
        "    H \\biggl(\\frac{1+2i}{3} \\vert 0\\rangle - \\frac{2}{3} \\vert 1\\rangle\\biggr)\n",
        "    &amp; =\n",
        "    \\begin{pmatrix}\n",
        "      \\frac{1}{\\sqrt{2}} &amp; \\frac{1}{\\sqrt{2}} \\\\[2mm]\n",
        "      \\frac{1}{\\sqrt{2}} &amp; -\\frac{1}{\\sqrt{2}}\n",
        "    \\end{pmatrix}\n",
        "    \\begin{pmatrix}\n",
        "      \\frac{1+2i}{3}\\\\[2mm]\n",
        "      -\\frac{2}{3}\n",
        "    \\end{pmatrix}\\\\[2mm]\n",
        "    &amp; =\n",
        "    \\begin{pmatrix}\n",
        "      \\frac{-1+2i}{3\\sqrt{2}}\\\\[2mm]\n",
        "      \\frac{3+2i}{3\\sqrt{2}}\n",
        "    \\end{pmatrix}\\\\[2mm]\n",
        "    &amp; =\n",
        "    \\frac{-1+2i}{3\\sqrt{2}} | 0 \\rangle\n",
        "    + \\frac{3+2i}{3\\sqrt{2}} | 1 \\rangle\n",
        "  \\end{aligned}\n",
        "$$\n",
        "\n",
        "El último de estos ejemplos no es importante, pero vale la pena resumir los demás de manera más sucinta.\n",
        "\n",
        "$$\n",
        "  \\begin{aligned}\n",
        "    H \\vert 0 \\rangle &amp; = \\vert + \\rangle,\\\\[2mm]\n",
        "    H \\vert 1 \\rangle &amp; = \\vert - \\rangle,\\\\[2mm]\n",
        "    H \\vert + \\rangle &amp; = \\vert 0 \\rangle,\\\\[2mm]\n",
        "    H \\vert - \\rangle &amp; = \\vert 1 \\rangle\n",
        "  \\end{aligned}\n",
        "$$\n",
        "\n",
        "Vale la pena detenerse a considerar el hecho de que $H\\vert +\\rangle = \\vert 0\\rangle$ y $H\\vert -\\rangle = \\vert 1\\rangle$. Considere una situación en la que se prepara un qubit en uno de los dos estados cuánticos $\\vert +\\rangle$ y $\\vert -\\rangle$, pero no sabemos cuál es. Medir cualquiera de los estados produce la misma distribución de salida que el otro: $0$ y $1$ aparecen con la misma probabilidad $1/2.$ Por lo tanto, hacer esto no proporciona información sobre cuál de los dos estados $\\vert +\\rangle$ y $\\ vert -\\rangle$ se preparó originalmente. Sin embargo, si aplicamos una operación de Hadamard y luego medimos, obtenemos el resultado $0$ con certeza si el estado original era $\\vert +\\rangle$ y obtenemos el resultado $1,$ nuevamente con certeza, si el estado original era $ \\vert -\\rangle$. Así, los estados cuánticos $\\vert +\\rangle$ y $\\vert -\\rangle$ se pueden discriminar *perfectamente* . Esto revela que los cambios de signo, o más generalmente los cambios en las *fases* (que también se denominan tradicionalmente *argumentos* ) de las entradas de números complejos de un vector de estado cuántico, pueden cambiar significativamente ese estado.\n",
        "\n",
        "Aquí hay otro ejemplo, esta vez de la acción de una operación $T$ en un estado positivo.\n",
        "\n",
        "$$\n",
        "  T \\vert +\\rangle\n",
        "  = T \\biggl(\\frac{1}{\\sqrt{2}} \\vert 0\\rangle + \\frac{1}{\\sqrt{2}} \\vert 1\\rangle\\biggr)\n",
        "  = \\frac{1}{\\sqrt{2}} T\\vert 0\\rangle + \\frac{1}{\\sqrt{2}} T\\vert 1\\rangle\n",
        "  = \\frac{1}{\\sqrt{2}} \\vert 0\\rangle + \\frac{1+i}{2} \\vert 1\\rangle\n",
        "$$\n",
        "\n",
        "Observe aquí que no nos molestamos en convertir a las formas de matriz/vector equivalentes, y en su lugar usamos la linealidad de la multiplicación de matrices junto con las fórmulas\n",
        "\n",
        "$$\n",
        "T \\vert 0\\rangle = \\vert 0\\rangle\n",
        "\\quad\\text{and}\\quad\n",
        "T \\vert 1\\rangle = \\frac{1 + i}{\\sqrt{2}} \\vert 1\\rangle.\n",
        "$$\n",
        "\n",
        "De manera similar, podemos calcular el resultado de aplicar una operación de Hadamard al vector de estado cuántico que acabamos de obtener:\n",
        "\n",
        "$$\n",
        "\\begin{aligned}\n",
        "H\\,  \\biggl(\\frac{1}{\\sqrt{2}} \\vert 0\\rangle + \\frac{1+i}{2} \\vert 1\\rangle\\biggr)\n",
        "&amp; = \\frac{1}{\\sqrt{2}} H \\vert 0\\rangle + \\frac{1+i}{2} H \\vert 1\\rangle\\\\\n",
        "&amp; = \\frac{1}{\\sqrt{2}} \\vert +\\rangle + \\frac{1+i}{2} \\vert -\\rangle \\\\\n",
        "&amp; = \\biggl(\\frac{1}{2} \\vert 0\\rangle + \\frac{1}{2} \\vert 1\\rangle\\biggr)\n",
        "+ \\biggl(\\frac{1+i}{2\\sqrt{2}} \\vert 0\\rangle - \\frac{1+i}{2\\sqrt{2}} \\vert 1\\rangle\\biggr)\\\\\n",
        "&amp; = \\biggl(\\frac{1}{2} + \\frac{1+i}{2\\sqrt{2}}\\biggr) \\vert 0\\rangle\n",
        "+ \\biggl(\\frac{1}{2} - \\frac{1+i}{2\\sqrt{2}}\\biggr) \\vert 1\\rangle.\n",
        "\\end{aligned}\n",
        "$$\n",
        "\n",
        "Los dos enfoques, uno en el que convertimos explícitamente a representaciones matriciales y el otro en el que usamos la linealidad y conectamos las acciones de una operación en estados de base estándar, son equivalentes. Podemos utilizar el que más nos convenga en el caso que nos ocupa.\n",
        "\n",
        "#### Composiciones de operaciones unitarias de qubit\n",
        "\n",
        "Las composiciones de operaciones unitarias se representan mediante la multiplicación de matrices, tal como lo hicimos en el entorno probabilístico. Por ejemplo, si primero aplicamos una operación de Hadamard, seguida de la operación $S$, seguida de otra operación de Hadamard, la operación resultante (a la que llamaremos $R$) es la siguiente:\n",
        "\n",
        "$$\n",
        "  R = H S H =\n",
        "  \\begin{pmatrix}\n",
        "    \\frac{1}{\\sqrt{2}} &amp; \\frac{1}{\\sqrt{2}} \\\\[2mm]\n",
        "    \\frac{1}{\\sqrt{2}} &amp; -\\frac{1}{\\sqrt{2}}\n",
        "  \\end{pmatrix}\n",
        "  \\begin{pmatrix}\n",
        "    1 &amp; 0\\\\\n",
        "    0 &amp; i\n",
        "  \\end{pmatrix}\n",
        "  \\begin{pmatrix}\n",
        "    \\frac{1}{\\sqrt{2}} &amp; \\frac{1}{\\sqrt{2}} \\\\[2mm]\n",
        "    \\frac{1}{\\sqrt{2}} &amp; -\\frac{1}{\\sqrt{2}}\n",
        "  \\end{pmatrix}\n",
        "  =\n",
        "  \\begin{pmatrix}\n",
        "    \\frac{1+i}{2} &amp; \\frac{1-i}{2} \\\\[2mm]\n",
        "    \\frac{1-i}{2} &amp; \\frac{1+i}{2}\n",
        "  \\end{pmatrix}.\n",
        "$$\n",
        "\n",
        "Esta operación unitaria $R$ es un ejemplo interesante. Aplicando esta operación dos veces, lo que equivale a elevar al cuadrado su representación matricial, obtenemos una operación NOT:\n",
        "\n",
        "$$\n",
        "  R^2 =\n",
        "  \\begin{pmatrix}\n",
        "    \\frac{1+i}{2} &amp; \\frac{1-i}{2} \\\\[2mm]\n",
        "    \\frac{1-i}{2} &amp; \\frac{1+i}{2}\n",
        "  \\end{pmatrix}^2\n",
        "  =\n",
        "  \\begin{pmatrix}\n",
        "    0 &amp; 1 \\\\[2mm]\n",
        "    1 &amp; 0\n",
        "  \\end{pmatrix}.\n",
        "$$\n",
        "\n",
        "Es decir, $R$ es una *raíz cuadrada de la operación NOT* . Tal comportamiento, donde la misma operación se aplica dos veces para generar una operación NOT, no es posible para una operación clásica en un solo bit. Esto está relacionado con el hecho de que no puedes sacar la raíz cuadrada de un número negativo y quedarte en la línea real.\n",
        "\n",
        "Puede usar el componente interactivo a continuación para componer una secuencia de operaciones unitarias de qubit. Le muestra tanto la representación matricial de la operación unitaria resultante como su acción en el estado $\\vert 0\\rangle$, que consideramos el estado inicializado predeterminado de un qubit. Para especificar la secuencia, arrastre las operaciones que le gustaría realizar en el qubit hacia la línea: la operación más a la izquierda se aplica primero y la más a la derecha se aplica al final. Diagramas como este representan *circuitos cuánticos* , que se analizan con mayor detalle y generalidad en la Lección 3."
      ]
    },
    {
      "cell_type": "markdown",
      "id": "ed49552c",
      "metadata": {
        "scrolled": true
      },
      "source": [
        "<!-- ::: q-block -->\n",
        "\n",
        "### Caja de arena de circuito\n",
        "\n",
        "```\n",
        "q-circuit-sandbox-widget(goal=\"single-systems-circuit-sandbox\")\n",
        "    .availableGates X Y Z H S T\n",
        "    .instructions Drag the operations down onto the circuit to see how they transform the qubit.\n",
        "    .explanation The <strong>matrix</strong> display shows the unitary matrix of the circuit (i.e., of all the operations composed together). The <strong>state vector</strong> display shows the state of the qubit after the operations act on it.\n",
        "```\n",
        "\n",
        "<!-- ::: -->"
      ]
    },
    {
      "cell_type": "markdown",
      "id": "e3b623b4",
      "metadata": {
        "formulas": {
          "_u00": {
            "meaning": "The probability amplitude of this operation transforming the input qubit from 0 → 0."
          },
          "_u01": {
            "meaning": "The probability amplitude of this operation transforming the input qubit from 0 → 1."
          },
          "_u02": {
            "meaning": "The probability amplitude of this operation transforming the input qubit from 0 → 2."
          },
          "_u10": {
            "meaning": "The probability amplitude of this operation transforming the input qubit from 1 → 0."
          },
          "_u11": {
            "meaning": "The probability amplitude of this operation transforming the input qubit from 1 → 1."
          },
          "_u12": {
            "meaning": "The probability amplitude of this operation transforming the input qubit from 1 → 2."
          },
          "_u20": {
            "meaning": "The probability amplitude of this operation transforming the input qubit from 2 → 0."
          },
          "_u21": {
            "meaning": "The probability amplitude of this operation transforming the input qubit from 2 → 1."
          },
          "_u22": {
            "meaning": "The probability amplitude of this operation transforming the input qubit from 2 → 2."
          }
        }
      },
      "source": [
        "#### Operaciones unitarias en sistemas más grandes\n",
        "\n",
        "En lecciones posteriores, veremos muchos ejemplos de operaciones unitarias en sistemas que tienen más de dos estados clásicos. La siguiente matriz da un ejemplo de una operación unitaria en un sistema que tiene tres estados clásicos.\n",
        "\n",
        "$$\n",
        "  A =\n",
        "  \\begin{pmatrix}\n",
        "    \\class{_u00}{0} &amp; \\class{_u10}{0} &amp; \\class{_u20}{1} \\\\\n",
        "    \\class{_u01}{1} &amp; \\class{_u11}{0} &amp; \\class{_u21}{0} \\\\\n",
        "    \\class{_u02}{0} &amp; \\class{_u12}{1} &amp; \\class{_u22}{0}\n",
        "  \\end{pmatrix}\n",
        "$$\n",
        "\n",
        "Asumiendo que los estados clásicos del sistema son $0,$ $1,$ y $2,$ podemos describir esta operación como suma módulo $3.$\n",
        "\n",
        "$$\n",
        "  A \\vert 0\\rangle = \\vert 1\\rangle,\n",
        "  \\quad\n",
        "  A \\vert 1\\rangle = \\vert 2\\rangle,\n",
        "  \\quad\\text{and}\\quad\n",
        "  A \\vert 2\\rangle = \\vert 0\\rangle\n",
        "$$\n",
        "\n",
        "La matriz $A$ es un ejemplo de *matriz de permutación* , que es una matriz en la que cada fila y columna tiene exactamente un $1.$ Tales matrices solo reordenan, o permutan, las entradas del vector sobre el que actúa. La identidad es la matriz de permutación más simple; otro ejemplo es la operación NOT en un bit o qubit. Toda matriz de permutación, en cualquier dimensión entera positiva, es unitaria. Estos son los únicos ejemplos de matrices que representan tanto operaciones clásicas como cuánticas: una matriz es tanto estocástica como unitaria si y solo si es una matriz de permutación.\n",
        "\n",
        "Otro ejemplo de una matriz unitaria, esta vez siendo una matriz $4\\times 4$, es esta:\n",
        "\n",
        "$$\n",
        "  U =\n",
        "  \\frac{1}{2}\n",
        "  \\begin{pmatrix}\n",
        "    1 &amp; 1 &amp; 1 &amp; 1 \\\\\n",
        "    1 &amp; i &amp; -1 &amp; -i \\\\\n",
        "    1 &amp; -1 &amp; 1 &amp; -1 \\\\\n",
        "    1 &amp; -i &amp; -1 &amp; i\n",
        "  \\end{pmatrix}.\n",
        "$$\n",
        "\n",
        "Esta matriz describe una operación conocida como *transformada cuántica de Fourier* , específicamente en el caso $4\\times 4$. La transformada cuántica de Fourier se puede definir de manera más general, para cualquier dimensión entera positiva $n$, y jugará un papel clave en la Unidad 2 sobre algoritmos cuánticos."
      ]
    },
    {
      "cell_type": "markdown",
      "id": "defaab70",
      "metadata": {
      },
      "source": [
        "## 3. Implementaciones de Qiskit\n",
        "\n",
        "En esta sección presentamos algunos ejemplos de implementaciones de Qiskit de los conceptos presentados en esta lección.\n",
        "\n",
        "### 3.1 Vectores y matrices en Python\n",
        "\n",
        "Qiskit usa el lenguaje de programación Python, por lo que antes de discutir Qiskit específicamente, puede ser útil discutir muy brevemente los cálculos de matrices y vectores en Python. En Python, los cálculos matriciales y vectoriales se pueden realizar utilizando la clase de `array` de la biblioteca `NumPy` (que incluye muchos componentes adicionales para el cálculo numérico).\n",
        "\n",
        "Este es un ejemplo de una celda de código que define dos vectores, `ket0` y `ket1` , correspondientes a los vectores de estado de qubit $\\vert 0\\rangle$ y $\\vert 1\\rangle$, y muestra su promedio."
      ]
    },
    {
      "cell_type": "code",
      "execution_count": null,
      "id": "d76964d8",
      "metadata": {
      },
      "outputs": [

      ],
      "source": [
        "from numpy import array\n",
        "\n",
        "ket0 = array([1, 0])\n",
        "ket1 = array([0, 1])\n",
        "\n",
        "display(ket0/2 + ket1/2)"
      ]
    },
    {
      "cell_type": "markdown",
      "id": "07f77c64",
      "metadata": {
      },
      "source": [
        "En realidad, no es necesario usar explícitamente el comando de `display` para ver el resultado de este cálculo. En su lugar, podemos simplemente escribir la expresión de interés como la última línea de la celda de código, y se devolverá como su salida:"
      ]
    },
    {
      "cell_type": "code",
      "execution_count": null,
      "id": "b51320d3",
      "metadata": {
      },
      "outputs": [

      ],
      "source": [
        "ket0/2 + ket1/2"
      ]
    },
    {
      "cell_type": "markdown",
      "id": "c33bdaa6",
      "metadata": {
      },
      "source": [
        "Esta celda de código también ilustra que la ejecución secuencial de celdas de código en una página determinada de este libro de texto tiene un efecto acumulativo, por lo que no es necesario volver a cargar la clase de `array` o definir `ket0` y `ket1` nuevamente. Sin embargo, volver a cargar la página o cambiar a otra página restablecerá todo a su estado inicial.\n",
        "\n",
        "Como pauta general, las celdas de código dentro de cada subsección numerada de este curso están diseñadas para ejecutarse secuencialmente. Por lo tanto, si ejecutar una celda de código genera un error, asegúrese de ejecutar primero todas las celdas de código anteriores dentro de la subsección en la que aparece esa celda de código."
      ]
    },
    {
      "cell_type": "markdown",
      "id": "963b22d1",
      "metadata": {
      },
      "source": [
        "También podemos usar `array` para crear matrices que representen operaciones."
      ]
    },
    {
      "cell_type": "code",
      "execution_count": null,
      "id": "11733a15",
      "metadata": {
        "scrolled": true
      },
      "outputs": [

      ],
      "source": [
        "M1 = array([[1, 1], [0, 0]])\n",
        "M2 = array([[1, 1], [1, 0]])\n",
        "\n",
        "M1/2 + M2/2"
      ]
    },
    {
      "cell_type": "markdown",
      "id": "947648f3",
      "metadata": {
      },
      "source": [
        "La multiplicación de matrices (incluida la multiplicación de matriz-vector como un caso especial) se puede realizar utilizando la función `matmul` de `NumPy` :"
      ]
    },
    {
      "cell_type": "code",
      "execution_count": null,
      "id": "ade2c9dc",
      "metadata": {
      },
      "outputs": [

      ],
      "source": [
        "from numpy import matmul\n",
        "\n",
        "display(matmul(M1,ket1))\n",
        "display(matmul(M1,M2))\n",
        "display(matmul(M2,M1))"
      ]
    },
    {
      "cell_type": "markdown",
      "id": "20e10506",
      "metadata": {
      },
      "source": [
        "### 3.2 Estados, medidas y operaciones en Qiskit\n",
        "\n",
        "Qiskit incluye varias clases que permiten crear y manipular fácilmente estados, medidas y operaciones, por lo que no es necesario comenzar desde cero y programar todo lo que se necesita para simular estados cuánticos, medidas y operaciones en Python. A continuación se incluyen algunos ejemplos para empezar.\n",
        "\n",
        "#### Definición y visualización de vectores de estado\n",
        "\n",
        "La clase Statevector de `Statevector` proporciona funcionalidad para definir y manipular vectores de estado cuánticos. La siguiente celda de código importa la clase `Statevector` y define algunos vectores usándola:"
      ]
    },
    {
      "cell_type": "code",
      "execution_count": null,
      "id": "36e7b320",
      "metadata": {
      },
      "outputs": [

      ],
      "source": [
        "from qiskit.quantum_info import Statevector\n",
        "from numpy import sqrt\n",
        "\n",
        "u = Statevector([1/sqrt(2), 1/sqrt(2)])\n",
        "v = Statevector([(1+2.j)/3, -2/3])\n",
        "w = Statevector([1/3, 2/3])\n",
        "\n",
        "print(\"State vectors u, v, and w have been defined.\")"
      ]
    },
    {
      "cell_type": "markdown",
      "id": "70e704a3",
      "metadata": {
      },
      "source": [
        "(Tenga en cuenta que necesitamos la función `sqrt` de la biblioteca `NumPy` para calcular las raíces cuadradas del vector `u` ).\n",
        "\n",
        "La clase `Statevector` proporciona un método de `draw` para mostrar vectores de estado, incluidas opciones de `latex` y `text` para diferentes visualizaciones, como lo demuestra esta celda de código:"
      ]
    },
    {
      "cell_type": "code",
      "execution_count": null,
      "id": "aad3460f",
      "metadata": {
      },
      "outputs": [

      ],
      "source": [
        "display(u.draw('latex'))\n",
        "display(v.draw('text'))"
      ]
    },
    {
      "cell_type": "markdown",
      "id": "61448553",
      "metadata": {
      },
      "source": [
        "La clase `Statevector` también incluye el método `is_valid` , que verifica si un vector dado es un vector de estado cuántico válido (es decir, que tiene una norma euclidiana igual a 1):"
      ]
    },
    {
      "cell_type": "code",
      "execution_count": null,
      "id": "68dc6a1b",
      "metadata": {
        "scrolled": true
      },
      "outputs": [

      ],
      "source": [
        "display(u.is_valid())\n",
        "display(v.is_valid())\n",
        "display(w.is_valid())"
      ]
    },
    {
      "cell_type": "markdown",
      "id": "26918a81",
      "metadata": {
      },
      "source": [
        "#### Simulación de medidas usando `Statevector`\n",
        "\n",
        "A continuación, veremos una forma en que se pueden simular medidas de estados cuánticos en Qiskit, utilizando el método de `measure` de la clase `Statevector` .\n",
        "\n",
        "Primero, creamos un vector de estado qubit `v` y luego lo mostramos."
      ]
    },
    {
      "cell_type": "code",
      "execution_count": null,
      "id": "d811bcf2",
      "metadata": {
      },
      "outputs": [

      ],
      "source": [
        "v = Statevector([(1+2.j)/3, -2/3])\n",
        "v.draw('latex')"
      ]
    },
    {
      "cell_type": "markdown",
      "id": "cdd4d5e1",
      "metadata": {
      },
      "source": [
        "(Tenga en cuenta que las celdas de código se pueden modificar, así que continúe y cambie la especificación del vector si lo desea. Alternativamente, puede usar el bloc de notas a la derecha para experimentar con celdas de código).\n",
        "\n",
        "A continuación, ejecutar el método de `measure` simula una medida de base estándar. Devuelve el resultado de esa medida, más el nuevo estado cuántico de nuestro sistema después de esa medida."
      ]
    },
    {
      "cell_type": "code",
      "execution_count": null,
      "id": "0eeafda1",
      "metadata": {
        "scrolled": true
      },
      "outputs": [

      ],
      "source": [
        "v.measure()"
      ]
    },
    {
      "cell_type": "markdown",
      "id": "b4843cbc",
      "metadata": {
      },
      "source": [
        "Los resultados de la medición son probabilísticos, por lo que el mismo método puede arrojar resultados diferentes. Intente ejecutar la celda varias veces para ver esto.\n",
        "\n",
        "Para el ejemplo particular del vector `v` definido anteriormente, el método de `measure` define el vector de estado cuántico después de que se lleva a cabo la medición para ser\n",
        "\n",
        "$$\n",
        "\\frac{1 + 2i}{\\sqrt{3}} \\vert 0\\rangle\n",
        "$$\n",
        "\n",
        "(en lugar de $\\vert 0\\rangle$) o\n",
        "\n",
        "$$\n",
        "- \\vert 1\\rangle\n",
        "$$\n",
        "\n",
        "(en lugar de $\\vert 1\\rangle$), según el resultado de la medición. En ambos casos, las alternativas son, de hecho, equivalentes: se dice que *difieren en una fase global* porque una es igual a la otra multiplicada por un número complejo en el círculo unitario. Este problema se analiza con mayor detalle en la Lección 3 y puede ignorarse con seguridad por ahora.\n",
        "\n",
        "Aparte, `Statevector` generará un error si el método de `measure` se aplica a un vector de estado cuántico no válido. ¡Adelante, prueba si estás tan inclinado!\n",
        "\n",
        "`Statevector` también viene con un método `sample_counts` que permite la simulación de cualquier número de mediciones en el sistema. Por ejemplo, la siguiente celda muestra el resultado de medir el vector `v` $1000$ veces, lo que (con alta probabilidad) da como resultado $0$ aproximadamente $5$ de cada $9$ veces (o alrededor de $556$ de las pruebas de $1000$) y el resultado $1$ aproximadamente $4$ de cada $9$ veces (o alrededor de $444$ de las pruebas de $1000$). La celda también muestra la función `plot_histogram` para visualizar los resultados."
      ]
    },
    {
      "cell_type": "code",
      "execution_count": null,
      "id": "fde6ccf9",
      "metadata": {
        "scrolled": false
      },
      "outputs": [

      ],
      "source": [
        "from qiskit.visualization import plot_histogram\n",
        "\n",
        "statistics = v.sample_counts(1000)\n",
        "display(statistics)\n",
        "plot_histogram(statistics)"
      ]
    },
    {
      "cell_type": "markdown",
      "id": "dccc139c",
      "metadata": {
      },
      "source": [
        "Probar diferentes cantidades de muestras en lugar de $ 1000 $ puede ser útil para desarrollar cierta intuición sobre cómo la cantidad de pruebas influye en las probabilidades estimadas."
      ]
    },
    {
      "cell_type": "markdown",
      "id": "326d298e",
      "metadata": {
      },
      "source": [
        "#### Realización de operaciones con `Operator` y `Statevector`\n",
        "\n",
        "Las operaciones unitarias se pueden definir y realizar en vectores de estado en Qiskit utilizando la clase `Operator` , como en el siguiente ejemplo."
      ]
    },
    {
      "cell_type": "code",
      "execution_count": null,
      "id": "4fe2e414",
      "metadata": {
      },
      "outputs": [

      ],
      "source": [
        "from qiskit.quantum_info import Operator\n",
        "\n",
        "X = Operator([[0,1],[1,0]])\n",
        "Y = Operator([[0,-1.j],[1.j,0]])\n",
        "Z = Operator([[1,0],[0,-1]])\n",
        "H = Operator([[1/sqrt(2),1/sqrt(2)],[1/sqrt(2),-1/sqrt(2)]])\n",
        "S = Operator([[1,0],[0,1.j]])\n",
        "T = Operator([[1,0],[0,(1+1.j)/sqrt(2)]])\n",
        "\n",
        "v = Statevector([1,0])\n",
        "\n",
        "v = v.evolve(H)\n",
        "v = v.evolve(T)\n",
        "v = v.evolve(H)\n",
        "v = v.evolve(T)\n",
        "v = v.evolve(Z)\n",
        "\n",
        "v.draw('latex')"
      ]
    },
    {
      "cell_type": "markdown",
      "id": "fafda2cc",
      "metadata": {
      },
      "source": [
        "#### Mirando hacia el futuro hacia los circuitos cuánticos\n",
        "\n",
        "Los circuitos cuánticos no se presentarán formalmente hasta la lección 3, pero aún así podemos experimentar con la composición de operaciones unitarias de qubit utilizando la clase QuantumCircuit de `QuantumCircuit` . En particular, podemos definir un circuito cuántico (que en este caso será simplemente una secuencia de operaciones unitarias realizadas en un solo qubit) de la siguiente manera."
      ]
    },
    {
      "cell_type": "code",
      "execution_count": null,
      "id": "68490946",
      "metadata": {
      },
      "outputs": [

      ],
      "source": [
        "from qiskit import QuantumCircuit\n",
        "\n",
        "circuit = QuantumCircuit(1)\n",
        "\n",
        "circuit.h(0)\n",
        "circuit.t(0)\n",
        "circuit.h(0)\n",
        "circuit.t(0)\n",
        "circuit.z(0)\n",
        "\n",
        "circuit.draw()"
      ]
    },
    {
      "cell_type": "markdown",
      "id": "8426be38",
      "metadata": {
      },
      "source": [
        "Las operaciones se aplican secuencialmente, comenzando por la izquierda y terminando por la derecha en la figura. Primero inicialicemos un vector de estado cuántico inicial y luego evolucionemos ese estado de acuerdo con la secuencia de operaciones."
      ]
    },
    {
      "cell_type": "code",
      "execution_count": null,
      "id": "5a81f9bf",
      "metadata": {
      },
      "outputs": [

      ],
      "source": [
        "ket0 = Statevector([1,0])\n",
        "v = ket0.evolve(circuit)\n",
        "v.draw('latex')"
      ]
    },
    {
      "cell_type": "markdown",
      "id": "fc2b9797",
      "metadata": {
      },
      "source": [
        "Finalmente, simulemos el resultado de ejecutar este experimento (es decir, preparar el estado $\\vert 0\\rangle$, aplicar la secuencia de operaciones representada por el circuito y medir) 4000 veces."
      ]
    },
    {
      "cell_type": "code",
      "execution_count": null,
      "id": "26dec838",
      "metadata": {
        "scrolled": true
      },
      "outputs": [

      ],
      "source": [
        "statistics = v.sample_counts(4000)\n",
        "plot_histogram(statistics)"
      ]
    }
  ],
  "metadata": {
    "kernelspec": {
      "display_name": "Python 3",
      "language": "python",
      "name": "python3"
    },
    "language_info": {
      "codemirror_mode": {
        "name": "ipython",
        "version": 3
      },
      "file_extension": ".py",
      "mimetype": "text/x-python",
      "name": "python",
      "nbconvert_exporter": "python",
      "pygments_lexer": "ipython3",
      "version": "3.9"
    }
  },
  "nbformat": 4,
  "nbformat_minor": 5
}
